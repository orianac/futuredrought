{
 "cells": [
  {
   "cell_type": "code",
   "execution_count": 1,
   "metadata": {},
   "outputs": [
    {
     "name": "stderr",
     "output_type": "stream",
     "text": [
      "/srv/conda/envs/notebook/lib/python3.7/site-packages/ipykernel_launcher.py:9: TqdmExperimentalWarning: Using `tqdm.autonotebook.tqdm` in notebook mode. Use `tqdm.tqdm` instead to force console mode (e.g. in jupyter console)\n",
      "  if __name__ == '__main__':\n",
      "/srv/conda/envs/notebook/lib/python3.7/site-packages/intake/source/discovery.py:136: FutureWarning: The drivers ['geojson', 'postgis', 'shapefile', 'spatialite'] do not specify entry_points and were only discovered via a package scan. This may break in a future release of intake. The packages should be updated.\n",
      "  FutureWarning)\n"
     ]
    }
   ],
   "source": [
    "%matplotlib inline\n",
    "from matplotlib import pyplot as plt\n",
    "import numpy as np\n",
    "import pandas as pd\n",
    "import xarray as xr\n",
    "import xesmf as xe\n",
    "import cartopy\n",
    "import cartopy.crs as ccrs\n",
    "from tqdm.autonotebook import tqdm  # Fancy progress bars for our loops!\n",
    "import intake\n",
    "import gcsfs\n",
    "import fsspec\n",
    "import xesmf as xe\n",
    "import warnings\n",
    "import fiona\n",
    "import rasterio\n",
    "import regionmask\n",
    "warnings.filterwarnings('ignore')\n",
    "\n",
    "import geopandas as gpd\n",
    "\n",
    "\n",
    "# util.py is in the local directory\n",
    "# it contains code that is common across project notebooks\n",
    "# or routines that are too extensive and might otherwise clutter\n",
    "# the notebook design\n",
    "col_url = 'https://raw.githubusercontent.com/orianac/futuredrought/develop/pangeo-zarr-cmip6.json'\n",
    "# col_url = \"https://raw.githubusercontent.com/NCAR/intake-esm-datastore/master/catalogs/pangeo-cmip6.json\"\n",
    "col = intake.open_esm_datastore(col_url)"
   ]
  },
  {
   "cell_type": "code",
   "execution_count": 2,
   "metadata": {},
   "outputs": [],
   "source": [
    "pd.set_option('display.max_rows', 250) # so that we can see all of the different experiments available"
   ]
  },
  {
   "cell_type": "code",
   "execution_count": 3,
   "metadata": {},
   "outputs": [],
   "source": [
    " # Different variable options : \n",
    "#'mrro' - runoff\n",
    "#'snw' - SWE\n",
    " #hfls - latent heat\n",
    " # mrros - surface runoff\n",
    " # mrso - soil moisture\n",
    " # pr - precipitation\n",
    " # tas - mean daily air temperature\n",
    " # prra - rainfall rate\n",
    " # prsn - snowfall rate\n",
    "\n",
    "variable_of_interest = 'mrro'"
   ]
  },
  {
   "cell_type": "markdown",
   "metadata": {},
   "source": [
    "# load your dataset at the timestep you want (monthly or daily)"
   ]
  },
  {
   "cell_type": "code",
   "execution_count": 13,
   "metadata": {},
   "outputs": [],
   "source": [
    "\n",
    "analysis_timestep = 'Lmon' # or 'day'\n",
    "cat = col.search(experiment_id=['historical', \n",
    "                                'ssp585'], \n",
    "#                                'ssp370',\n",
    "#                                 'ssp126', \n",
    "#                                 'ssp245',],#, 'ssp126', 'ssp245', 'ssp370'],\n",
    "                 source_id='CESM2',\n",
    "                 table_id=analysis_timestep,             \n",
    "                 variable_id=variable_of_interest) \n",
    "# this is a hack just to get around the different grid_label strings\n",
    "cat.df['grid_label']='gn'"
   ]
  },
  {
   "cell_type": "code",
   "execution_count": 15,
   "metadata": {},
   "outputs": [
    {
     "name": "stderr",
     "output_type": "stream",
     "text": [
      "Dataset(s):   0%|                                        | 0/1 [00:00<?, ?it/s]"
     ]
    },
    {
     "name": "stdout",
     "output_type": "stream",
     "text": [
      "\n",
      "--> The keys in the returned dictionary of datasets are constructed as follows:\n",
      "\t'activity_id.institution_id.source_id.experiment_id.table_id.grid_label'\n"
     ]
    },
    {
     "name": "stderr",
     "output_type": "stream",
     "text": [
      "Dataset(s): 100%|████████████████████████████████| 1/1 [00:08<00:00,  8.23s/it]\n"
     ]
    }
   ],
   "source": [
    "dset_dict = cat.to_dataset_dict(zarr_kwargs={'consolidated': True, 'decode_times': False})\n"
   ]
  },
  {
   "cell_type": "code",
   "execution_count": 28,
   "metadata": {},
   "outputs": [
    {
     "data": {
      "text/plain": [
       "array([-90.        , -89.0575943 , -88.11518097, -87.17277527,\n",
       "       -86.23036957, -85.28795624, -84.34555054, -83.40314484,\n",
       "       -82.46073151, -81.51832581, -80.57591248, -79.63350677,\n",
       "       -78.69110107, -77.74868774, -76.80628204, -75.86387634,\n",
       "       -74.92146301, -73.97905731, -73.03665161, -72.09423828,\n",
       "       -71.15183258, -70.20942688, -69.26701355, -68.32460785,\n",
       "       -67.38220215, -66.43978882, -65.49738312, -64.55497742,\n",
       "       -63.61256409, -62.67015839, -61.72774887, -60.78533936,\n",
       "       -59.84293365, -58.90052414, -57.95811462, -57.01570511,\n",
       "       -56.07329941, -55.13088989, -54.18848038, -53.24607468,\n",
       "       -52.30366516, -51.36125565, -50.41884995, -49.47644043,\n",
       "       -48.53403091, -47.5916214 , -46.6492157 , -45.70680618,\n",
       "       -44.76439667, -43.82199097, -42.87958145, -41.93717194,\n",
       "       -40.99476624, -40.05235672, -39.1099472 , -38.16753769,\n",
       "       -37.22513199, -36.28272247, -35.34031296, -34.39790726,\n",
       "       -33.45549774, -32.51308823, -31.57068062, -30.62827301,\n",
       "       -29.68586349, -28.74345589, -27.80104637, -26.85863876,\n",
       "       -25.91623116, -24.97382164, -24.03141403, -23.08900452,\n",
       "       -22.14659691, -21.2041893 , -20.26177979, -19.31937218,\n",
       "       -18.37696266, -17.43455505, -16.49214745, -15.54973793,\n",
       "       -14.60732937, -13.66492176, -12.7225132 , -11.78010464,\n",
       "       -10.83769608,  -9.89528751,  -8.95287991,  -8.01047134,\n",
       "        -7.06806278,  -6.12565422,  -5.18324614,  -4.24083757,\n",
       "        -3.29842925,  -2.35602093,  -1.4136126 ,  -0.47120419,\n",
       "         0.47120419,   1.4136126 ,   2.35602093,   3.29842925,\n",
       "         4.24083757,   5.18324614,   6.12565422,   7.06806278,\n",
       "         8.01047134,   8.95287991,   9.89528751,  10.83769608,\n",
       "        11.78010464,  12.7225132 ,  13.66492176,  14.60732937,\n",
       "        15.54973793,  16.49214745,  17.43455505,  18.37696266,\n",
       "        19.31937218,  20.26177979,  21.2041893 ,  22.14659691,\n",
       "        23.08900452,  24.03141403,  24.97382164,  25.91623116,\n",
       "        26.85863876,  27.80104637,  28.74345589,  29.68586349,\n",
       "        30.62827301,  31.57068062,  32.51308823,  33.45549774,\n",
       "        34.39790726,  35.34031296,  36.28272247,  37.22513199,\n",
       "        38.16753769,  39.1099472 ,  40.05235672,  40.99476624,\n",
       "        41.93717194,  42.87958145,  43.82199097,  44.76439667,\n",
       "        45.70680618,  46.6492157 ,  47.5916214 ,  48.53403091,\n",
       "        49.47644043,  50.41884995,  51.36125565,  52.30366516,\n",
       "        53.24607468,  54.18848038,  55.13088989,  56.07329941,\n",
       "        57.01570511,  57.95811462,  58.90052414,  59.84293365,\n",
       "        60.78533936,  61.72774887,  62.67015839,  63.61256409,\n",
       "        64.55497742,  65.49738312,  66.43978882,  67.38220215,\n",
       "        68.32460785,  69.26701355,  70.20942688,  71.15183258,\n",
       "        72.09423828,  73.03665161,  73.97905731,  74.92146301,\n",
       "        75.86387634,  76.80628204,  77.74868774,  78.69110107,\n",
       "        79.63350677,  80.57591248,  81.51832581,  82.46073151,\n",
       "        83.40314484,  84.34555054,  85.28795624,  86.23036957,\n",
       "        87.17277527,  88.11518097,  89.0575943 ,  90.        ])"
      ]
     },
     "execution_count": 28,
     "metadata": {},
     "output_type": "execute_result"
    }
   ],
   "source": [
    "dset_dict['CMIP.NCAR.CESM2.historical.Lmon.gn'].mrro.isel(time=1).lat.values"
   ]
  },
  {
   "cell_type": "code",
   "execution_count": 29,
   "metadata": {},
   "outputs": [
    {
     "data": {
      "text/plain": [
       "array([  0.  ,   1.25,   2.5 ,   3.75,   5.  ,   6.25,   7.5 ,   8.75,\n",
       "        10.  ,  11.25,  12.5 ,  13.75,  15.  ,  16.25,  17.5 ,  18.75,\n",
       "        20.  ,  21.25,  22.5 ,  23.75,  25.  ,  26.25,  27.5 ,  28.75,\n",
       "        30.  ,  31.25,  32.5 ,  33.75,  35.  ,  36.25,  37.5 ,  38.75,\n",
       "        40.  ,  41.25,  42.5 ,  43.75,  45.  ,  46.25,  47.5 ,  48.75,\n",
       "        50.  ,  51.25,  52.5 ,  53.75,  55.  ,  56.25,  57.5 ,  58.75,\n",
       "        60.  ,  61.25,  62.5 ,  63.75,  65.  ,  66.25,  67.5 ,  68.75,\n",
       "        70.  ,  71.25,  72.5 ,  73.75,  75.  ,  76.25,  77.5 ,  78.75,\n",
       "        80.  ,  81.25,  82.5 ,  83.75,  85.  ,  86.25,  87.5 ,  88.75,\n",
       "        90.  ,  91.25,  92.5 ,  93.75,  95.  ,  96.25,  97.5 ,  98.75,\n",
       "       100.  , 101.25, 102.5 , 103.75, 105.  , 106.25, 107.5 , 108.75,\n",
       "       110.  , 111.25, 112.5 , 113.75, 115.  , 116.25, 117.5 , 118.75,\n",
       "       120.  , 121.25, 122.5 , 123.75, 125.  , 126.25, 127.5 , 128.75,\n",
       "       130.  , 131.25, 132.5 , 133.75, 135.  , 136.25, 137.5 , 138.75,\n",
       "       140.  , 141.25, 142.5 , 143.75, 145.  , 146.25, 147.5 , 148.75,\n",
       "       150.  , 151.25, 152.5 , 153.75, 155.  , 156.25, 157.5 , 158.75,\n",
       "       160.  , 161.25, 162.5 , 163.75, 165.  , 166.25, 167.5 , 168.75,\n",
       "       170.  , 171.25, 172.5 , 173.75, 175.  , 176.25, 177.5 , 178.75,\n",
       "       180.  , 181.25, 182.5 , 183.75, 185.  , 186.25, 187.5 , 188.75,\n",
       "       190.  , 191.25, 192.5 , 193.75, 195.  , 196.25, 197.5 , 198.75,\n",
       "       200.  , 201.25, 202.5 , 203.75, 205.  , 206.25, 207.5 , 208.75,\n",
       "       210.  , 211.25, 212.5 , 213.75, 215.  , 216.25, 217.5 , 218.75,\n",
       "       220.  , 221.25, 222.5 , 223.75, 225.  , 226.25, 227.5 , 228.75,\n",
       "       230.  , 231.25, 232.5 , 233.75, 235.  , 236.25, 237.5 , 238.75,\n",
       "       240.  , 241.25, 242.5 , 243.75, 245.  , 246.25, 247.5 , 248.75,\n",
       "       250.  , 251.25, 252.5 , 253.75, 255.  , 256.25, 257.5 , 258.75,\n",
       "       260.  , 261.25, 262.5 , 263.75, 265.  , 266.25, 267.5 , 268.75,\n",
       "       270.  , 271.25, 272.5 , 273.75, 275.  , 276.25, 277.5 , 278.75,\n",
       "       280.  , 281.25, 282.5 , 283.75, 285.  , 286.25, 287.5 , 288.75,\n",
       "       290.  , 291.25, 292.5 , 293.75, 295.  , 296.25, 297.5 , 298.75,\n",
       "       300.  , 301.25, 302.5 , 303.75, 305.  , 306.25, 307.5 , 308.75,\n",
       "       310.  , 311.25, 312.5 , 313.75, 315.  , 316.25, 317.5 , 318.75,\n",
       "       320.  , 321.25, 322.5 , 323.75, 325.  , 326.25, 327.5 , 328.75,\n",
       "       330.  , 331.25, 332.5 , 333.75, 335.  , 336.25, 337.5 , 338.75,\n",
       "       340.  , 341.25, 342.5 , 343.75, 345.  , 346.25, 347.5 , 348.75,\n",
       "       350.  , 351.25, 352.5 , 353.75, 355.  , 356.25, 357.5 , 358.75])"
      ]
     },
     "execution_count": 29,
     "metadata": {},
     "output_type": "execute_result"
    }
   ],
   "source": [
    "dset_dict['CMIP.NCAR.CESM2.historical.Lmon.gn'].mrro.isel(time=1).lon.values"
   ]
  },
  {
   "cell_type": "code",
   "execution_count": 9,
   "metadata": {},
   "outputs": [],
   "source": [
    "future_slice = slice('2070','2099')\n",
    "historical_slice = slice('1985','2014')\n",
    "slices = {'historical': slice('1985','2014'),\n",
    "          'ssp585': slice('2070','2099')}\n",
    "slices_ranges = {'historical': pd.date_range('1985-01-01', '2014-12-31', freq='M'),\n",
    "                 'ssp585': pd.date_range('2070-01-01', '2099-12-31', freq='M')}"
   ]
  },
  {
   "cell_type": "code",
   "execution_count": 10,
   "metadata": {},
   "outputs": [
    {
     "name": "stdout",
     "output_type": "stream",
     "text": [
      "\n",
      "--> The keys in the returned dictionary of datasets are constructed as follows:\n",
      "\t'activity_id.institution_id.source_id.experiment_id.table_id.grid_label'\n"
     ]
    },
    {
     "ename": "KeyError",
     "evalue": "('ScenarioMIP', 'IPSL', 'IPSL-CM6A-LR', 'ssp585', 'Lmon', 'gr')",
     "output_type": "error",
     "traceback": [
      "\u001b[0;31m---------------------------------------------------------------------------\u001b[0m",
      "\u001b[0;31mKeyError\u001b[0m                                  Traceback (most recent call last)",
      "\u001b[0;32m/srv/conda/envs/notebook/lib/python3.7/site-packages/intake_esm/core.py\u001b[0m in \u001b[0;36m__getitem__\u001b[0;34m(self, key)\u001b[0m\n\u001b[1;32m    232\u001b[0m         \u001b[0;32mtry\u001b[0m\u001b[0;34m:\u001b[0m\u001b[0;34m\u001b[0m\u001b[0;34m\u001b[0m\u001b[0m\n\u001b[0;32m--> 233\u001b[0;31m             \u001b[0;32mreturn\u001b[0m \u001b[0mself\u001b[0m\u001b[0;34m.\u001b[0m\u001b[0m_entries\u001b[0m\u001b[0;34m[\u001b[0m\u001b[0mkey\u001b[0m\u001b[0;34m]\u001b[0m\u001b[0;34m\u001b[0m\u001b[0;34m\u001b[0m\u001b[0m\n\u001b[0m\u001b[1;32m    234\u001b[0m         \u001b[0;32mexcept\u001b[0m \u001b[0mKeyError\u001b[0m\u001b[0;34m:\u001b[0m\u001b[0;34m\u001b[0m\u001b[0;34m\u001b[0m\u001b[0m\n",
      "\u001b[0;31mKeyError\u001b[0m: 'ScenarioMIP.IPSL.IPSL-CM6A-LR.ssp585.Lmon.gr'",
      "\nDuring handling of the above exception, another exception occurred:\n",
      "\u001b[0;31mKeyError\u001b[0m                                  Traceback (most recent call last)",
      "\u001b[0;32m<ipython-input-10-70778db7a8cd>\u001b[0m in \u001b[0;36m<module>\u001b[0;34m\u001b[0m\n\u001b[0;32m----> 1\u001b[0;31m \u001b[0mdset_dict\u001b[0m \u001b[0;34m=\u001b[0m \u001b[0mcat\u001b[0m\u001b[0;34m.\u001b[0m\u001b[0mto_dataset_dict\u001b[0m\u001b[0;34m(\u001b[0m\u001b[0mzarr_kwargs\u001b[0m\u001b[0;34m=\u001b[0m\u001b[0;34m{\u001b[0m\u001b[0;34m'consolidated'\u001b[0m\u001b[0;34m:\u001b[0m \u001b[0;32mTrue\u001b[0m\u001b[0;34m,\u001b[0m \u001b[0;34m'decode_times'\u001b[0m\u001b[0;34m:\u001b[0m \u001b[0;32mFalse\u001b[0m\u001b[0;34m}\u001b[0m\u001b[0;34m)\u001b[0m\u001b[0;34m\u001b[0m\u001b[0;34m\u001b[0m\u001b[0m\n\u001b[0m\u001b[1;32m      2\u001b[0m \u001b[0;34m\u001b[0m\u001b[0m\n\u001b[1;32m      3\u001b[0m \u001b[0mds_dict\u001b[0m \u001b[0;34m=\u001b[0m \u001b[0;34m{\u001b[0m\u001b[0;34m}\u001b[0m\u001b[0;34m\u001b[0m\u001b[0;34m\u001b[0m\u001b[0m\n\u001b[1;32m      4\u001b[0m \u001b[0;32mfor\u001b[0m \u001b[0mname\u001b[0m\u001b[0;34m,\u001b[0m \u001b[0mds\u001b[0m \u001b[0;32min\u001b[0m \u001b[0mtqdm\u001b[0m\u001b[0;34m(\u001b[0m\u001b[0mdset_dict\u001b[0m\u001b[0;34m.\u001b[0m\u001b[0mitems\u001b[0m\u001b[0;34m(\u001b[0m\u001b[0;34m)\u001b[0m\u001b[0;34m)\u001b[0m\u001b[0;34m:\u001b[0m\u001b[0;34m\u001b[0m\u001b[0;34m\u001b[0m\u001b[0m\n\u001b[1;32m      5\u001b[0m     \u001b[0;32mtry\u001b[0m\u001b[0;34m:\u001b[0m\u001b[0;34m\u001b[0m\u001b[0;34m\u001b[0m\u001b[0m\n",
      "\u001b[0;32m/srv/conda/envs/notebook/lib/python3.7/site-packages/intake_esm/core.py\u001b[0m in \u001b[0;36mto_dataset_dict\u001b[0;34m(self, zarr_kwargs, cdf_kwargs, preprocess, storage_options, progressbar)\u001b[0m\n\u001b[1;32m    581\u001b[0m                 \u001b[0;32mreturn\u001b[0m \u001b[0msource\u001b[0m\u001b[0;34m.\u001b[0m\u001b[0mto_dask\u001b[0m\u001b[0;34m(\u001b[0m\u001b[0;34m)\u001b[0m\u001b[0;34m\u001b[0m\u001b[0;34m\u001b[0m\u001b[0m\n\u001b[1;32m    582\u001b[0m \u001b[0;34m\u001b[0m\u001b[0m\n\u001b[0;32m--> 583\u001b[0;31m             \u001b[0msources\u001b[0m \u001b[0;34m=\u001b[0m \u001b[0;34m[\u001b[0m\u001b[0msource\u001b[0m\u001b[0;34m(\u001b[0m\u001b[0;34m**\u001b[0m\u001b[0msource_kwargs\u001b[0m\u001b[0;34m)\u001b[0m \u001b[0;32mfor\u001b[0m \u001b[0m_\u001b[0m\u001b[0;34m,\u001b[0m \u001b[0msource\u001b[0m \u001b[0;32min\u001b[0m \u001b[0mself\u001b[0m\u001b[0;34m.\u001b[0m\u001b[0mitems\u001b[0m\u001b[0;34m(\u001b[0m\u001b[0;34m)\u001b[0m\u001b[0;34m]\u001b[0m\u001b[0;34m\u001b[0m\u001b[0;34m\u001b[0m\u001b[0m\n\u001b[0m\u001b[1;32m    584\u001b[0m \u001b[0;34m\u001b[0m\u001b[0m\n\u001b[1;32m    585\u001b[0m             \u001b[0;32mif\u001b[0m \u001b[0mself\u001b[0m\u001b[0;34m.\u001b[0m\u001b[0mprogressbar\u001b[0m\u001b[0;34m:\u001b[0m\u001b[0;34m\u001b[0m\u001b[0;34m\u001b[0m\u001b[0m\n",
      "\u001b[0;32m/srv/conda/envs/notebook/lib/python3.7/site-packages/intake/catalog/base.py\u001b[0m in \u001b[0;36mitems\u001b[0;34m(self)\u001b[0m\n\u001b[1;32m    261\u001b[0m     \u001b[0;32mdef\u001b[0m \u001b[0mitems\u001b[0m\u001b[0;34m(\u001b[0m\u001b[0mself\u001b[0m\u001b[0;34m)\u001b[0m\u001b[0;34m:\u001b[0m\u001b[0;34m\u001b[0m\u001b[0;34m\u001b[0m\u001b[0m\n\u001b[1;32m    262\u001b[0m         \u001b[0;34m\"\"\"Get an iterator over (key, value) tuples for the catalog entries.\"\"\"\u001b[0m\u001b[0;34m\u001b[0m\u001b[0;34m\u001b[0m\u001b[0m\n\u001b[0;32m--> 263\u001b[0;31m         \u001b[0;32mreturn\u001b[0m \u001b[0mself\u001b[0m\u001b[0;34m.\u001b[0m\u001b[0m_get_entries\u001b[0m\u001b[0;34m(\u001b[0m\u001b[0;34m)\u001b[0m\u001b[0;34m.\u001b[0m\u001b[0mitems\u001b[0m\u001b[0;34m(\u001b[0m\u001b[0;34m)\u001b[0m\u001b[0;34m\u001b[0m\u001b[0;34m\u001b[0m\u001b[0m\n\u001b[0m\u001b[1;32m    264\u001b[0m \u001b[0;34m\u001b[0m\u001b[0m\n\u001b[1;32m    265\u001b[0m     \u001b[0;32mdef\u001b[0m \u001b[0mserialize\u001b[0m\u001b[0;34m(\u001b[0m\u001b[0mself\u001b[0m\u001b[0;34m)\u001b[0m\u001b[0;34m:\u001b[0m\u001b[0;34m\u001b[0m\u001b[0;34m\u001b[0m\u001b[0m\n",
      "\u001b[0;32m/srv/conda/envs/notebook/lib/python3.7/site-packages/intake_esm/core.py\u001b[0m in \u001b[0;36m_get_entries\u001b[0;34m(self)\u001b[0m\n\u001b[1;32m    200\u001b[0m         \u001b[0mmissing\u001b[0m \u001b[0;34m=\u001b[0m \u001b[0mset\u001b[0m\u001b[0;34m(\u001b[0m\u001b[0mself\u001b[0m\u001b[0;34m.\u001b[0m\u001b[0mkeys\u001b[0m\u001b[0;34m(\u001b[0m\u001b[0;34m)\u001b[0m\u001b[0;34m)\u001b[0m \u001b[0;34m-\u001b[0m \u001b[0mset\u001b[0m\u001b[0;34m(\u001b[0m\u001b[0mself\u001b[0m\u001b[0;34m.\u001b[0m\u001b[0m_entries\u001b[0m\u001b[0;34m.\u001b[0m\u001b[0mkeys\u001b[0m\u001b[0;34m(\u001b[0m\u001b[0;34m)\u001b[0m\u001b[0;34m)\u001b[0m\u001b[0;34m\u001b[0m\u001b[0;34m\u001b[0m\u001b[0m\n\u001b[1;32m    201\u001b[0m         \u001b[0;32mfor\u001b[0m \u001b[0mkey\u001b[0m \u001b[0;32min\u001b[0m \u001b[0mmissing\u001b[0m\u001b[0;34m:\u001b[0m\u001b[0;34m\u001b[0m\u001b[0;34m\u001b[0m\u001b[0m\n\u001b[0;32m--> 202\u001b[0;31m             \u001b[0m_\u001b[0m \u001b[0;34m=\u001b[0m \u001b[0mself\u001b[0m\u001b[0;34m[\u001b[0m\u001b[0mkey\u001b[0m\u001b[0;34m]\u001b[0m\u001b[0;34m\u001b[0m\u001b[0;34m\u001b[0m\u001b[0m\n\u001b[0m\u001b[1;32m    203\u001b[0m         \u001b[0;32mreturn\u001b[0m \u001b[0mself\u001b[0m\u001b[0;34m.\u001b[0m\u001b[0m_entries\u001b[0m\u001b[0;34m\u001b[0m\u001b[0;34m\u001b[0m\u001b[0m\n\u001b[1;32m    204\u001b[0m \u001b[0;34m\u001b[0m\u001b[0m\n",
      "\u001b[0;32m/srv/conda/envs/notebook/lib/python3.7/site-packages/intake_esm/core.py\u001b[0m in \u001b[0;36m__getitem__\u001b[0;34m(self, key)\u001b[0m\n\u001b[1;32m    235\u001b[0m             \u001b[0;32mif\u001b[0m \u001b[0mkey\u001b[0m \u001b[0;32min\u001b[0m \u001b[0mself\u001b[0m\u001b[0;34m.\u001b[0m\u001b[0mkeys\u001b[0m\u001b[0;34m(\u001b[0m\u001b[0;34m)\u001b[0m\u001b[0;34m:\u001b[0m\u001b[0;34m\u001b[0m\u001b[0;34m\u001b[0m\u001b[0m\n\u001b[1;32m    236\u001b[0m                 \u001b[0m_key\u001b[0m \u001b[0;34m=\u001b[0m \u001b[0mtuple\u001b[0m\u001b[0;34m(\u001b[0m\u001b[0mkey\u001b[0m\u001b[0;34m.\u001b[0m\u001b[0msplit\u001b[0m\u001b[0;34m(\u001b[0m\u001b[0mself\u001b[0m\u001b[0;34m.\u001b[0m\u001b[0msep\u001b[0m\u001b[0;34m)\u001b[0m\u001b[0;34m)\u001b[0m\u001b[0;34m\u001b[0m\u001b[0;34m\u001b[0m\u001b[0m\n\u001b[0;32m--> 237\u001b[0;31m                 \u001b[0mdf\u001b[0m \u001b[0;34m=\u001b[0m \u001b[0mself\u001b[0m\u001b[0;34m.\u001b[0m\u001b[0m_grouped\u001b[0m\u001b[0;34m.\u001b[0m\u001b[0mget_group\u001b[0m\u001b[0;34m(\u001b[0m\u001b[0m_key\u001b[0m\u001b[0;34m)\u001b[0m\u001b[0;34m\u001b[0m\u001b[0;34m\u001b[0m\u001b[0m\n\u001b[0m\u001b[1;32m    238\u001b[0m                 \u001b[0mself\u001b[0m\u001b[0;34m.\u001b[0m\u001b[0m_entries\u001b[0m\u001b[0;34m[\u001b[0m\u001b[0mkey\u001b[0m\u001b[0;34m]\u001b[0m \u001b[0;34m=\u001b[0m \u001b[0m_make_entry\u001b[0m\u001b[0;34m(\u001b[0m\u001b[0mkey\u001b[0m\u001b[0;34m,\u001b[0m \u001b[0mdf\u001b[0m\u001b[0;34m,\u001b[0m \u001b[0mself\u001b[0m\u001b[0;34m.\u001b[0m\u001b[0maggregation_info\u001b[0m\u001b[0;34m)\u001b[0m\u001b[0;34m\u001b[0m\u001b[0;34m\u001b[0m\u001b[0m\n\u001b[1;32m    239\u001b[0m                 \u001b[0;32mreturn\u001b[0m \u001b[0mself\u001b[0m\u001b[0;34m.\u001b[0m\u001b[0m_entries\u001b[0m\u001b[0;34m[\u001b[0m\u001b[0mkey\u001b[0m\u001b[0;34m]\u001b[0m\u001b[0;34m\u001b[0m\u001b[0;34m\u001b[0m\u001b[0m\n",
      "\u001b[0;32m/srv/conda/envs/notebook/lib/python3.7/site-packages/pandas/core/groupby/groupby.py\u001b[0m in \u001b[0;36mget_group\u001b[0;34m(self, name, obj)\u001b[0m\n\u001b[1;32m    678\u001b[0m         \u001b[0minds\u001b[0m \u001b[0;34m=\u001b[0m \u001b[0mself\u001b[0m\u001b[0;34m.\u001b[0m\u001b[0m_get_index\u001b[0m\u001b[0;34m(\u001b[0m\u001b[0mname\u001b[0m\u001b[0;34m)\u001b[0m\u001b[0;34m\u001b[0m\u001b[0;34m\u001b[0m\u001b[0m\n\u001b[1;32m    679\u001b[0m         \u001b[0;32mif\u001b[0m \u001b[0;32mnot\u001b[0m \u001b[0mlen\u001b[0m\u001b[0;34m(\u001b[0m\u001b[0minds\u001b[0m\u001b[0;34m)\u001b[0m\u001b[0;34m:\u001b[0m\u001b[0;34m\u001b[0m\u001b[0;34m\u001b[0m\u001b[0m\n\u001b[0;32m--> 680\u001b[0;31m             \u001b[0;32mraise\u001b[0m \u001b[0mKeyError\u001b[0m\u001b[0;34m(\u001b[0m\u001b[0mname\u001b[0m\u001b[0;34m)\u001b[0m\u001b[0;34m\u001b[0m\u001b[0;34m\u001b[0m\u001b[0m\n\u001b[0m\u001b[1;32m    681\u001b[0m \u001b[0;34m\u001b[0m\u001b[0m\n\u001b[1;32m    682\u001b[0m         \u001b[0;32mreturn\u001b[0m \u001b[0mobj\u001b[0m\u001b[0;34m.\u001b[0m\u001b[0mtake\u001b[0m\u001b[0;34m(\u001b[0m\u001b[0minds\u001b[0m\u001b[0;34m,\u001b[0m \u001b[0maxis\u001b[0m\u001b[0;34m=\u001b[0m\u001b[0mself\u001b[0m\u001b[0;34m.\u001b[0m\u001b[0maxis\u001b[0m\u001b[0;34m)\u001b[0m\u001b[0;34m\u001b[0m\u001b[0;34m\u001b[0m\u001b[0m\n",
      "\u001b[0;31mKeyError\u001b[0m: ('ScenarioMIP', 'IPSL', 'IPSL-CM6A-LR', 'ssp585', 'Lmon', 'gr')"
     ]
    }
   ],
   "source": [
    "dset_dict = cat.to_dataset_dict(zarr_kwargs={'consolidated': True, 'decode_times': False})\n",
    "\n",
    "ds_dict = {}\n",
    "for name, ds in tqdm(dset_dict.items()):\n",
    "    try:\n",
    "# rename spatial dimensions if necessary\n",
    "        if ('longitude' in ds.dims) and ('latitude' in ds.dims):\n",
    "            ds = ds.rename({'longitude':'lon', 'latitude': 'lat'}) # some models labelled dimensions differently...\n",
    "        ds = xr.decode_cf(ds) # temporary hack, not sure why I need this but has to do with calendar-aware metadata on the time variable\n",
    "    #     ds = ds.sel(time=time_slice) # subset the data for the time period of interest\n",
    "\n",
    "        # drop redundant variables (like \"height: 2m\")\n",
    "        for coord in ds.coords:\n",
    "            if coord not in ['lat','lon','time']:\n",
    "                ds = ds.drop(coord)\n",
    "\n",
    "        # Add dataset to dictionary, selecting first member_id for each simulation since we'll just use\n",
    "        # one ensemble member right now\n",
    "        ds_dict[name] = ds.isel(member_id=0)\n",
    "    except:\n",
    "        print(name)"
   ]
  },
  {
   "cell_type": "code",
   "execution_count": 6,
   "metadata": {},
   "outputs": [],
   "source": [
    "def calculate_change(historic, future, percentage=True):\n",
    "    if percentage:\n",
    "        return (future - historic)/(historic) * 100\n",
    "    else:\n",
    "        return future - historic"
   ]
  },
  {
   "cell_type": "code",
   "execution_count": 7,
   "metadata": {},
   "outputs": [],
   "source": [
    "def annual_mean(ts):\n",
    "    return ts.mean(dim='time')"
   ]
  },
  {
   "cell_type": "code",
   "execution_count": 8,
   "metadata": {},
   "outputs": [],
   "source": [
    "def stdev(ts, timestep, freq='monthly'):\n",
    "    if timestep == 'Lmon':\n",
    "        return ts.std(dim='time')\n",
    "    elif timestep == 'day':\n",
    "        if freq == 'monthly':\n",
    "            return ts.resample(time='M').mean().std(dim='time')\n",
    "        else:\n",
    "            print('calculating daily')\n",
    "            return ts.std(dim='time')"
   ]
  },
  {
   "cell_type": "code",
   "execution_count": 9,
   "metadata": {},
   "outputs": [],
   "source": [
    "def low_runoff(ts):\n",
    "    return ts.resample(time='M').mean().groupby('time.year').min().min(dim='year')"
   ]
  },
  {
   "cell_type": "code",
   "execution_count": 10,
   "metadata": {},
   "outputs": [],
   "source": [
    "def add_cartopy_elements(ax):\n",
    "    ax.set_global()\n",
    "    ax.coastlines()\n",
    "    ax.add_feature(cartopy.feature.LAND, color='black')\n",
    "    ax.add_feature(cartopy.feature.OCEAN, color='grey')\n",
    "    ax.add_feature(cartopy.feature.COASTLINE)\n",
    "    ax.add_feature(cartopy.feature.BORDERS, linestyle='-')"
   ]
  },
  {
   "cell_type": "code",
   "execution_count": 11,
   "metadata": {},
   "outputs": [],
   "source": [
    "def plot_nicely(ax, ds, vmin, vmax, cmap='viridis', cbar_label=None, title=None):\n",
    "\n",
    "    # plot.contourf(ax=ax, levels=n.arange(min_var, max_var, interval))\n",
    "    ds.plot(ax=ax, transform=ccrs.PlateCarree(),\n",
    "            vmin=vmin, vmax=vmax, cmap=cmap, \n",
    "            levels=11,\n",
    "           cbar_kwargs={'label': cbar_label})\n",
    "    ax.set_title(title)\n",
    "    add_cartopy_elements(ax)\n",
    "\n"
   ]
  },
  {
   "cell_type": "markdown",
   "metadata": {},
   "source": [
    "# load and regrid to a common grid"
   ]
  },
  {
   "cell_type": "code",
   "execution_count": 12,
   "metadata": {},
   "outputs": [],
   "source": [
    "def calculate_qflow(da, rolling_period=30, minimum=True):\n",
    "    '''calculate n-day (based upon rolling_period) moving average.\n",
    "    if minimum, returns the minimum value in the 30 year period\n",
    "    if not, returns the average'''\n",
    "    if minimum:\n",
    "        return da.rolling(time=rolling_period, \n",
    "                          center=True).mean().groupby('time.year').min().min(dim='year')\n",
    "    else:\n",
    "        return da.rolling(time=rolling_period, \n",
    "                          center=True).mean().groupby('time.year').min().mean(dim='year')"
   ]
  },
  {
   "cell_type": "code",
   "execution_count": 13,
   "metadata": {},
   "outputs": [],
   "source": [
    "def variability(da):\n",
    "    return da.resample(time='M').mean().std(dim='time')"
   ]
  },
  {
   "cell_type": "code",
   "execution_count": 14,
   "metadata": {},
   "outputs": [],
   "source": [
    "def bias(sim, obs, method):\n",
    "    if method=='percent':\n",
    "        return (sim-obs)/obs*100\n",
    "    elif method=='absolute':\n",
    "        return sim - obs"
   ]
  },
  {
   "cell_type": "markdown",
   "metadata": {},
   "source": [
    "# Read in the countries shapefile and make masks"
   ]
  },
  {
   "cell_type": "code",
   "execution_count": 15,
   "metadata": {},
   "outputs": [],
   "source": [
    "def monthly_intraannual_range(da, timestep):\n",
    "    ''' \n",
    "    calculate yearly range based upon monthly runoff\n",
    "    '''\n",
    "    if timestep == 'Lmon':\n",
    "        return da.groupby('time.year').max(dim='time') - \\\n",
    "            da.groupby('time.year').min(dim='time')\n",
    "    elif timestep == 'day':\n",
    "        return da.resample(time='M').mean().groupby('time.year').max(dim='time') - \\\n",
    "            da.resample(time='M').mean().groupby('time.year').min(dim='time')"
   ]
  },
  {
   "cell_type": "code",
   "execution_count": 16,
   "metadata": {},
   "outputs": [],
   "source": [
    "def lowest_10thpercentile(da, timestep):\n",
    "    if timestep == 'Lmon':\n",
    "        return da.groupby('time.year').min(dim='time').compute().quantile(0.1, dim='year')\n",
    "    elif timestep == 'day':\n",
    "        return da.resample(time='M').mean().groupby('time.year').min(dim='time').compute().quantile(0.1, dim='year')"
   ]
  },
  {
   "cell_type": "code",
   "execution_count": 17,
   "metadata": {},
   "outputs": [],
   "source": [
    "def basin_average_intraannual_range(monthly_ds, \n",
    "                                   multiple_ensemble_members=False,\n",
    "                                  return_ensemble=False):\n",
    "    if 'latitude' in monthly_ds.dims:\n",
    "        basin_mean = monthly_ds.mean(dim= ['latitude', 'longitude'])\n",
    "    else:\n",
    "        basin_mean = monthly_ds\n",
    "    hydrologic_range = monthly_intraannual_range(basin_mean, 'Lmon').mean(dim='year')\n",
    "                    # present the range normalized by total runoff\n",
    "    basin_mean_range = hydrologic_range*30/(basin_mean.mean(dim='time')*365)\n",
    "    if multiple_ensemble_members:\n",
    "        if return_ensemble:\n",
    "            return basin_mean_range\n",
    "        else:\n",
    "            return float(basin_mean_range.mean(dim='gcm'))\n",
    "    else:\n",
    "        return float(basin_mean_range.values)\n",
    "    "
   ]
  },
  {
   "cell_type": "code",
   "execution_count": 18,
   "metadata": {},
   "outputs": [],
   "source": [
    "def map_gridded_to_basins(da, masks, geographic_gdf_in, \n",
    "                          comparison_da=None, masks2=None, num_cells_threshold=1):\n",
    "    '''Input: gridded xarray data array on lat/lon coordinates\n",
    "    we assume that the da is the obs dataset and comparison_da is the sim,\n",
    "    so any comparisons are w.r.t. the da'''\n",
    "    da = da.rename({'lon': 'longitude',\n",
    "                       'lat': 'latitude'})\n",
    "    da = da.assign_coords(longitude=(((da.longitude + 180) % 360) \n",
    "                                         - 180)).sortby('longitude')\n",
    "    geographic_gdf = geographic_gdf_in.copy(deep=True)\n",
    "    geographic_gdf['mean'] = np.nan\n",
    "    geographic_gdf['h_range'] = np.nan\n",
    "    geographic_gdf['NumCells'] = np.nan\n",
    "    lat = masks.latitude.values\n",
    "    lon = masks.longitude.values\n",
    "    basins_of_interest = ['Mekong', 'Amazon', 'Rhine', 'Nile', \n",
    "                            'Columbia', 'Zaire', 'Essequibo', 'Irrawaddy', \n",
    "                            'Jubba-Shebelle', 'Lake Turkana', 'Maritsa', \n",
    "                            'Ob', 'Ogooue', 'Orinoco', 'Song Hong', 'Saigon', \n",
    "                            'Salween', 'San Juan', 'Tarim (Yarkand)', 'Vardar', \n",
    "                            'Ganges-Brahmaputra', 'Niger', \n",
    "                            'Senegal', 'Indus', 'Tigris-Euphrates', 'Uruguay', \n",
    "                            'Parana', 'Zambezi', 'Danube', 'Colorado']\n",
    "    if comparison_da is not None:\n",
    "        comparison_da = comparison_da.rename({'lon': 'longitude',\n",
    "                       'lat': 'latitude'})\n",
    "        comparison_da = comparison_da.assign_coords(longitude=(((comparison_da.longitude + 180) % 360) \n",
    "                                         - 180)).sortby('longitude')\n",
    "        \n",
    "    print(len(geographic_gdf[geographic_gdf['NAME'].isin(basins_of_interest)].index.values))\n",
    "    for ID_REGION in tqdm(geographic_gdf[geographic_gdf['NAME'].isin(basins_of_interest)].index.values):\n",
    "        sel_mask = masks.where(masks == ID_REGION).values\n",
    "        num_cells = (~np.isnan(sel_mask)).sum()\n",
    "        geographic_gdf.at[ID_REGION, 'NumCells'] = num_cells\n",
    "        \n",
    "        if num_cells < num_cells_threshold:\n",
    "            print('this country has no cells')\n",
    "#             print('{} has zero cells!'.format(ID_REGION))\n",
    "            out_sel = da.sel(latitude=geographic_gdf.at[ID_REGION, 'cent_lat'],\n",
    "                             longitude=geographic_gdf.at[ID_REGION, 'cent_lon'], \n",
    "                             method='nearest', tolerance=2)\n",
    "        else:\n",
    "            id_lon = lon[np.where(~np.all(np.isnan(sel_mask), axis=0))]\n",
    "            id_lat = lat[np.where(~np.all(np.isnan(sel_mask), axis=1))]\n",
    "            trimmed_mask = masks.sel(latitude = slice(id_lat[0], id_lat[-1]), \n",
    "                            longitude = slice(id_lon[0], id_lon[-1]))\n",
    "\n",
    "            out_sel = da.sel(latitude = slice(id_lat[0], id_lat[-1]), \n",
    "                            longitude = slice(id_lon[0], id_lon[-1])\n",
    "                           ).compute()\n",
    "            out_sel = out_sel.where(trimmed_mask == ID_REGION)\n",
    "        if comparison_da is None:\n",
    "            mean_to_fill = float(out_sel.mean().values)\n",
    "            hr_to_fill = basin_average_intraannual_range(out_sel)\n",
    "        else:\n",
    "            comparison_da_sel = comparison_da.sel(latitude = slice(id_lat[0], id_lat[-1]), \n",
    "                        longitude = slice(id_lon[0], id_lon[-1])\n",
    "                       ).compute().where(masks == ID_REGION)\n",
    "            # comparison_da is the simulated \n",
    "            if metric=='mean':\n",
    "                value_to_fill = (comparison_da_sel - out_sel).mean(\n",
    "                                    dim=['latitude', 'longitude'])/out_sel.mean(dim=['latitude', 'longitude'])*100\n",
    "            elif metric=='std':\n",
    "                value_to_fill = (comparison_da_sel - out_sel).mean(\n",
    "                                    dim=['latitude', 'longitude'])/out_sel.mean(dim=['latitude', 'longitude'])*100\n",
    "            elif metric=='hydrologic_range':\n",
    "                base_case = basin_average_intraannual_range(out_sel).mrro.values\n",
    "                comparison_case = basin_average_intraannual_range(comparison_da_sel,\n",
    "                                                                 multiple_ensemble_members=True).mrro.values\n",
    "                value_to_fill = comparison_case - base_case\n",
    "        geographic_gdf.at[ID_REGION, 'mean'] = mean_to_fill\n",
    "        geographic_gdf.at[ID_REGION, 'h_range'] = hr_to_fill\n",
    "    return geographic_gdf"
   ]
  },
  {
   "cell_type": "markdown",
   "metadata": {},
   "source": [
    "# Read in the basin and country shapefile and make masks"
   ]
  },
  {
   "cell_type": "code",
   "execution_count": null,
   "metadata": {},
   "outputs": [],
   "source": []
  },
  {
   "cell_type": "code",
   "execution_count": 19,
   "metadata": {},
   "outputs": [],
   "source": [
    "def rasterize_shapefile(shapefile, sample_grid_file, name):\n",
    "    '''\n",
    "    Inputs:\n",
    "    shapefile: shapefile of the regions you want to rasterize\n",
    "    sample_grid_file: xarray datarray with the grid you want to rasterize the shapefile to\n",
    "    name: the name of the column in the shapefile that has the labels for the polygons\n",
    "    '''\n",
    "    sample_grid_file = sample_grid_file.rename({'lon': 'longitude',\n",
    "                   'lat': 'latitude'})\n",
    "    sample_grid_file = sample_grid_file.assign_coords(longitude=(((sample_grid_file.longitude + 180) % 360) \n",
    "                                     - 180)).sortby('longitude')\n",
    "    mask_poly = regionmask.Regions_cls(name='mask', \n",
    "                                        numbers=list(range(0,len(shapefile)-1)), \n",
    "                                        names=list(shapefile[name]), \n",
    "                                        abbrevs=list(shapefile[name]), \n",
    "                                        outlines=list(shapefile.geometry.values[i] \n",
    "                                                      for i in range(0,len(shapefile)-1)))\n",
    "    mask = mask_poly.mask(sample_grid_file, lat_name='latitude', \n",
    "                            lon_name='longitude',\n",
    "                            wrap_lon=False)\n",
    "    return mask, mask_poly"
   ]
  },
  {
   "cell_type": "markdown",
   "metadata": {},
   "source": [
    "# combine basin shapefile and country shapefile to find every overlap and we'll call that SUBBASIN"
   ]
  },
  {
   "cell_type": "code",
   "execution_count": 20,
   "metadata": {},
   "outputs": [],
   "source": [
    "recreate_shapefile = False\n",
    "if recreate_shapefile:\n",
    "    basins = gpd.read_file('shapefile_test/Major_Basins_of_the_World.dbf')\n",
    "    # Remove the basins that don't have geometries attached to them\n",
    "    basins = basins[basins.geometry!=None]\n",
    "\n",
    "    countries = gpd.read_file('Countries_WGS84.dbf')\n",
    "    subbasins = gpd.overlay(basins, countries, how='union')\n",
    "    # make a new column which has a combined ID\n",
    "    subbasins['SUBBASIN_N'] = subbasins['NAME']+'_'+subbasins['CNTRY_NAME']\n",
    "    subbasins = subbasins[~subbasins['SUBBASIN_N'].isna()]\n",
    "    subbasins.to_file('country_basin_join.shp')\n",
    "else:\n",
    "    basins = gpd.read_file('shapefile_test/Major_Basins_of_the_World.dbf')\n",
    "    basins = basins[basins.geometry!=None]\n",
    "    subbasins = gpd.read_file('country_basin_join.shp')\n",
    "    subbasins['cent_lon']  = subbasins.geometry.centroid.x\n",
    "#     subbasins['cent_lon'].values[subbasins['cent_lon'].values < 0] += 360. \n",
    "    subbasins['cent_lat']  = subbasins.geometry.centroid.y"
   ]
  },
  {
   "cell_type": "code",
   "execution_count": 21,
   "metadata": {},
   "outputs": [
    {
     "data": {
      "text/plain": [
       "254"
      ]
     },
     "execution_count": 21,
     "metadata": {},
     "output_type": "execute_result"
    }
   ],
   "source": [
    "len(basins)"
   ]
  },
  {
   "cell_type": "markdown",
   "metadata": {},
   "source": [
    "# Calculate grid means for each different GCM simulation"
   ]
  },
  {
   "cell_type": "code",
   "execution_count": 130,
   "metadata": {},
   "outputs": [],
   "source": [
    "# pick out the GCMs that have a corresponding historical setup\n",
    "setup_list = list(ds_dict.keys())\n",
    "valid_setups = {}\n",
    "for setup in ['ssp585', 'ssp370', 'ssp126', 'ssp245']:\n",
    "    valid_setups[setup] = []\n",
    "    for gcm_run in setup_list:\n",
    "        if setup in gcm_run:\n",
    "            gcm_label = '.'.join(gcm_run.split('.')[1:3])\n",
    "            if 'CMIP.{}.historical.Lmon.gn'.format(gcm_label) in setup_list:\n",
    "                valid_setups[setup].append(gcm_label)"
   ]
  },
  {
   "cell_type": "code",
   "execution_count": 106,
   "metadata": {},
   "outputs": [
    {
     "name": "stdout",
     "output_type": "stream",
     "text": [
      "FIO-QLNM.FIO-ESM-2-0 not present in setup ssp370\n",
      "NOAA-GFDL.GFDL-CM4 not present in setup ssp370\n",
      "NOAA-GFDL.GFDL-CM4 not present in setup ssp126\n"
     ]
    }
   ],
   "source": [
    "for gcm in valid_setups['ssp585']:\n",
    "    for setup in ['ssp585', 'ssp370', 'ssp126', 'ssp245']:\n",
    "        if gcm in valid_setups[setup]:\n",
    "            continue\n",
    "        else:\n",
    "            print('{} not present in setup {}'.format(gcm, setup))\n",
    "    "
   ]
  },
  {
   "cell_type": "markdown",
   "metadata": {},
   "source": [
    "# calculate all of the basin changes separated out by changes per country in the basin"
   ]
  },
  {
   "cell_type": "code",
   "execution_count": 28,
   "metadata": {},
   "outputs": [
    {
     "name": "stdout",
     "output_type": "stream",
     "text": [
      "All elements of mask are NaN. Try to set 'wrap_lon=True'.\n"
     ]
    }
   ],
   "source": [
    "subbasins_to_test = subbasins[subbasins['SUBBASIN_N']=='Amazon_French Guiana']#.plot()\n",
    "gcm_label='NCAR.CESM2'\n",
    "historical_setup = 'CMIP.{}.historical.Lmon.gn'.format(gcm_label)\n",
    "sample_file = ds_dict[historical_setup].isel(time=0).compute()\n",
    "\n",
    "raster_subbasins, subbasin_poly_mask = rasterize_shapefile(subbasins_to_test, \n",
    "                                                                   sample_file, \n",
    "                                                                   'SUBBASIN_N')"
   ]
  },
  {
   "cell_type": "code",
   "execution_count": 107,
   "metadata": {},
   "outputs": [],
   "source": [
    "subbasins_changes = {}"
   ]
  },
  {
   "cell_type": "code",
   "execution_count": 133,
   "metadata": {
    "collapsed": true,
    "jupyter": {
     "outputs_hidden": true
    }
   },
   "outputs": [
    {
     "name": "stdout",
     "output_type": "stream",
     "text": [
      "BCC.BCC-CSM2-MR\n",
      "BCC.BCC-CSM2-MR already done!\n",
      "CAMS.CAMS-CSM1-0\n",
      "CAMS.CAMS-CSM1-0 already done!\n",
      "CCCma.CanESM5-CanOE\n",
      "Woohoo! You've finished rasterizing your shapefile for CCCma.CanESM5-CanOE\n",
      "176\n"
     ]
    },
    {
     "data": {
      "application/vnd.jupyter.widget-view+json": {
       "model_id": "98aff077ce8c489889eab612cd14387f",
       "version_major": 2,
       "version_minor": 0
      },
      "text/plain": [
       "HBox(children=(FloatProgress(value=0.0, max=176.0), HTML(value='')))"
      ]
     },
     "metadata": {},
     "output_type": "display_data"
    },
    {
     "name": "stdout",
     "output_type": "stream",
     "text": [
      "this country has no cells\n",
      "this country has no cells\n",
      "this country has no cells\n",
      "this country has no cells\n",
      "this country has no cells\n",
      "this country has no cells\n",
      "this country has no cells\n",
      "this country has no cells\n",
      "this country has no cells\n",
      "this country has no cells\n",
      "this country has no cells\n",
      "this country has no cells\n",
      "this country has no cells\n",
      "this country has no cells\n",
      "this country has no cells\n",
      "this country has no cells\n",
      "this country has no cells\n",
      "this country has no cells\n",
      "this country has no cells\n",
      "this country has no cells\n",
      "this country has no cells\n",
      "this country has no cells\n",
      "this country has no cells\n",
      "this country has no cells\n",
      "this country has no cells\n",
      "this country has no cells\n",
      "this country has no cells\n",
      "this country has no cells\n",
      "this country has no cells\n",
      "this country has no cells\n",
      "this country has no cells\n",
      "this country has no cells\n",
      "this country has no cells\n",
      "this country has no cells\n",
      "this country has no cells\n",
      "this country has no cells\n",
      "this country has no cells\n",
      "this country has no cells\n",
      "this country has no cells\n",
      "this country has no cells\n",
      "this country has no cells\n",
      "this country has no cells\n",
      "this country has no cells\n",
      "this country has no cells\n",
      "this country has no cells\n",
      "this country has no cells\n",
      "this country has no cells\n",
      "this country has no cells\n",
      "this country has no cells\n",
      "this country has no cells\n",
      "this country has no cells\n",
      "this country has no cells\n",
      "this country has no cells\n",
      "this country has no cells\n",
      "this country has no cells\n",
      "this country has no cells\n",
      "this country has no cells\n",
      "this country has no cells\n",
      "this country has no cells\n",
      "this country has no cells\n",
      "this country has no cells\n",
      "this country has no cells\n",
      "this country has no cells\n",
      "this country has no cells\n",
      "this country has no cells\n",
      "this country has no cells\n",
      "this country has no cells\n",
      "this country has no cells\n",
      "this country has no cells\n",
      "this country has no cells\n",
      "this country has no cells\n",
      "this country has no cells\n",
      "this country has no cells\n",
      "this country has no cells\n",
      "this country has no cells\n",
      "this country has no cells\n",
      "this country has no cells\n",
      "this country has no cells\n",
      "this country has no cells\n",
      "this country has no cells\n",
      "this country has no cells\n",
      "this country has no cells\n",
      "this country has no cells\n",
      "this country has no cells\n",
      "this country has no cells\n",
      "this country has no cells\n",
      "this country has no cells\n",
      "\n",
      "Excellent! You've finished the historical shapefile for CCCma.CanESM5-CanOE\n",
      "ssp585 UA.MCM-UA-1-0\n",
      "176\n"
     ]
    },
    {
     "data": {
      "application/vnd.jupyter.widget-view+json": {
       "model_id": "25993d9e732f4e2daba4437410c33bbc",
       "version_major": 2,
       "version_minor": 0
      },
      "text/plain": [
       "HBox(children=(FloatProgress(value=0.0, max=176.0), HTML(value='')))"
      ]
     },
     "metadata": {},
     "output_type": "display_data"
    },
    {
     "name": "stdout",
     "output_type": "stream",
     "text": [
      "this country has no cells\n",
      "this country has no cells\n",
      "this country has no cells\n",
      "this country has no cells\n",
      "this country has no cells\n",
      "this country has no cells\n",
      "this country has no cells\n",
      "this country has no cells\n",
      "this country has no cells\n",
      "this country has no cells\n",
      "this country has no cells\n",
      "this country has no cells\n",
      "this country has no cells\n",
      "this country has no cells\n",
      "this country has no cells\n",
      "this country has no cells\n",
      "this country has no cells\n",
      "this country has no cells\n",
      "this country has no cells\n",
      "this country has no cells\n",
      "this country has no cells\n",
      "this country has no cells\n",
      "this country has no cells\n",
      "this country has no cells\n",
      "this country has no cells\n",
      "this country has no cells\n",
      "this country has no cells\n",
      "this country has no cells\n",
      "this country has no cells\n",
      "this country has no cells\n",
      "this country has no cells\n",
      "this country has no cells\n",
      "this country has no cells\n",
      "this country has no cells\n",
      "this country has no cells\n",
      "this country has no cells\n",
      "this country has no cells\n",
      "this country has no cells\n",
      "this country has no cells\n",
      "this country has no cells\n",
      "this country has no cells\n",
      "this country has no cells\n",
      "this country has no cells\n",
      "this country has no cells\n",
      "this country has no cells\n",
      "this country has no cells\n",
      "this country has no cells\n",
      "this country has no cells\n",
      "this country has no cells\n",
      "this country has no cells\n",
      "this country has no cells\n",
      "this country has no cells\n",
      "this country has no cells\n",
      "this country has no cells\n",
      "this country has no cells\n",
      "this country has no cells\n",
      "this country has no cells\n",
      "this country has no cells\n",
      "this country has no cells\n",
      "this country has no cells\n",
      "this country has no cells\n",
      "this country has no cells\n",
      "this country has no cells\n",
      "this country has no cells\n",
      "this country has no cells\n",
      "this country has no cells\n",
      "this country has no cells\n",
      "this country has no cells\n",
      "this country has no cells\n",
      "this country has no cells\n",
      "this country has no cells\n",
      "this country has no cells\n",
      "this country has no cells\n",
      "this country has no cells\n",
      "this country has no cells\n",
      "this country has no cells\n",
      "this country has no cells\n",
      "this country has no cells\n",
      "this country has no cells\n",
      "this country has no cells\n",
      "this country has no cells\n",
      "this country has no cells\n",
      "this country has no cells\n",
      "this country has no cells\n",
      "this country has no cells\n",
      "this country has no cells\n",
      "this country has no cells\n",
      "\n",
      "CNRM-CERFACS.CNRM-CM6-1\n",
      "CNRM-CERFACS.CNRM-CM6-1 already done!\n",
      "CNRM-CERFACS.CNRM-ESM2-1\n",
      "CNRM-CERFACS.CNRM-ESM2-1 already done!\n",
      "CSIRO.ACCESS-ESM1-5\n",
      "Woohoo! You've finished rasterizing your shapefile for CSIRO.ACCESS-ESM1-5\n",
      "176\n"
     ]
    },
    {
     "data": {
      "application/vnd.jupyter.widget-view+json": {
       "model_id": "d56a50460e494ad9b1b05307e7bd6146",
       "version_major": 2,
       "version_minor": 0
      },
      "text/plain": [
       "HBox(children=(FloatProgress(value=0.0, max=176.0), HTML(value='')))"
      ]
     },
     "metadata": {},
     "output_type": "display_data"
    },
    {
     "name": "stdout",
     "output_type": "stream",
     "text": [
      "this country has no cells\n",
      "this country has no cells\n",
      "this country has no cells\n",
      "this country has no cells\n",
      "this country has no cells\n",
      "this country has no cells\n",
      "this country has no cells\n",
      "this country has no cells\n",
      "this country has no cells\n",
      "this country has no cells\n",
      "this country has no cells\n",
      "this country has no cells\n",
      "this country has no cells\n",
      "this country has no cells\n",
      "this country has no cells\n",
      "this country has no cells\n",
      "this country has no cells\n",
      "this country has no cells\n",
      "this country has no cells\n",
      "this country has no cells\n",
      "this country has no cells\n",
      "this country has no cells\n",
      "this country has no cells\n",
      "this country has no cells\n",
      "this country has no cells\n",
      "this country has no cells\n",
      "this country has no cells\n",
      "this country has no cells\n",
      "this country has no cells\n",
      "this country has no cells\n",
      "this country has no cells\n",
      "this country has no cells\n",
      "this country has no cells\n",
      "this country has no cells\n",
      "this country has no cells\n",
      "this country has no cells\n",
      "this country has no cells\n",
      "this country has no cells\n",
      "this country has no cells\n",
      "this country has no cells\n",
      "this country has no cells\n",
      "this country has no cells\n",
      "this country has no cells\n",
      "this country has no cells\n",
      "this country has no cells\n",
      "this country has no cells\n",
      "this country has no cells\n",
      "this country has no cells\n",
      "this country has no cells\n",
      "this country has no cells\n",
      "this country has no cells\n",
      "this country has no cells\n",
      "this country has no cells\n",
      "this country has no cells\n",
      "this country has no cells\n",
      "this country has no cells\n",
      "this country has no cells\n",
      "this country has no cells\n",
      "this country has no cells\n",
      "this country has no cells\n",
      "\n",
      "Excellent! You've finished the historical shapefile for CSIRO.ACCESS-ESM1-5\n",
      "ssp585 UA.MCM-UA-1-0\n",
      "176\n"
     ]
    },
    {
     "data": {
      "application/vnd.jupyter.widget-view+json": {
       "model_id": "7fa874a163324c26943abbf59c058bc4",
       "version_major": 2,
       "version_minor": 0
      },
      "text/plain": [
       "HBox(children=(FloatProgress(value=0.0, max=176.0), HTML(value='')))"
      ]
     },
     "metadata": {},
     "output_type": "display_data"
    },
    {
     "name": "stdout",
     "output_type": "stream",
     "text": [
      "this country has no cells\n",
      "this country has no cells\n",
      "this country has no cells\n",
      "this country has no cells\n",
      "this country has no cells\n",
      "this country has no cells\n",
      "this country has no cells\n",
      "this country has no cells\n",
      "this country has no cells\n",
      "this country has no cells\n",
      "this country has no cells\n",
      "this country has no cells\n",
      "this country has no cells\n",
      "this country has no cells\n",
      "this country has no cells\n",
      "this country has no cells\n",
      "this country has no cells\n",
      "this country has no cells\n",
      "this country has no cells\n",
      "this country has no cells\n",
      "this country has no cells\n",
      "this country has no cells\n",
      "this country has no cells\n",
      "this country has no cells\n",
      "this country has no cells\n",
      "this country has no cells\n",
      "this country has no cells\n",
      "this country has no cells\n",
      "this country has no cells\n",
      "this country has no cells\n",
      "this country has no cells\n",
      "this country has no cells\n",
      "this country has no cells\n",
      "this country has no cells\n",
      "this country has no cells\n",
      "this country has no cells\n",
      "this country has no cells\n",
      "this country has no cells\n",
      "this country has no cells\n",
      "this country has no cells\n",
      "this country has no cells\n",
      "this country has no cells\n",
      "this country has no cells\n",
      "this country has no cells\n",
      "this country has no cells\n",
      "this country has no cells\n",
      "this country has no cells\n",
      "this country has no cells\n",
      "this country has no cells\n",
      "this country has no cells\n",
      "this country has no cells\n",
      "this country has no cells\n",
      "this country has no cells\n",
      "this country has no cells\n",
      "this country has no cells\n",
      "this country has no cells\n",
      "this country has no cells\n",
      "this country has no cells\n",
      "this country has no cells\n",
      "this country has no cells\n",
      "\n",
      "CSIRO-ARCCSS.ACCESS-CM2\n",
      "Woohoo! You've finished rasterizing your shapefile for CSIRO-ARCCSS.ACCESS-CM2\n",
      "176\n"
     ]
    },
    {
     "data": {
      "application/vnd.jupyter.widget-view+json": {
       "model_id": "cc41d244a9f242b087dabda75291a923",
       "version_major": 2,
       "version_minor": 0
      },
      "text/plain": [
       "HBox(children=(FloatProgress(value=0.0, max=176.0), HTML(value='')))"
      ]
     },
     "metadata": {},
     "output_type": "display_data"
    },
    {
     "name": "stdout",
     "output_type": "stream",
     "text": [
      "this country has no cells\n",
      "this country has no cells\n",
      "this country has no cells\n",
      "this country has no cells\n",
      "this country has no cells\n",
      "this country has no cells\n",
      "this country has no cells\n",
      "this country has no cells\n",
      "this country has no cells\n",
      "this country has no cells\n",
      "this country has no cells\n",
      "this country has no cells\n",
      "this country has no cells\n",
      "this country has no cells\n",
      "this country has no cells\n",
      "this country has no cells\n",
      "this country has no cells\n",
      "this country has no cells\n",
      "this country has no cells\n",
      "this country has no cells\n",
      "this country has no cells\n",
      "this country has no cells\n",
      "this country has no cells\n",
      "this country has no cells\n",
      "this country has no cells\n",
      "this country has no cells\n",
      "this country has no cells\n",
      "this country has no cells\n",
      "this country has no cells\n",
      "this country has no cells\n",
      "this country has no cells\n",
      "this country has no cells\n",
      "this country has no cells\n",
      "this country has no cells\n",
      "this country has no cells\n",
      "this country has no cells\n",
      "this country has no cells\n",
      "this country has no cells\n",
      "this country has no cells\n",
      "this country has no cells\n",
      "this country has no cells\n",
      "this country has no cells\n",
      "this country has no cells\n",
      "this country has no cells\n",
      "this country has no cells\n",
      "this country has no cells\n",
      "this country has no cells\n",
      "this country has no cells\n",
      "this country has no cells\n",
      "this country has no cells\n",
      "this country has no cells\n",
      "this country has no cells\n",
      "this country has no cells\n",
      "this country has no cells\n",
      "this country has no cells\n",
      "this country has no cells\n",
      "\n",
      "Excellent! You've finished the historical shapefile for CSIRO-ARCCSS.ACCESS-CM2\n",
      "ssp585 UA.MCM-UA-1-0\n",
      "176\n"
     ]
    },
    {
     "data": {
      "application/vnd.jupyter.widget-view+json": {
       "model_id": "d2c6244e9b904ffa978f864ca9f3e3b2",
       "version_major": 2,
       "version_minor": 0
      },
      "text/plain": [
       "HBox(children=(FloatProgress(value=0.0, max=176.0), HTML(value='')))"
      ]
     },
     "metadata": {},
     "output_type": "display_data"
    },
    {
     "name": "stdout",
     "output_type": "stream",
     "text": [
      "this country has no cells\n",
      "this country has no cells\n",
      "this country has no cells\n",
      "this country has no cells\n",
      "this country has no cells\n",
      "this country has no cells\n",
      "this country has no cells\n",
      "this country has no cells\n",
      "this country has no cells\n",
      "this country has no cells\n",
      "this country has no cells\n",
      "this country has no cells\n",
      "this country has no cells\n",
      "this country has no cells\n",
      "this country has no cells\n",
      "this country has no cells\n",
      "this country has no cells\n",
      "this country has no cells\n",
      "this country has no cells\n",
      "this country has no cells\n",
      "this country has no cells\n",
      "this country has no cells\n",
      "this country has no cells\n",
      "this country has no cells\n",
      "this country has no cells\n",
      "this country has no cells\n",
      "this country has no cells\n",
      "this country has no cells\n",
      "this country has no cells\n",
      "this country has no cells\n",
      "this country has no cells\n",
      "this country has no cells\n",
      "this country has no cells\n",
      "this country has no cells\n",
      "this country has no cells\n",
      "this country has no cells\n",
      "this country has no cells\n",
      "this country has no cells\n",
      "this country has no cells\n",
      "this country has no cells\n",
      "this country has no cells\n",
      "this country has no cells\n",
      "this country has no cells\n",
      "this country has no cells\n",
      "this country has no cells\n",
      "this country has no cells\n",
      "this country has no cells\n",
      "this country has no cells\n",
      "this country has no cells\n",
      "this country has no cells\n",
      "this country has no cells\n",
      "this country has no cells\n",
      "this country has no cells\n",
      "this country has no cells\n",
      "this country has no cells\n",
      "this country has no cells\n",
      "\n",
      "EC-Earth-Consortium.EC-Earth3-Veg\n",
      "Woohoo! You've finished rasterizing your shapefile for EC-Earth-Consortium.EC-Earth3-Veg\n",
      "176\n"
     ]
    },
    {
     "data": {
      "application/vnd.jupyter.widget-view+json": {
       "model_id": "0ac51310d99b4ff78efdd9b9ade14715",
       "version_major": 2,
       "version_minor": 0
      },
      "text/plain": [
       "HBox(children=(FloatProgress(value=0.0, max=176.0), HTML(value='')))"
      ]
     },
     "metadata": {},
     "output_type": "display_data"
    },
    {
     "name": "stdout",
     "output_type": "stream",
     "text": [
      "this country has no cells\n",
      "this country has no cells\n",
      "this country has no cells\n",
      "this country has no cells\n",
      "this country has no cells\n",
      "this country has no cells\n",
      "this country has no cells\n",
      "this country has no cells\n",
      "this country has no cells\n",
      "this country has no cells\n",
      "this country has no cells\n",
      "this country has no cells\n",
      "this country has no cells\n",
      "this country has no cells\n",
      "this country has no cells\n",
      "this country has no cells\n",
      "this country has no cells\n",
      "this country has no cells\n",
      "this country has no cells\n",
      "this country has no cells\n",
      "this country has no cells\n",
      "this country has no cells\n",
      "this country has no cells\n",
      "this country has no cells\n",
      "this country has no cells\n",
      "this country has no cells\n",
      "this country has no cells\n",
      "this country has no cells\n",
      "this country has no cells\n",
      "this country has no cells\n",
      "this country has no cells\n",
      "this country has no cells\n",
      "this country has no cells\n",
      "this country has no cells\n",
      "this country has no cells\n",
      "this country has no cells\n",
      "\n",
      "Excellent! You've finished the historical shapefile for EC-Earth-Consortium.EC-Earth3-Veg\n",
      "ssp585 UA.MCM-UA-1-0\n",
      "176\n"
     ]
    },
    {
     "data": {
      "application/vnd.jupyter.widget-view+json": {
       "model_id": "318e13d7ee7a4bf8b2f586b6d6d2312a",
       "version_major": 2,
       "version_minor": 0
      },
      "text/plain": [
       "HBox(children=(FloatProgress(value=0.0, max=176.0), HTML(value='')))"
      ]
     },
     "metadata": {},
     "output_type": "display_data"
    },
    {
     "name": "stdout",
     "output_type": "stream",
     "text": [
      "this country has no cells\n",
      "this country has no cells\n",
      "this country has no cells\n"
     ]
    },
    {
     "name": "stderr",
     "output_type": "stream",
     "text": [
      "distributed.client - WARNING - Couldn't gather 1 keys, rescheduling {\"('getitem-bc0c7a1b3c9c7855f01a0a65f821fffc', 2, 0, 0)\": ()}\n"
     ]
    },
    {
     "name": "stdout",
     "output_type": "stream",
     "text": [
      "this country has no cells\n",
      "this country has no cells\n",
      "this country has no cells\n",
      "this country has no cells\n",
      "this country has no cells\n",
      "this country has no cells\n",
      "this country has no cells\n",
      "this country has no cells\n",
      "this country has no cells\n",
      "this country has no cells\n",
      "this country has no cells\n",
      "this country has no cells\n",
      "this country has no cells\n",
      "this country has no cells\n",
      "this country has no cells\n",
      "this country has no cells\n",
      "this country has no cells\n",
      "this country has no cells\n",
      "this country has no cells\n",
      "this country has no cells\n",
      "this country has no cells\n",
      "this country has no cells\n",
      "this country has no cells\n",
      "this country has no cells\n",
      "this country has no cells\n",
      "this country has no cells\n",
      "this country has no cells\n",
      "this country has no cells\n",
      "this country has no cells\n",
      "this country has no cells\n",
      "this country has no cells\n",
      "this country has no cells\n",
      "this country has no cells\n",
      "\n",
      "FIO-QLNM.FIO-ESM-2-0\n",
      "Woohoo! You've finished rasterizing your shapefile for FIO-QLNM.FIO-ESM-2-0\n",
      "176\n"
     ]
    },
    {
     "data": {
      "application/vnd.jupyter.widget-view+json": {
       "model_id": "82b96cf1fd3342d1989480104d742786",
       "version_major": 2,
       "version_minor": 0
      },
      "text/plain": [
       "HBox(children=(FloatProgress(value=0.0, max=176.0), HTML(value='')))"
      ]
     },
     "metadata": {},
     "output_type": "display_data"
    },
    {
     "name": "stdout",
     "output_type": "stream",
     "text": [
      "this country has no cells\n",
      "this country has no cells\n",
      "this country has no cells\n",
      "this country has no cells\n",
      "this country has no cells\n",
      "this country has no cells\n",
      "this country has no cells\n",
      "this country has no cells\n",
      "this country has no cells\n",
      "this country has no cells\n",
      "this country has no cells\n",
      "this country has no cells\n",
      "this country has no cells\n",
      "this country has no cells\n",
      "this country has no cells\n",
      "this country has no cells\n",
      "this country has no cells\n",
      "this country has no cells\n",
      "this country has no cells\n",
      "this country has no cells\n",
      "this country has no cells\n",
      "this country has no cells\n",
      "this country has no cells\n",
      "this country has no cells\n",
      "this country has no cells\n",
      "this country has no cells\n",
      "this country has no cells\n",
      "this country has no cells\n",
      "this country has no cells\n",
      "this country has no cells\n",
      "this country has no cells\n",
      "this country has no cells\n",
      "this country has no cells\n",
      "this country has no cells\n",
      "this country has no cells\n",
      "this country has no cells\n",
      "this country has no cells\n",
      "this country has no cells\n",
      "this country has no cells\n",
      "this country has no cells\n",
      "this country has no cells\n",
      "this country has no cells\n",
      "this country has no cells\n",
      "this country has no cells\n",
      "this country has no cells\n",
      "this country has no cells\n",
      "\n",
      "Excellent! You've finished the historical shapefile for FIO-QLNM.FIO-ESM-2-0\n",
      "ssp585 UA.MCM-UA-1-0\n",
      "176\n"
     ]
    },
    {
     "data": {
      "application/vnd.jupyter.widget-view+json": {
       "model_id": "0bf7bfb343be46ba88e52e7621303bf9",
       "version_major": 2,
       "version_minor": 0
      },
      "text/plain": [
       "HBox(children=(FloatProgress(value=0.0, max=176.0), HTML(value='')))"
      ]
     },
     "metadata": {},
     "output_type": "display_data"
    },
    {
     "name": "stdout",
     "output_type": "stream",
     "text": [
      "this country has no cells\n",
      "this country has no cells\n",
      "this country has no cells\n",
      "this country has no cells\n",
      "this country has no cells\n",
      "this country has no cells\n",
      "this country has no cells\n",
      "this country has no cells\n",
      "this country has no cells\n",
      "this country has no cells\n",
      "this country has no cells\n",
      "this country has no cells\n",
      "this country has no cells\n",
      "this country has no cells\n",
      "this country has no cells\n",
      "this country has no cells\n",
      "this country has no cells\n",
      "this country has no cells\n",
      "this country has no cells\n",
      "this country has no cells\n",
      "this country has no cells\n",
      "this country has no cells\n",
      "this country has no cells\n",
      "this country has no cells\n",
      "this country has no cells\n",
      "this country has no cells\n",
      "this country has no cells\n",
      "this country has no cells\n",
      "this country has no cells\n",
      "this country has no cells\n",
      "this country has no cells\n",
      "this country has no cells\n",
      "this country has no cells\n",
      "this country has no cells\n",
      "this country has no cells\n",
      "this country has no cells\n",
      "this country has no cells\n",
      "this country has no cells\n",
      "this country has no cells\n",
      "this country has no cells\n",
      "this country has no cells\n",
      "this country has no cells\n",
      "this country has no cells\n",
      "this country has no cells\n",
      "this country has no cells\n",
      "this country has no cells\n",
      "\n",
      "INM.INM-CM4-8\n",
      "Woohoo! You've finished rasterizing your shapefile for INM.INM-CM4-8\n",
      "176\n"
     ]
    },
    {
     "data": {
      "application/vnd.jupyter.widget-view+json": {
       "model_id": "c6d10fb7b6e64d29a7fdbf204e932123",
       "version_major": 2,
       "version_minor": 0
      },
      "text/plain": [
       "HBox(children=(FloatProgress(value=0.0, max=176.0), HTML(value='')))"
      ]
     },
     "metadata": {},
     "output_type": "display_data"
    },
    {
     "name": "stdout",
     "output_type": "stream",
     "text": [
      "this country has no cells\n",
      "this country has no cells\n",
      "this country has no cells\n",
      "this country has no cells\n",
      "this country has no cells\n",
      "this country has no cells\n",
      "this country has no cells\n",
      "this country has no cells\n",
      "this country has no cells\n",
      "this country has no cells\n",
      "this country has no cells\n",
      "this country has no cells\n",
      "this country has no cells\n",
      "this country has no cells\n",
      "this country has no cells\n",
      "this country has no cells\n",
      "this country has no cells\n",
      "this country has no cells\n",
      "this country has no cells\n",
      "this country has no cells\n",
      "this country has no cells\n",
      "this country has no cells\n",
      "this country has no cells\n",
      "this country has no cells\n",
      "this country has no cells\n",
      "this country has no cells\n",
      "this country has no cells\n",
      "this country has no cells\n",
      "this country has no cells\n",
      "this country has no cells\n",
      "this country has no cells\n",
      "this country has no cells\n",
      "this country has no cells\n",
      "this country has no cells\n",
      "this country has no cells\n",
      "this country has no cells\n",
      "this country has no cells\n",
      "this country has no cells\n",
      "this country has no cells\n",
      "this country has no cells\n",
      "this country has no cells\n",
      "this country has no cells\n",
      "this country has no cells\n",
      "this country has no cells\n",
      "this country has no cells\n",
      "this country has no cells\n",
      "this country has no cells\n",
      "this country has no cells\n",
      "this country has no cells\n",
      "this country has no cells\n",
      "this country has no cells\n",
      "this country has no cells\n",
      "this country has no cells\n",
      "this country has no cells\n",
      "this country has no cells\n",
      "this country has no cells\n",
      "this country has no cells\n",
      "this country has no cells\n",
      "this country has no cells\n",
      "this country has no cells\n",
      "this country has no cells\n",
      "this country has no cells\n",
      "this country has no cells\n",
      "this country has no cells\n",
      "this country has no cells\n",
      "\n",
      "Excellent! You've finished the historical shapefile for INM.INM-CM4-8\n",
      "ssp585 UA.MCM-UA-1-0\n",
      "176\n"
     ]
    },
    {
     "data": {
      "application/vnd.jupyter.widget-view+json": {
       "model_id": "67cd2f3504b64255a5a86b363be6b846",
       "version_major": 2,
       "version_minor": 0
      },
      "text/plain": [
       "HBox(children=(FloatProgress(value=0.0, max=176.0), HTML(value='')))"
      ]
     },
     "metadata": {},
     "output_type": "display_data"
    },
    {
     "name": "stdout",
     "output_type": "stream",
     "text": [
      "this country has no cells\n",
      "this country has no cells\n",
      "this country has no cells\n",
      "this country has no cells\n",
      "this country has no cells\n",
      "this country has no cells\n",
      "this country has no cells\n",
      "this country has no cells\n",
      "this country has no cells\n",
      "this country has no cells\n",
      "this country has no cells\n",
      "this country has no cells\n",
      "this country has no cells\n",
      "this country has no cells\n",
      "this country has no cells\n",
      "this country has no cells\n",
      "this country has no cells\n",
      "this country has no cells\n",
      "this country has no cells\n",
      "this country has no cells\n",
      "this country has no cells\n",
      "this country has no cells\n",
      "this country has no cells\n",
      "this country has no cells\n",
      "this country has no cells\n",
      "this country has no cells\n",
      "this country has no cells\n",
      "this country has no cells\n",
      "this country has no cells\n",
      "this country has no cells\n",
      "this country has no cells\n",
      "this country has no cells\n",
      "this country has no cells\n",
      "this country has no cells\n",
      "this country has no cells\n",
      "this country has no cells\n",
      "this country has no cells\n",
      "this country has no cells\n",
      "this country has no cells\n",
      "this country has no cells\n",
      "this country has no cells\n",
      "this country has no cells\n",
      "this country has no cells\n",
      "this country has no cells\n",
      "this country has no cells\n",
      "this country has no cells\n",
      "this country has no cells\n",
      "this country has no cells\n",
      "this country has no cells\n",
      "this country has no cells\n",
      "this country has no cells\n",
      "this country has no cells\n",
      "this country has no cells\n",
      "this country has no cells\n",
      "this country has no cells\n",
      "this country has no cells\n",
      "this country has no cells\n",
      "this country has no cells\n",
      "this country has no cells\n",
      "this country has no cells\n",
      "this country has no cells\n",
      "this country has no cells\n",
      "this country has no cells\n",
      "this country has no cells\n",
      "this country has no cells\n",
      "\n",
      "INM.INM-CM5-0\n",
      "Woohoo! You've finished rasterizing your shapefile for INM.INM-CM5-0\n",
      "176\n"
     ]
    },
    {
     "data": {
      "application/vnd.jupyter.widget-view+json": {
       "model_id": "38d8d07918ca420abe3c170ee3b74745",
       "version_major": 2,
       "version_minor": 0
      },
      "text/plain": [
       "HBox(children=(FloatProgress(value=0.0, max=176.0), HTML(value='')))"
      ]
     },
     "metadata": {},
     "output_type": "display_data"
    },
    {
     "name": "stdout",
     "output_type": "stream",
     "text": [
      "this country has no cells\n",
      "this country has no cells\n",
      "this country has no cells\n",
      "this country has no cells\n",
      "this country has no cells\n",
      "this country has no cells\n",
      "this country has no cells\n",
      "this country has no cells\n",
      "this country has no cells\n",
      "this country has no cells\n",
      "this country has no cells\n",
      "this country has no cells\n",
      "this country has no cells\n",
      "this country has no cells\n",
      "this country has no cells\n",
      "this country has no cells\n",
      "this country has no cells\n",
      "this country has no cells\n",
      "this country has no cells\n",
      "this country has no cells\n",
      "this country has no cells\n",
      "this country has no cells\n",
      "this country has no cells\n",
      "this country has no cells\n",
      "this country has no cells\n",
      "this country has no cells\n",
      "this country has no cells\n",
      "this country has no cells\n",
      "this country has no cells\n",
      "this country has no cells\n",
      "this country has no cells\n",
      "this country has no cells\n",
      "this country has no cells\n",
      "this country has no cells\n",
      "this country has no cells\n",
      "this country has no cells\n",
      "this country has no cells\n",
      "this country has no cells\n",
      "this country has no cells\n",
      "this country has no cells\n",
      "this country has no cells\n",
      "this country has no cells\n",
      "this country has no cells\n",
      "this country has no cells\n",
      "this country has no cells\n",
      "this country has no cells\n",
      "this country has no cells\n",
      "this country has no cells\n",
      "this country has no cells\n",
      "this country has no cells\n",
      "this country has no cells\n",
      "this country has no cells\n",
      "this country has no cells\n",
      "this country has no cells\n",
      "this country has no cells\n",
      "this country has no cells\n",
      "this country has no cells\n",
      "this country has no cells\n",
      "this country has no cells\n",
      "this country has no cells\n",
      "this country has no cells\n",
      "this country has no cells\n",
      "this country has no cells\n",
      "this country has no cells\n",
      "this country has no cells\n",
      "\n",
      "Excellent! You've finished the historical shapefile for INM.INM-CM5-0\n",
      "ssp585 UA.MCM-UA-1-0\n",
      "176\n"
     ]
    },
    {
     "data": {
      "application/vnd.jupyter.widget-view+json": {
       "model_id": "0ae10f1d5eb544f187d73f0675669df2",
       "version_major": 2,
       "version_minor": 0
      },
      "text/plain": [
       "HBox(children=(FloatProgress(value=0.0, max=176.0), HTML(value='')))"
      ]
     },
     "metadata": {},
     "output_type": "display_data"
    },
    {
     "name": "stdout",
     "output_type": "stream",
     "text": [
      "this country has no cells\n",
      "this country has no cells\n",
      "this country has no cells\n",
      "this country has no cells\n",
      "this country has no cells\n",
      "this country has no cells\n",
      "this country has no cells\n",
      "this country has no cells\n",
      "this country has no cells\n",
      "this country has no cells\n",
      "this country has no cells\n",
      "this country has no cells\n",
      "this country has no cells\n",
      "this country has no cells\n",
      "this country has no cells\n",
      "this country has no cells\n",
      "this country has no cells\n",
      "this country has no cells\n",
      "this country has no cells\n",
      "this country has no cells\n",
      "this country has no cells\n",
      "this country has no cells\n",
      "this country has no cells\n",
      "this country has no cells\n",
      "this country has no cells\n",
      "this country has no cells\n",
      "this country has no cells\n",
      "this country has no cells\n",
      "this country has no cells\n",
      "this country has no cells\n",
      "this country has no cells\n",
      "this country has no cells\n",
      "this country has no cells\n",
      "this country has no cells\n",
      "this country has no cells\n",
      "this country has no cells\n",
      "this country has no cells\n",
      "this country has no cells\n",
      "this country has no cells\n",
      "this country has no cells\n",
      "this country has no cells\n",
      "this country has no cells\n",
      "this country has no cells\n",
      "this country has no cells\n",
      "this country has no cells\n",
      "this country has no cells\n",
      "this country has no cells\n",
      "this country has no cells\n",
      "this country has no cells\n",
      "this country has no cells\n",
      "this country has no cells\n",
      "this country has no cells\n",
      "this country has no cells\n",
      "this country has no cells\n",
      "this country has no cells\n",
      "this country has no cells\n",
      "this country has no cells\n",
      "this country has no cells\n",
      "this country has no cells\n",
      "this country has no cells\n",
      "this country has no cells\n",
      "this country has no cells\n",
      "this country has no cells\n",
      "this country has no cells\n",
      "this country has no cells\n",
      "\n",
      "IPSL.IPSL-CM6A-LR\n",
      "Woohoo! You've finished rasterizing your shapefile for IPSL.IPSL-CM6A-LR\n",
      "176\n"
     ]
    },
    {
     "data": {
      "application/vnd.jupyter.widget-view+json": {
       "model_id": "6b7d2fa836c54e4599435196f8a1ea4d",
       "version_major": 2,
       "version_minor": 0
      },
      "text/plain": [
       "HBox(children=(FloatProgress(value=0.0, max=176.0), HTML(value='')))"
      ]
     },
     "metadata": {},
     "output_type": "display_data"
    },
    {
     "name": "stdout",
     "output_type": "stream",
     "text": [
      "this country has no cells\n",
      "this country has no cells\n",
      "this country has no cells\n",
      "this country has no cells\n",
      "this country has no cells\n",
      "this country has no cells\n",
      "this country has no cells\n",
      "this country has no cells\n",
      "this country has no cells\n",
      "this country has no cells\n",
      "this country has no cells\n",
      "this country has no cells\n",
      "this country has no cells\n",
      "this country has no cells\n",
      "this country has no cells\n",
      "this country has no cells\n",
      "this country has no cells\n",
      "this country has no cells\n",
      "this country has no cells\n",
      "this country has no cells\n",
      "this country has no cells\n",
      "this country has no cells\n",
      "this country has no cells\n",
      "this country has no cells\n",
      "this country has no cells\n",
      "this country has no cells\n",
      "this country has no cells\n",
      "this country has no cells\n",
      "this country has no cells\n",
      "this country has no cells\n",
      "this country has no cells\n",
      "this country has no cells\n",
      "this country has no cells\n",
      "this country has no cells\n",
      "this country has no cells\n",
      "this country has no cells\n",
      "this country has no cells\n",
      "this country has no cells\n",
      "this country has no cells\n",
      "this country has no cells\n",
      "this country has no cells\n",
      "this country has no cells\n",
      "this country has no cells\n",
      "this country has no cells\n",
      "this country has no cells\n",
      "this country has no cells\n",
      "this country has no cells\n",
      "this country has no cells\n",
      "this country has no cells\n",
      "this country has no cells\n",
      "this country has no cells\n",
      "this country has no cells\n",
      "this country has no cells\n",
      "this country has no cells\n",
      "this country has no cells\n",
      "this country has no cells\n",
      "this country has no cells\n",
      "this country has no cells\n",
      "this country has no cells\n",
      "this country has no cells\n",
      "this country has no cells\n",
      "\n",
      "Excellent! You've finished the historical shapefile for IPSL.IPSL-CM6A-LR\n",
      "ssp585 UA.MCM-UA-1-0\n",
      "176\n"
     ]
    },
    {
     "data": {
      "application/vnd.jupyter.widget-view+json": {
       "model_id": "29e96d8199b949fd8b3fd83c972c7c1f",
       "version_major": 2,
       "version_minor": 0
      },
      "text/plain": [
       "HBox(children=(FloatProgress(value=0.0, max=176.0), HTML(value='')))"
      ]
     },
     "metadata": {},
     "output_type": "display_data"
    },
    {
     "name": "stdout",
     "output_type": "stream",
     "text": [
      "this country has no cells\n",
      "this country has no cells\n",
      "this country has no cells\n",
      "this country has no cells\n",
      "this country has no cells\n",
      "this country has no cells\n",
      "this country has no cells\n",
      "this country has no cells\n",
      "this country has no cells\n",
      "this country has no cells\n",
      "this country has no cells\n",
      "this country has no cells\n",
      "this country has no cells\n",
      "this country has no cells\n",
      "this country has no cells\n",
      "this country has no cells\n",
      "this country has no cells\n",
      "this country has no cells\n",
      "this country has no cells\n",
      "this country has no cells\n",
      "this country has no cells\n",
      "this country has no cells\n",
      "this country has no cells\n",
      "this country has no cells\n",
      "this country has no cells\n",
      "this country has no cells\n",
      "this country has no cells\n",
      "this country has no cells\n",
      "this country has no cells\n",
      "this country has no cells\n",
      "this country has no cells\n",
      "this country has no cells\n",
      "this country has no cells\n",
      "this country has no cells\n",
      "this country has no cells\n",
      "this country has no cells\n",
      "this country has no cells\n",
      "this country has no cells\n",
      "this country has no cells\n",
      "this country has no cells\n",
      "this country has no cells\n",
      "this country has no cells\n",
      "this country has no cells\n",
      "this country has no cells\n",
      "this country has no cells\n",
      "this country has no cells\n",
      "this country has no cells\n",
      "this country has no cells\n",
      "this country has no cells\n",
      "this country has no cells\n",
      "this country has no cells\n",
      "this country has no cells\n",
      "this country has no cells\n",
      "this country has no cells\n",
      "this country has no cells\n",
      "this country has no cells\n",
      "this country has no cells\n",
      "this country has no cells\n",
      "this country has no cells\n",
      "this country has no cells\n",
      "this country has no cells\n",
      "\n",
      "MIROC.MIROC-ES2L\n",
      "Woohoo! You've finished rasterizing your shapefile for MIROC.MIROC-ES2L\n",
      "176\n"
     ]
    },
    {
     "data": {
      "application/vnd.jupyter.widget-view+json": {
       "model_id": "16f4e4f0da784e90a1b5fba68613a08b",
       "version_major": 2,
       "version_minor": 0
      },
      "text/plain": [
       "HBox(children=(FloatProgress(value=0.0, max=176.0), HTML(value='')))"
      ]
     },
     "metadata": {},
     "output_type": "display_data"
    },
    {
     "name": "stdout",
     "output_type": "stream",
     "text": [
      "this country has no cells\n",
      "this country has no cells\n",
      "this country has no cells\n",
      "this country has no cells\n",
      "this country has no cells\n",
      "this country has no cells\n",
      "this country has no cells\n",
      "this country has no cells\n",
      "this country has no cells\n",
      "this country has no cells\n",
      "this country has no cells\n",
      "this country has no cells\n",
      "this country has no cells\n",
      "this country has no cells\n",
      "this country has no cells\n",
      "this country has no cells\n",
      "this country has no cells\n",
      "this country has no cells\n",
      "this country has no cells\n",
      "this country has no cells\n",
      "this country has no cells\n",
      "this country has no cells\n",
      "this country has no cells\n",
      "this country has no cells\n",
      "this country has no cells\n",
      "this country has no cells\n",
      "this country has no cells\n",
      "this country has no cells\n",
      "this country has no cells\n",
      "this country has no cells\n",
      "this country has no cells\n",
      "this country has no cells\n",
      "this country has no cells\n",
      "this country has no cells\n",
      "this country has no cells\n",
      "this country has no cells\n",
      "this country has no cells\n",
      "this country has no cells\n",
      "this country has no cells\n",
      "this country has no cells\n",
      "this country has no cells\n",
      "this country has no cells\n",
      "this country has no cells\n",
      "this country has no cells\n",
      "this country has no cells\n",
      "this country has no cells\n",
      "this country has no cells\n",
      "this country has no cells\n",
      "this country has no cells\n",
      "this country has no cells\n",
      "this country has no cells\n",
      "this country has no cells\n",
      "this country has no cells\n",
      "this country has no cells\n",
      "this country has no cells\n",
      "this country has no cells\n",
      "this country has no cells\n",
      "this country has no cells\n",
      "this country has no cells\n",
      "this country has no cells\n",
      "this country has no cells\n",
      "this country has no cells\n",
      "this country has no cells\n",
      "this country has no cells\n",
      "this country has no cells\n",
      "this country has no cells\n",
      "this country has no cells\n",
      "this country has no cells\n",
      "this country has no cells\n",
      "this country has no cells\n",
      "this country has no cells\n",
      "this country has no cells\n",
      "this country has no cells\n",
      "this country has no cells\n",
      "this country has no cells\n",
      "this country has no cells\n",
      "this country has no cells\n",
      "this country has no cells\n",
      "this country has no cells\n",
      "this country has no cells\n",
      "this country has no cells\n",
      "this country has no cells\n",
      "this country has no cells\n",
      "this country has no cells\n",
      "this country has no cells\n",
      "this country has no cells\n",
      "this country has no cells\n",
      "\n",
      "Excellent! You've finished the historical shapefile for MIROC.MIROC-ES2L\n",
      "ssp585 UA.MCM-UA-1-0\n",
      "176\n"
     ]
    },
    {
     "data": {
      "application/vnd.jupyter.widget-view+json": {
       "model_id": "5832eda7512a48ed8b93b5b20f0877bb",
       "version_major": 2,
       "version_minor": 0
      },
      "text/plain": [
       "HBox(children=(FloatProgress(value=0.0, max=176.0), HTML(value='')))"
      ]
     },
     "metadata": {},
     "output_type": "display_data"
    },
    {
     "name": "stdout",
     "output_type": "stream",
     "text": [
      "this country has no cells\n",
      "this country has no cells\n",
      "this country has no cells\n",
      "this country has no cells\n",
      "this country has no cells\n",
      "this country has no cells\n",
      "this country has no cells\n",
      "this country has no cells\n",
      "this country has no cells\n",
      "this country has no cells\n",
      "this country has no cells\n",
      "this country has no cells\n",
      "this country has no cells\n",
      "this country has no cells\n",
      "this country has no cells\n",
      "this country has no cells\n",
      "this country has no cells\n",
      "this country has no cells\n",
      "this country has no cells\n",
      "this country has no cells\n",
      "this country has no cells\n",
      "this country has no cells\n",
      "this country has no cells\n",
      "this country has no cells\n",
      "this country has no cells\n",
      "this country has no cells\n",
      "this country has no cells\n",
      "this country has no cells\n",
      "this country has no cells\n",
      "this country has no cells\n",
      "this country has no cells\n",
      "this country has no cells\n",
      "this country has no cells\n",
      "this country has no cells\n",
      "this country has no cells\n",
      "this country has no cells\n",
      "this country has no cells\n",
      "this country has no cells\n",
      "this country has no cells\n",
      "this country has no cells\n",
      "this country has no cells\n",
      "this country has no cells\n",
      "this country has no cells\n",
      "this country has no cells\n",
      "this country has no cells\n",
      "this country has no cells\n",
      "this country has no cells\n",
      "this country has no cells\n",
      "this country has no cells\n",
      "this country has no cells\n",
      "this country has no cells\n",
      "this country has no cells\n",
      "this country has no cells\n",
      "this country has no cells\n",
      "this country has no cells\n",
      "this country has no cells\n",
      "this country has no cells\n",
      "this country has no cells\n",
      "this country has no cells\n",
      "this country has no cells\n",
      "this country has no cells\n",
      "this country has no cells\n",
      "this country has no cells\n",
      "this country has no cells\n",
      "this country has no cells\n",
      "this country has no cells\n",
      "this country has no cells\n",
      "this country has no cells\n",
      "this country has no cells\n",
      "this country has no cells\n",
      "this country has no cells\n",
      "this country has no cells\n",
      "this country has no cells\n",
      "this country has no cells\n",
      "this country has no cells\n",
      "this country has no cells\n",
      "this country has no cells\n",
      "this country has no cells\n",
      "this country has no cells\n",
      "this country has no cells\n",
      "this country has no cells\n",
      "this country has no cells\n",
      "this country has no cells\n",
      "this country has no cells\n",
      "this country has no cells\n",
      "this country has no cells\n",
      "this country has no cells\n",
      "\n",
      "MIROC.MIROC6\n",
      "Woohoo! You've finished rasterizing your shapefile for MIROC.MIROC6\n",
      "176\n"
     ]
    },
    {
     "data": {
      "application/vnd.jupyter.widget-view+json": {
       "model_id": "dba8b505a95a4727a5dbc4a118705ba8",
       "version_major": 2,
       "version_minor": 0
      },
      "text/plain": [
       "HBox(children=(FloatProgress(value=0.0, max=176.0), HTML(value='')))"
      ]
     },
     "metadata": {},
     "output_type": "display_data"
    },
    {
     "name": "stdout",
     "output_type": "stream",
     "text": [
      "this country has no cells\n",
      "this country has no cells\n",
      "this country has no cells\n",
      "this country has no cells\n",
      "this country has no cells\n",
      "this country has no cells\n",
      "this country has no cells\n",
      "this country has no cells\n",
      "this country has no cells\n",
      "this country has no cells\n",
      "this country has no cells\n",
      "this country has no cells\n",
      "this country has no cells\n",
      "this country has no cells\n",
      "this country has no cells\n",
      "this country has no cells\n",
      "this country has no cells\n",
      "this country has no cells\n",
      "this country has no cells\n",
      "this country has no cells\n",
      "this country has no cells\n",
      "this country has no cells\n",
      "this country has no cells\n",
      "this country has no cells\n",
      "this country has no cells\n",
      "this country has no cells\n",
      "this country has no cells\n",
      "this country has no cells\n",
      "this country has no cells\n",
      "this country has no cells\n",
      "this country has no cells\n",
      "this country has no cells\n",
      "this country has no cells\n",
      "this country has no cells\n",
      "this country has no cells\n",
      "this country has no cells\n",
      "this country has no cells\n",
      "this country has no cells\n",
      "this country has no cells\n",
      "this country has no cells\n",
      "this country has no cells\n",
      "this country has no cells\n",
      "this country has no cells\n",
      "this country has no cells\n",
      "this country has no cells\n",
      "this country has no cells\n",
      "this country has no cells\n",
      "this country has no cells\n",
      "this country has no cells\n",
      "this country has no cells\n",
      "this country has no cells\n",
      "this country has no cells\n",
      "this country has no cells\n",
      "this country has no cells\n",
      "\n",
      "Excellent! You've finished the historical shapefile for MIROC.MIROC6\n",
      "ssp585 UA.MCM-UA-1-0\n",
      "176\n"
     ]
    },
    {
     "data": {
      "application/vnd.jupyter.widget-view+json": {
       "model_id": "d912afa2681841cbbd457e8b30f3c144",
       "version_major": 2,
       "version_minor": 0
      },
      "text/plain": [
       "HBox(children=(FloatProgress(value=0.0, max=176.0), HTML(value='')))"
      ]
     },
     "metadata": {},
     "output_type": "display_data"
    },
    {
     "name": "stdout",
     "output_type": "stream",
     "text": [
      "this country has no cells\n",
      "this country has no cells\n",
      "this country has no cells\n",
      "this country has no cells\n",
      "this country has no cells\n",
      "this country has no cells\n",
      "this country has no cells\n",
      "this country has no cells\n",
      "this country has no cells\n",
      "this country has no cells\n",
      "this country has no cells\n",
      "this country has no cells\n",
      "this country has no cells\n",
      "this country has no cells\n",
      "this country has no cells\n",
      "this country has no cells\n",
      "this country has no cells\n",
      "this country has no cells\n",
      "this country has no cells\n",
      "this country has no cells\n",
      "this country has no cells\n",
      "this country has no cells\n",
      "this country has no cells\n",
      "this country has no cells\n",
      "this country has no cells\n",
      "this country has no cells\n",
      "this country has no cells\n",
      "this country has no cells\n",
      "this country has no cells\n",
      "this country has no cells\n",
      "this country has no cells\n",
      "this country has no cells\n",
      "this country has no cells\n",
      "this country has no cells\n",
      "this country has no cells\n",
      "this country has no cells\n",
      "this country has no cells\n",
      "this country has no cells\n",
      "this country has no cells\n",
      "this country has no cells\n",
      "this country has no cells\n",
      "this country has no cells\n",
      "this country has no cells\n",
      "this country has no cells\n",
      "this country has no cells\n",
      "this country has no cells\n",
      "this country has no cells\n",
      "this country has no cells\n",
      "this country has no cells\n",
      "this country has no cells\n",
      "this country has no cells\n",
      "this country has no cells\n",
      "this country has no cells\n",
      "this country has no cells\n",
      "\n",
      "MOHC.UKESM1-0-LL\n",
      "Woohoo! You've finished rasterizing your shapefile for MOHC.UKESM1-0-LL\n",
      "176\n"
     ]
    },
    {
     "data": {
      "application/vnd.jupyter.widget-view+json": {
       "model_id": "f30c5ce701d549b284ca16c5743b67fb",
       "version_major": 2,
       "version_minor": 0
      },
      "text/plain": [
       "HBox(children=(FloatProgress(value=0.0, max=176.0), HTML(value='')))"
      ]
     },
     "metadata": {},
     "output_type": "display_data"
    },
    {
     "name": "stdout",
     "output_type": "stream",
     "text": [
      "this country has no cells\n",
      "this country has no cells\n",
      "this country has no cells\n",
      "this country has no cells\n",
      "this country has no cells\n",
      "this country has no cells\n",
      "this country has no cells\n",
      "this country has no cells\n",
      "this country has no cells\n",
      "this country has no cells\n",
      "this country has no cells\n",
      "this country has no cells\n",
      "this country has no cells\n",
      "this country has no cells\n",
      "this country has no cells\n",
      "this country has no cells\n",
      "this country has no cells\n",
      "this country has no cells\n",
      "this country has no cells\n",
      "this country has no cells\n",
      "this country has no cells\n",
      "this country has no cells\n",
      "this country has no cells\n",
      "this country has no cells\n",
      "this country has no cells\n",
      "this country has no cells\n",
      "this country has no cells\n",
      "this country has no cells\n",
      "this country has no cells\n",
      "this country has no cells\n",
      "this country has no cells\n",
      "this country has no cells\n",
      "this country has no cells\n",
      "this country has no cells\n",
      "this country has no cells\n",
      "this country has no cells\n",
      "this country has no cells\n",
      "this country has no cells\n",
      "this country has no cells\n",
      "this country has no cells\n",
      "this country has no cells\n",
      "this country has no cells\n",
      "this country has no cells\n",
      "this country has no cells\n",
      "this country has no cells\n",
      "this country has no cells\n",
      "this country has no cells\n",
      "this country has no cells\n",
      "this country has no cells\n",
      "this country has no cells\n",
      "this country has no cells\n",
      "this country has no cells\n",
      "this country has no cells\n",
      "this country has no cells\n",
      "this country has no cells\n",
      "this country has no cells\n",
      "\n",
      "Excellent! You've finished the historical shapefile for MOHC.UKESM1-0-LL\n",
      "ssp585 UA.MCM-UA-1-0\n",
      "176\n"
     ]
    },
    {
     "data": {
      "application/vnd.jupyter.widget-view+json": {
       "model_id": "9afbdbf3c13f4ad889ff9fe962f45934",
       "version_major": 2,
       "version_minor": 0
      },
      "text/plain": [
       "HBox(children=(FloatProgress(value=0.0, max=176.0), HTML(value='')))"
      ]
     },
     "metadata": {},
     "output_type": "display_data"
    },
    {
     "name": "stdout",
     "output_type": "stream",
     "text": [
      "this country has no cells\n",
      "this country has no cells\n",
      "this country has no cells\n",
      "this country has no cells\n",
      "this country has no cells\n",
      "this country has no cells\n",
      "this country has no cells\n",
      "this country has no cells\n",
      "this country has no cells\n",
      "this country has no cells\n",
      "this country has no cells\n",
      "this country has no cells\n",
      "this country has no cells\n",
      "this country has no cells\n",
      "this country has no cells\n",
      "this country has no cells\n",
      "this country has no cells\n",
      "this country has no cells\n",
      "this country has no cells\n",
      "this country has no cells\n",
      "this country has no cells\n",
      "this country has no cells\n",
      "this country has no cells\n",
      "this country has no cells\n",
      "this country has no cells\n",
      "this country has no cells\n",
      "this country has no cells\n",
      "this country has no cells\n",
      "this country has no cells\n",
      "this country has no cells\n",
      "this country has no cells\n",
      "this country has no cells\n",
      "this country has no cells\n",
      "this country has no cells\n",
      "this country has no cells\n",
      "this country has no cells\n",
      "this country has no cells\n",
      "this country has no cells\n",
      "this country has no cells\n",
      "this country has no cells\n",
      "this country has no cells\n",
      "this country has no cells\n",
      "this country has no cells\n",
      "this country has no cells\n",
      "this country has no cells\n",
      "this country has no cells\n",
      "this country has no cells\n",
      "this country has no cells\n",
      "this country has no cells\n",
      "this country has no cells\n",
      "this country has no cells\n",
      "this country has no cells\n",
      "this country has no cells\n",
      "this country has no cells\n",
      "this country has no cells\n",
      "this country has no cells\n",
      "\n",
      "MPI-M.MPI-ESM1-2-LR\n",
      "Woohoo! You've finished rasterizing your shapefile for MPI-M.MPI-ESM1-2-LR\n",
      "176\n"
     ]
    },
    {
     "data": {
      "application/vnd.jupyter.widget-view+json": {
       "model_id": "c1cf2d7c06c44f2d8bf9786292294311",
       "version_major": 2,
       "version_minor": 0
      },
      "text/plain": [
       "HBox(children=(FloatProgress(value=0.0, max=176.0), HTML(value='')))"
      ]
     },
     "metadata": {},
     "output_type": "display_data"
    },
    {
     "name": "stdout",
     "output_type": "stream",
     "text": [
      "this country has no cells\n",
      "this country has no cells\n",
      "this country has no cells\n",
      "this country has no cells\n",
      "this country has no cells\n",
      "this country has no cells\n",
      "this country has no cells\n",
      "this country has no cells\n",
      "this country has no cells\n",
      "this country has no cells\n",
      "this country has no cells\n",
      "this country has no cells\n",
      "this country has no cells\n",
      "this country has no cells\n",
      "this country has no cells\n",
      "this country has no cells\n",
      "this country has no cells\n",
      "this country has no cells\n",
      "this country has no cells\n",
      "this country has no cells\n",
      "this country has no cells\n",
      "this country has no cells\n",
      "this country has no cells\n",
      "this country has no cells\n",
      "this country has no cells\n",
      "this country has no cells\n",
      "this country has no cells\n",
      "this country has no cells\n",
      "this country has no cells\n",
      "this country has no cells\n",
      "this country has no cells\n",
      "this country has no cells\n",
      "this country has no cells\n",
      "this country has no cells\n",
      "this country has no cells\n",
      "this country has no cells\n",
      "this country has no cells\n",
      "this country has no cells\n",
      "this country has no cells\n",
      "this country has no cells\n",
      "this country has no cells\n",
      "this country has no cells\n",
      "this country has no cells\n",
      "this country has no cells\n",
      "this country has no cells\n",
      "this country has no cells\n",
      "this country has no cells\n",
      "this country has no cells\n",
      "this country has no cells\n",
      "this country has no cells\n",
      "this country has no cells\n",
      "this country has no cells\n",
      "this country has no cells\n",
      "this country has no cells\n",
      "this country has no cells\n",
      "this country has no cells\n",
      "this country has no cells\n",
      "this country has no cells\n",
      "this country has no cells\n",
      "this country has no cells\n",
      "this country has no cells\n",
      "this country has no cells\n",
      "this country has no cells\n",
      "this country has no cells\n",
      "this country has no cells\n",
      "this country has no cells\n",
      "this country has no cells\n",
      "this country has no cells\n",
      "this country has no cells\n",
      "\n",
      "Excellent! You've finished the historical shapefile for MPI-M.MPI-ESM1-2-LR\n",
      "ssp585 UA.MCM-UA-1-0\n",
      "176\n"
     ]
    },
    {
     "data": {
      "application/vnd.jupyter.widget-view+json": {
       "model_id": "ac7a36395b044ced9d7efd7dc55a6958",
       "version_major": 2,
       "version_minor": 0
      },
      "text/plain": [
       "HBox(children=(FloatProgress(value=0.0, max=176.0), HTML(value='')))"
      ]
     },
     "metadata": {},
     "output_type": "display_data"
    },
    {
     "name": "stdout",
     "output_type": "stream",
     "text": [
      "this country has no cells\n",
      "this country has no cells\n",
      "this country has no cells\n",
      "this country has no cells\n",
      "this country has no cells\n",
      "this country has no cells\n",
      "this country has no cells\n",
      "this country has no cells\n",
      "this country has no cells\n",
      "this country has no cells\n",
      "this country has no cells\n",
      "this country has no cells\n",
      "this country has no cells\n",
      "this country has no cells\n",
      "this country has no cells\n",
      "this country has no cells\n",
      "this country has no cells\n",
      "this country has no cells\n",
      "this country has no cells\n",
      "this country has no cells\n",
      "this country has no cells\n",
      "this country has no cells\n",
      "this country has no cells\n",
      "this country has no cells\n",
      "this country has no cells\n",
      "this country has no cells\n",
      "this country has no cells\n",
      "this country has no cells\n",
      "this country has no cells\n",
      "this country has no cells\n",
      "this country has no cells\n",
      "this country has no cells\n",
      "this country has no cells\n",
      "this country has no cells\n",
      "this country has no cells\n",
      "this country has no cells\n",
      "this country has no cells\n",
      "this country has no cells\n",
      "this country has no cells\n",
      "this country has no cells\n",
      "this country has no cells\n",
      "this country has no cells\n",
      "this country has no cells\n",
      "this country has no cells\n",
      "this country has no cells\n",
      "this country has no cells\n",
      "this country has no cells\n",
      "this country has no cells\n",
      "this country has no cells\n",
      "this country has no cells\n",
      "this country has no cells\n",
      "this country has no cells\n",
      "this country has no cells\n",
      "this country has no cells\n",
      "this country has no cells\n",
      "this country has no cells\n",
      "this country has no cells\n",
      "this country has no cells\n",
      "this country has no cells\n",
      "this country has no cells\n",
      "this country has no cells\n",
      "this country has no cells\n",
      "this country has no cells\n",
      "this country has no cells\n",
      "this country has no cells\n",
      "this country has no cells\n",
      "this country has no cells\n",
      "this country has no cells\n",
      "this country has no cells\n",
      "\n",
      "MRI.MRI-ESM2-0\n",
      "Woohoo! You've finished rasterizing your shapefile for MRI.MRI-ESM2-0\n",
      "176\n"
     ]
    },
    {
     "data": {
      "application/vnd.jupyter.widget-view+json": {
       "model_id": "96e3e0ac00b1412ba8cb52dda7428f13",
       "version_major": 2,
       "version_minor": 0
      },
      "text/plain": [
       "HBox(children=(FloatProgress(value=0.0, max=176.0), HTML(value='')))"
      ]
     },
     "metadata": {},
     "output_type": "display_data"
    },
    {
     "name": "stdout",
     "output_type": "stream",
     "text": [
      "this country has no cells\n",
      "this country has no cells\n",
      "this country has no cells\n",
      "this country has no cells\n",
      "this country has no cells\n",
      "this country has no cells\n",
      "this country has no cells\n",
      "this country has no cells\n",
      "this country has no cells\n",
      "this country has no cells\n",
      "this country has no cells\n",
      "this country has no cells\n",
      "this country has no cells\n",
      "this country has no cells\n",
      "this country has no cells\n",
      "this country has no cells\n",
      "this country has no cells\n",
      "this country has no cells\n",
      "this country has no cells\n",
      "this country has no cells\n",
      "this country has no cells\n",
      "this country has no cells\n",
      "this country has no cells\n",
      "this country has no cells\n",
      "this country has no cells\n",
      "this country has no cells\n",
      "this country has no cells\n",
      "this country has no cells\n",
      "this country has no cells\n",
      "this country has no cells\n",
      "this country has no cells\n",
      "this country has no cells\n",
      "this country has no cells\n",
      "this country has no cells\n",
      "this country has no cells\n",
      "this country has no cells\n",
      "this country has no cells\n",
      "this country has no cells\n",
      "this country has no cells\n",
      "this country has no cells\n",
      "this country has no cells\n",
      "this country has no cells\n",
      "this country has no cells\n",
      "this country has no cells\n",
      "\n",
      "Excellent! You've finished the historical shapefile for MRI.MRI-ESM2-0\n",
      "ssp585 UA.MCM-UA-1-0\n",
      "176\n"
     ]
    },
    {
     "data": {
      "application/vnd.jupyter.widget-view+json": {
       "model_id": "e6d7bea18c954243b9713ffcdd25e24a",
       "version_major": 2,
       "version_minor": 0
      },
      "text/plain": [
       "HBox(children=(FloatProgress(value=0.0, max=176.0), HTML(value='')))"
      ]
     },
     "metadata": {},
     "output_type": "display_data"
    },
    {
     "name": "stdout",
     "output_type": "stream",
     "text": [
      "this country has no cells\n",
      "this country has no cells\n",
      "this country has no cells\n",
      "this country has no cells\n",
      "this country has no cells\n",
      "this country has no cells\n",
      "this country has no cells\n",
      "this country has no cells\n",
      "this country has no cells\n",
      "this country has no cells\n",
      "this country has no cells\n",
      "this country has no cells\n",
      "this country has no cells\n",
      "this country has no cells\n",
      "this country has no cells\n",
      "this country has no cells\n",
      "this country has no cells\n",
      "this country has no cells\n",
      "this country has no cells\n",
      "this country has no cells\n",
      "this country has no cells\n",
      "this country has no cells\n",
      "this country has no cells\n",
      "this country has no cells\n",
      "this country has no cells\n",
      "this country has no cells\n",
      "this country has no cells\n",
      "this country has no cells\n",
      "this country has no cells\n",
      "this country has no cells\n",
      "this country has no cells\n",
      "this country has no cells\n",
      "this country has no cells\n",
      "this country has no cells\n",
      "this country has no cells\n",
      "this country has no cells\n",
      "this country has no cells\n",
      "this country has no cells\n",
      "this country has no cells\n",
      "this country has no cells\n",
      "this country has no cells\n",
      "this country has no cells\n",
      "this country has no cells\n",
      "this country has no cells\n",
      "\n",
      "NCAR.CESM2\n",
      "Woohoo! You've finished rasterizing your shapefile for NCAR.CESM2\n",
      "176\n"
     ]
    },
    {
     "data": {
      "application/vnd.jupyter.widget-view+json": {
       "model_id": "6681ce04af424274894a6cb07da61806",
       "version_major": 2,
       "version_minor": 0
      },
      "text/plain": [
       "HBox(children=(FloatProgress(value=0.0, max=176.0), HTML(value='')))"
      ]
     },
     "metadata": {},
     "output_type": "display_data"
    },
    {
     "name": "stdout",
     "output_type": "stream",
     "text": [
      "this country has no cells\n",
      "this country has no cells\n",
      "this country has no cells\n",
      "this country has no cells\n",
      "this country has no cells\n",
      "this country has no cells\n",
      "this country has no cells\n",
      "this country has no cells\n",
      "this country has no cells\n",
      "this country has no cells\n",
      "this country has no cells\n",
      "this country has no cells\n",
      "this country has no cells\n",
      "this country has no cells\n",
      "this country has no cells\n",
      "this country has no cells\n",
      "this country has no cells\n",
      "this country has no cells\n",
      "this country has no cells\n",
      "this country has no cells\n",
      "this country has no cells\n",
      "this country has no cells\n",
      "this country has no cells\n",
      "this country has no cells\n",
      "this country has no cells\n",
      "this country has no cells\n",
      "this country has no cells\n",
      "this country has no cells\n",
      "this country has no cells\n",
      "this country has no cells\n",
      "this country has no cells\n",
      "this country has no cells\n",
      "this country has no cells\n",
      "this country has no cells\n",
      "this country has no cells\n",
      "this country has no cells\n",
      "this country has no cells\n",
      "this country has no cells\n",
      "this country has no cells\n",
      "this country has no cells\n",
      "this country has no cells\n",
      "this country has no cells\n",
      "this country has no cells\n",
      "this country has no cells\n",
      "this country has no cells\n",
      "this country has no cells\n",
      "\n",
      "Excellent! You've finished the historical shapefile for NCAR.CESM2\n",
      "ssp585 UA.MCM-UA-1-0\n",
      "176\n"
     ]
    },
    {
     "data": {
      "application/vnd.jupyter.widget-view+json": {
       "model_id": "968839b655334275abfe0fde70feb655",
       "version_major": 2,
       "version_minor": 0
      },
      "text/plain": [
       "HBox(children=(FloatProgress(value=0.0, max=176.0), HTML(value='')))"
      ]
     },
     "metadata": {},
     "output_type": "display_data"
    },
    {
     "name": "stdout",
     "output_type": "stream",
     "text": [
      "this country has no cells\n",
      "this country has no cells\n",
      "this country has no cells\n",
      "this country has no cells\n",
      "this country has no cells\n",
      "this country has no cells\n",
      "this country has no cells\n",
      "this country has no cells\n",
      "this country has no cells\n",
      "this country has no cells\n",
      "this country has no cells\n",
      "this country has no cells\n",
      "this country has no cells\n",
      "this country has no cells\n",
      "this country has no cells\n",
      "this country has no cells\n",
      "this country has no cells\n",
      "this country has no cells\n",
      "this country has no cells\n",
      "this country has no cells\n",
      "this country has no cells\n",
      "this country has no cells\n",
      "this country has no cells\n",
      "this country has no cells\n",
      "this country has no cells\n",
      "this country has no cells\n",
      "this country has no cells\n",
      "this country has no cells\n",
      "this country has no cells\n",
      "this country has no cells\n",
      "this country has no cells\n",
      "this country has no cells\n",
      "this country has no cells\n",
      "this country has no cells\n",
      "this country has no cells\n",
      "this country has no cells\n",
      "this country has no cells\n",
      "this country has no cells\n",
      "this country has no cells\n",
      "this country has no cells\n",
      "this country has no cells\n",
      "this country has no cells\n",
      "this country has no cells\n",
      "this country has no cells\n",
      "this country has no cells\n",
      "this country has no cells\n",
      "\n",
      "NCAR.CESM2-WACCM\n",
      "Woohoo! You've finished rasterizing your shapefile for NCAR.CESM2-WACCM\n",
      "176\n"
     ]
    },
    {
     "data": {
      "application/vnd.jupyter.widget-view+json": {
       "model_id": "6976258434604e5c949e3db286b093a4",
       "version_major": 2,
       "version_minor": 0
      },
      "text/plain": [
       "HBox(children=(FloatProgress(value=0.0, max=176.0), HTML(value='')))"
      ]
     },
     "metadata": {},
     "output_type": "display_data"
    },
    {
     "name": "stdout",
     "output_type": "stream",
     "text": [
      "this country has no cells\n",
      "this country has no cells\n",
      "this country has no cells\n",
      "this country has no cells\n",
      "this country has no cells\n",
      "this country has no cells\n",
      "this country has no cells\n",
      "this country has no cells\n",
      "this country has no cells\n",
      "this country has no cells\n",
      "this country has no cells\n",
      "this country has no cells\n",
      "this country has no cells\n",
      "this country has no cells\n",
      "this country has no cells\n",
      "this country has no cells\n",
      "this country has no cells\n",
      "this country has no cells\n",
      "this country has no cells\n",
      "this country has no cells\n",
      "this country has no cells\n",
      "this country has no cells\n",
      "this country has no cells\n",
      "this country has no cells\n",
      "this country has no cells\n",
      "this country has no cells\n",
      "this country has no cells\n",
      "this country has no cells\n",
      "this country has no cells\n",
      "this country has no cells\n",
      "this country has no cells\n",
      "this country has no cells\n",
      "this country has no cells\n",
      "this country has no cells\n",
      "this country has no cells\n",
      "this country has no cells\n",
      "this country has no cells\n",
      "this country has no cells\n",
      "this country has no cells\n",
      "this country has no cells\n",
      "this country has no cells\n",
      "this country has no cells\n",
      "this country has no cells\n",
      "this country has no cells\n",
      "this country has no cells\n",
      "this country has no cells\n",
      "\n",
      "Excellent! You've finished the historical shapefile for NCAR.CESM2-WACCM\n",
      "ssp585 UA.MCM-UA-1-0\n",
      "176\n"
     ]
    },
    {
     "data": {
      "application/vnd.jupyter.widget-view+json": {
       "model_id": "89dd0d3b0bd542dfa28af16921ffd682",
       "version_major": 2,
       "version_minor": 0
      },
      "text/plain": [
       "HBox(children=(FloatProgress(value=0.0, max=176.0), HTML(value='')))"
      ]
     },
     "metadata": {},
     "output_type": "display_data"
    },
    {
     "name": "stdout",
     "output_type": "stream",
     "text": [
      "this country has no cells\n",
      "this country has no cells\n",
      "this country has no cells\n",
      "this country has no cells\n",
      "this country has no cells\n",
      "this country has no cells\n",
      "this country has no cells\n",
      "this country has no cells\n",
      "this country has no cells\n",
      "this country has no cells\n",
      "this country has no cells\n",
      "this country has no cells\n",
      "this country has no cells\n",
      "this country has no cells\n",
      "this country has no cells\n",
      "this country has no cells\n",
      "this country has no cells\n",
      "this country has no cells\n",
      "this country has no cells\n",
      "this country has no cells\n",
      "this country has no cells\n",
      "this country has no cells\n",
      "this country has no cells\n",
      "this country has no cells\n",
      "this country has no cells\n",
      "this country has no cells\n",
      "this country has no cells\n",
      "this country has no cells\n",
      "this country has no cells\n",
      "this country has no cells\n",
      "this country has no cells\n",
      "this country has no cells\n",
      "this country has no cells\n",
      "this country has no cells\n",
      "this country has no cells\n",
      "this country has no cells\n",
      "this country has no cells\n",
      "this country has no cells\n",
      "this country has no cells\n",
      "this country has no cells\n",
      "this country has no cells\n",
      "this country has no cells\n",
      "this country has no cells\n",
      "this country has no cells\n",
      "this country has no cells\n",
      "this country has no cells\n",
      "\n",
      "NIMS-KMA.KACE-1-0-G\n",
      "Woohoo! You've finished rasterizing your shapefile for NIMS-KMA.KACE-1-0-G\n",
      "176\n"
     ]
    },
    {
     "data": {
      "application/vnd.jupyter.widget-view+json": {
       "model_id": "453a1dbdf1e94e158d85153f61eed466",
       "version_major": 2,
       "version_minor": 0
      },
      "text/plain": [
       "HBox(children=(FloatProgress(value=0.0, max=176.0), HTML(value='')))"
      ]
     },
     "metadata": {},
     "output_type": "display_data"
    },
    {
     "name": "stdout",
     "output_type": "stream",
     "text": [
      "this country has no cells\n",
      "this country has no cells\n",
      "this country has no cells\n",
      "this country has no cells\n",
      "this country has no cells\n",
      "this country has no cells\n",
      "this country has no cells\n",
      "this country has no cells\n",
      "this country has no cells\n",
      "this country has no cells\n",
      "this country has no cells\n",
      "this country has no cells\n",
      "this country has no cells\n",
      "this country has no cells\n",
      "this country has no cells\n",
      "this country has no cells\n",
      "this country has no cells\n",
      "this country has no cells\n",
      "this country has no cells\n",
      "this country has no cells\n",
      "this country has no cells\n",
      "this country has no cells\n",
      "this country has no cells\n",
      "this country has no cells\n",
      "this country has no cells\n",
      "this country has no cells\n",
      "this country has no cells\n",
      "this country has no cells\n",
      "this country has no cells\n",
      "this country has no cells\n",
      "this country has no cells\n",
      "this country has no cells\n",
      "this country has no cells\n",
      "this country has no cells\n",
      "this country has no cells\n",
      "this country has no cells\n",
      "this country has no cells\n",
      "this country has no cells\n",
      "this country has no cells\n",
      "this country has no cells\n",
      "this country has no cells\n",
      "this country has no cells\n",
      "this country has no cells\n",
      "this country has no cells\n",
      "this country has no cells\n",
      "this country has no cells\n",
      "this country has no cells\n",
      "this country has no cells\n",
      "this country has no cells\n",
      "this country has no cells\n",
      "this country has no cells\n",
      "this country has no cells\n",
      "this country has no cells\n",
      "this country has no cells\n",
      "this country has no cells\n",
      "this country has no cells\n",
      "\n",
      "Excellent! You've finished the historical shapefile for NIMS-KMA.KACE-1-0-G\n",
      "ssp585 UA.MCM-UA-1-0\n",
      "176\n"
     ]
    },
    {
     "data": {
      "application/vnd.jupyter.widget-view+json": {
       "model_id": "c88b9a5fe1fe4543a10214127eedb0f9",
       "version_major": 2,
       "version_minor": 0
      },
      "text/plain": [
       "HBox(children=(FloatProgress(value=0.0, max=176.0), HTML(value='')))"
      ]
     },
     "metadata": {},
     "output_type": "display_data"
    },
    {
     "name": "stdout",
     "output_type": "stream",
     "text": [
      "this country has no cells\n",
      "this country has no cells\n",
      "this country has no cells\n",
      "this country has no cells\n",
      "this country has no cells\n",
      "this country has no cells\n",
      "this country has no cells\n",
      "this country has no cells\n",
      "this country has no cells\n",
      "this country has no cells\n",
      "this country has no cells\n",
      "this country has no cells\n",
      "this country has no cells\n",
      "this country has no cells\n",
      "this country has no cells\n",
      "this country has no cells\n",
      "this country has no cells\n",
      "this country has no cells\n",
      "this country has no cells\n",
      "this country has no cells\n",
      "this country has no cells\n",
      "this country has no cells\n",
      "this country has no cells\n",
      "this country has no cells\n",
      "this country has no cells\n",
      "this country has no cells\n",
      "this country has no cells\n",
      "this country has no cells\n",
      "this country has no cells\n",
      "this country has no cells\n",
      "this country has no cells\n",
      "this country has no cells\n",
      "this country has no cells\n",
      "this country has no cells\n",
      "this country has no cells\n",
      "this country has no cells\n",
      "this country has no cells\n",
      "this country has no cells\n",
      "this country has no cells\n",
      "this country has no cells\n",
      "this country has no cells\n",
      "this country has no cells\n",
      "this country has no cells\n",
      "this country has no cells\n",
      "this country has no cells\n",
      "this country has no cells\n",
      "this country has no cells\n",
      "this country has no cells\n",
      "this country has no cells\n",
      "this country has no cells\n",
      "this country has no cells\n",
      "this country has no cells\n",
      "this country has no cells\n",
      "this country has no cells\n",
      "this country has no cells\n",
      "this country has no cells\n",
      "\n",
      "NOAA-GFDL.GFDL-CM4\n",
      "Woohoo! You've finished rasterizing your shapefile for NOAA-GFDL.GFDL-CM4\n",
      "176\n"
     ]
    },
    {
     "data": {
      "application/vnd.jupyter.widget-view+json": {
       "model_id": "2a1539d18f6843c48f821b93bc307607",
       "version_major": 2,
       "version_minor": 0
      },
      "text/plain": [
       "HBox(children=(FloatProgress(value=0.0, max=176.0), HTML(value='')))"
      ]
     },
     "metadata": {},
     "output_type": "display_data"
    },
    {
     "name": "stdout",
     "output_type": "stream",
     "text": [
      "this country has no cells\n",
      "this country has no cells\n",
      "this country has no cells\n",
      "this country has no cells\n",
      "this country has no cells\n",
      "this country has no cells\n",
      "this country has no cells\n",
      "this country has no cells\n",
      "this country has no cells\n",
      "this country has no cells\n",
      "this country has no cells\n",
      "this country has no cells\n",
      "this country has no cells\n",
      "this country has no cells\n",
      "this country has no cells\n",
      "this country has no cells\n",
      "this country has no cells\n",
      "this country has no cells\n",
      "this country has no cells\n",
      "this country has no cells\n",
      "this country has no cells\n",
      "this country has no cells\n",
      "this country has no cells\n",
      "this country has no cells\n",
      "this country has no cells\n",
      "this country has no cells\n",
      "this country has no cells\n",
      "this country has no cells\n",
      "this country has no cells\n",
      "this country has no cells\n",
      "this country has no cells\n",
      "this country has no cells\n",
      "this country has no cells\n",
      "this country has no cells\n",
      "this country has no cells\n",
      "this country has no cells\n",
      "this country has no cells\n",
      "this country has no cells\n",
      "this country has no cells\n",
      "this country has no cells\n",
      "this country has no cells\n",
      "this country has no cells\n",
      "this country has no cells\n",
      "this country has no cells\n",
      "this country has no cells\n",
      "this country has no cells\n",
      "this country has no cells\n",
      "this country has no cells\n",
      "\n",
      "Excellent! You've finished the historical shapefile for NOAA-GFDL.GFDL-CM4\n",
      "ssp585 UA.MCM-UA-1-0\n",
      "176\n"
     ]
    },
    {
     "data": {
      "application/vnd.jupyter.widget-view+json": {
       "model_id": "618ece71f71e4e2d840917a3468cc247",
       "version_major": 2,
       "version_minor": 0
      },
      "text/plain": [
       "HBox(children=(FloatProgress(value=0.0, max=176.0), HTML(value='')))"
      ]
     },
     "metadata": {},
     "output_type": "display_data"
    },
    {
     "name": "stdout",
     "output_type": "stream",
     "text": [
      "this country has no cells\n",
      "this country has no cells\n",
      "this country has no cells\n",
      "this country has no cells\n",
      "this country has no cells\n",
      "this country has no cells\n",
      "this country has no cells\n",
      "this country has no cells\n",
      "this country has no cells\n",
      "this country has no cells\n",
      "this country has no cells\n",
      "this country has no cells\n",
      "this country has no cells\n",
      "this country has no cells\n",
      "this country has no cells\n",
      "this country has no cells\n",
      "this country has no cells\n",
      "this country has no cells\n",
      "this country has no cells\n",
      "this country has no cells\n",
      "this country has no cells\n",
      "this country has no cells\n",
      "this country has no cells\n",
      "this country has no cells\n",
      "this country has no cells\n",
      "this country has no cells\n",
      "this country has no cells\n",
      "this country has no cells\n",
      "this country has no cells\n",
      "this country has no cells\n",
      "this country has no cells\n",
      "this country has no cells\n",
      "this country has no cells\n",
      "this country has no cells\n",
      "this country has no cells\n",
      "this country has no cells\n",
      "this country has no cells\n",
      "this country has no cells\n",
      "this country has no cells\n",
      "this country has no cells\n",
      "this country has no cells\n",
      "this country has no cells\n",
      "this country has no cells\n",
      "this country has no cells\n",
      "this country has no cells\n",
      "this country has no cells\n",
      "this country has no cells\n",
      "this country has no cells\n",
      "\n",
      "UA.MCM-UA-1-0\n",
      "Woohoo! You've finished rasterizing your shapefile for UA.MCM-UA-1-0\n",
      "176\n"
     ]
    },
    {
     "data": {
      "application/vnd.jupyter.widget-view+json": {
       "model_id": "6c1c10702c7d41aa866285310db2a335",
       "version_major": 2,
       "version_minor": 0
      },
      "text/plain": [
       "HBox(children=(FloatProgress(value=0.0, max=176.0), HTML(value='')))"
      ]
     },
     "metadata": {},
     "output_type": "display_data"
    },
    {
     "name": "stdout",
     "output_type": "stream",
     "text": [
      "this country has no cells\n",
      "this country has no cells\n",
      "this country has no cells\n",
      "this country has no cells\n",
      "this country has no cells\n",
      "this country has no cells\n",
      "this country has no cells\n",
      "this country has no cells\n",
      "this country has no cells\n",
      "this country has no cells\n",
      "this country has no cells\n",
      "this country has no cells\n",
      "this country has no cells\n",
      "this country has no cells\n",
      "this country has no cells\n",
      "this country has no cells\n",
      "this country has no cells\n",
      "this country has no cells\n",
      "this country has no cells\n",
      "this country has no cells\n",
      "this country has no cells\n",
      "this country has no cells\n",
      "this country has no cells\n",
      "this country has no cells\n",
      "this country has no cells\n",
      "this country has no cells\n",
      "this country has no cells\n",
      "this country has no cells\n",
      "this country has no cells\n",
      "this country has no cells\n",
      "this country has no cells\n",
      "this country has no cells\n",
      "this country has no cells\n",
      "this country has no cells\n",
      "this country has no cells\n",
      "this country has no cells\n",
      "this country has no cells\n",
      "this country has no cells\n",
      "this country has no cells\n",
      "this country has no cells\n",
      "this country has no cells\n",
      "this country has no cells\n",
      "this country has no cells\n",
      "this country has no cells\n",
      "this country has no cells\n",
      "this country has no cells\n",
      "this country has no cells\n",
      "this country has no cells\n",
      "this country has no cells\n",
      "this country has no cells\n",
      "this country has no cells\n",
      "this country has no cells\n",
      "this country has no cells\n",
      "this country has no cells\n",
      "this country has no cells\n",
      "this country has no cells\n",
      "this country has no cells\n",
      "this country has no cells\n",
      "this country has no cells\n",
      "this country has no cells\n",
      "this country has no cells\n",
      "this country has no cells\n",
      "this country has no cells\n",
      "this country has no cells\n",
      "this country has no cells\n",
      "this country has no cells\n",
      "this country has no cells\n",
      "this country has no cells\n",
      "this country has no cells\n",
      "this country has no cells\n",
      "this country has no cells\n",
      "this country has no cells\n",
      "this country has no cells\n",
      "this country has no cells\n",
      "this country has no cells\n",
      "this country has no cells\n",
      "this country has no cells\n",
      "this country has no cells\n",
      "this country has no cells\n",
      "this country has no cells\n",
      "this country has no cells\n",
      "this country has no cells\n",
      "this country has no cells\n",
      "this country has no cells\n",
      "this country has no cells\n",
      "this country has no cells\n",
      "\n",
      "Excellent! You've finished the historical shapefile for UA.MCM-UA-1-0\n",
      "ssp585 UA.MCM-UA-1-0\n",
      "176\n"
     ]
    },
    {
     "data": {
      "application/vnd.jupyter.widget-view+json": {
       "model_id": "6799278be5b6467e96e2ad4ec6c6654b",
       "version_major": 2,
       "version_minor": 0
      },
      "text/plain": [
       "HBox(children=(FloatProgress(value=0.0, max=176.0), HTML(value='')))"
      ]
     },
     "metadata": {},
     "output_type": "display_data"
    },
    {
     "name": "stdout",
     "output_type": "stream",
     "text": [
      "this country has no cells\n",
      "this country has no cells\n",
      "this country has no cells\n",
      "this country has no cells\n",
      "this country has no cells\n",
      "this country has no cells\n",
      "this country has no cells\n",
      "this country has no cells\n",
      "this country has no cells\n",
      "this country has no cells\n",
      "this country has no cells\n",
      "this country has no cells\n",
      "this country has no cells\n",
      "this country has no cells\n",
      "this country has no cells\n",
      "this country has no cells\n",
      "this country has no cells\n",
      "this country has no cells\n",
      "this country has no cells\n",
      "this country has no cells\n",
      "this country has no cells\n",
      "this country has no cells\n",
      "this country has no cells\n",
      "this country has no cells\n",
      "this country has no cells\n",
      "this country has no cells\n",
      "this country has no cells\n",
      "this country has no cells\n",
      "this country has no cells\n",
      "this country has no cells\n",
      "this country has no cells\n",
      "this country has no cells\n",
      "this country has no cells\n",
      "this country has no cells\n",
      "this country has no cells\n",
      "this country has no cells\n",
      "this country has no cells\n",
      "this country has no cells\n",
      "this country has no cells\n",
      "this country has no cells\n",
      "this country has no cells\n",
      "this country has no cells\n",
      "this country has no cells\n",
      "this country has no cells\n",
      "this country has no cells\n",
      "this country has no cells\n",
      "this country has no cells\n",
      "this country has no cells\n",
      "this country has no cells\n",
      "this country has no cells\n",
      "this country has no cells\n",
      "this country has no cells\n",
      "this country has no cells\n",
      "this country has no cells\n",
      "this country has no cells\n",
      "this country has no cells\n",
      "this country has no cells\n",
      "this country has no cells\n",
      "this country has no cells\n",
      "this country has no cells\n",
      "this country has no cells\n",
      "this country has no cells\n",
      "this country has no cells\n",
      "this country has no cells\n",
      "this country has no cells\n",
      "this country has no cells\n",
      "this country has no cells\n",
      "this country has no cells\n",
      "this country has no cells\n",
      "this country has no cells\n",
      "this country has no cells\n",
      "this country has no cells\n",
      "this country has no cells\n",
      "this country has no cells\n",
      "this country has no cells\n",
      "this country has no cells\n",
      "this country has no cells\n",
      "this country has no cells\n",
      "this country has no cells\n",
      "this country has no cells\n",
      "this country has no cells\n",
      "this country has no cells\n",
      "this country has no cells\n",
      "this country has no cells\n",
      "this country has no cells\n",
      "this country has no cells\n",
      "\n"
     ]
    }
   ],
   "source": [
    "# calculate basin averages for each of the 20 GCMs\n",
    "recalculate_basin_means=True\n",
    "recalculate_historical=True\n",
    "recalculate_future=True\n",
    "if recalculate_basin_means:\n",
    "    for gcm_label in valid_setups['ssp585']: \n",
    "        print(gcm_label)\n",
    "        if gcm_label in ['BCC.BCC-CSM2-MR',\n",
    "                        'CNRM-CERFACS.CNRM-CM6-1',\n",
    "                        'CNRM-CERFACS.CNRM-ESM2-1',\n",
    "                        'CAMS.CAMS-CSM1-0']:\n",
    "        \n",
    "#         ['CSIRO-ARCCSS.ACCESS-CM2',\n",
    "#              'MIROC.MIROC-ES2L',\n",
    "#              'CCCma.CanESM5-CanOE',\n",
    "#              'INM.INM-CM5-0',\n",
    "#               'CAMS.CAMS-CSM1-0',\n",
    "#               'EC-Earth-Consortium.EC-Earth3-Veg',\n",
    "#               'INM.INM-CM4-8',\n",
    "#               'CSIRO-ARCCSS.ACCESS-CM2',\n",
    "#               'CCCma.CanESM5',\n",
    "#              'UA.MCM-UA-1-0',\n",
    "#              'NIMS-KMA.KACE-1-0-G',\n",
    "#              'NOAA-GFDL.GFDL-CM4',\n",
    "#              'CSIRO.ACCESS-ESM1-5',\n",
    "#              'NCAR.CESM2',\n",
    "#              'MRI.MRI-ESM2-0',\n",
    "#          'FIO-QLNM.FIO-ESM-2-0',\n",
    "#          'MIROC.MIROC6',\n",
    "#          'MPI-M.MPI-ESM1-2-LR']:\n",
    "            print('{} already done!'.format(gcm_label))\n",
    "            continue\n",
    "        \n",
    "        historical_setup = 'CMIP.{}.historical.Lmon.gn'.format(gcm_label)\n",
    "\n",
    "        \n",
    "        # first make the raster-to-polygon mapping for this grid\n",
    "        sample_file = ds_dict[historical_setup].isel(time=0).compute()\n",
    "        raster_subbasins, subbasin_poly_mask = rasterize_shapefile(subbasins, \n",
    "                                                                   sample_file, \n",
    "                                                                   'SUBBASIN_N')\n",
    "\n",
    "        print(\"Woohoo! You've finished rasterizing your shapefile for {}\".format(gcm_label))\n",
    "        if recalculate_historical:\n",
    "            subbasins_historical = map_gridded_to_basins(ds_dict[historical_setup].mrro, \n",
    "                                               raster_subbasins, subbasins)\n",
    "            subbasins_historical.to_file('{}_polygon_historical_all_basins.shp'.format(gcm_label))\n",
    "            print(\"Excellent! You've finished the historical shapefile for {}\".format(gcm_label))\n",
    "\n",
    "        # rasterize the subbasin differently for every GCM\n",
    "        if recalculate_future:\n",
    "            subbasins_future, subbasins_changes = {}, {}\n",
    "            for setup in ['ssp585']: # eventually do it for all setups\n",
    "                print(setup, gcm)\n",
    "                future_setup = 'ScenarioMIP.{}.{}.Lmon.gn'.format(gcm_label, setup)\n",
    "                subbasins_future[setup] = map_gridded_to_basins(ds_dict[future_setup].mrro, \n",
    "                                               raster_subbasins, subbasins)\n",
    "\n",
    "\n",
    "                subbasins_future[setup].to_file('{}_{}_polygon_future_all_basins.shp'.format(gcm_label, setup))\n",
    "\n",
    "                subbasins_changes[setup] = subbasins.copy(deep=True)\n",
    "                for metric in ['mean', 'h_range']:\n",
    "                    subbasins_changes[setup][metric] = (subbasins_future[setup][metric] - \n",
    "                                                        subbasins_historical[metric])/subbasins_historical[metric]\n",
    "                subbasins_changes[setup].to_file('{}_{}_polygon_changes_all_basins.shp'.format(gcm_label, setup))\n",
    "else:\n",
    "    subbasins_with_mean_changes = gpd.read_file('MIROC6_polygon_changes.shp')"
   ]
  },
  {
   "cell_type": "code",
   "execution_count": 114,
   "metadata": {},
   "outputs": [],
   "source": [
    "test_da = ds_dict[historical_setup].mrro\n",
    "test_da = test_da.rename({'lon': 'longitude',\n",
    "                   'lat': 'latitude'})\n",
    "test_da = test_da.assign_coords(longitude=(((test_da.longitude + 180) % 360) \n",
    "                                     - 180)).sortby('longitude')"
   ]
  },
  {
   "cell_type": "code",
   "execution_count": 118,
   "metadata": {},
   "outputs": [
    {
     "data": {
      "text/html": [
       "<pre>&lt;xarray.DataArray &#x27;mrro&#x27; (time: 3959)&gt;\n",
       "dask.array&lt;getitem, shape=(3959,), dtype=float32, chunksize=(2084,), chunktype=numpy.ndarray&gt;\n",
       "Coordinates:\n",
       "  * time       (time) object 1850-01-01 00:00:00 ... 5807-12-19 00:00:00\n",
       "    latitude   float32 6.338028\n",
       "    longitude  float32 5.0\n",
       "Attributes:\n",
       "    cell_measures:       area: areacella\n",
       "    cell_methods:        area: mean where land time: mean\n",
       "    description:         the total runoff (including &quot;drainage&quot; through the b...\n",
       "    history:             none\n",
       "    interval_operation:  900 s\n",
       "    interval_write:      1 month\n",
       "    long_name:           Total Runoff\n",
       "    online_operation:    average\n",
       "    standard_name:       runoff_flux\n",
       "    units:               kg m-2 s-1</pre>"
      ],
      "text/plain": [
       "<xarray.DataArray 'mrro' (time: 3959)>\n",
       "dask.array<getitem, shape=(3959,), dtype=float32, chunksize=(2084,), chunktype=numpy.ndarray>\n",
       "Coordinates:\n",
       "  * time       (time) object 1850-01-01 00:00:00 ... 5807-12-19 00:00:00\n",
       "    latitude   float32 6.338028\n",
       "    longitude  float32 5.0\n",
       "Attributes:\n",
       "    cell_measures:       area: areacella\n",
       "    cell_methods:        area: mean where land time: mean\n",
       "    description:         the total runoff (including \"drainage\" through the b...\n",
       "    history:             none\n",
       "    interval_operation:  900 s\n",
       "    interval_write:      1 month\n",
       "    long_name:           Total Runoff\n",
       "    online_operation:    average\n",
       "    standard_name:       runoff_flux\n",
       "    units:               kg m-2 s-1"
      ]
     },
     "execution_count": 118,
     "metadata": {},
     "output_type": "execute_result"
    }
   ],
   "source": [
    "test_da.sel(latitude=6.101428985595703,\n",
    "                             longitude=6.101428985595703, \n",
    "                             method='nearest', tolerance=2)"
   ]
  },
  {
   "cell_type": "code",
   "execution_count": 68,
   "metadata": {},
   "outputs": [],
   "source": [
    "basins_of_interest = ['Mekong', 'Amazon', 'Rhine', 'Nile', \n",
    "                            'Columbia', 'Zaire', 'Essequibo', 'Irrawaddy', \n",
    "                            'Jubba-Shebelle', 'Lake Turkana', 'Maritsa', \n",
    "                            'Ob', 'Ogooue', 'Orinoco', 'Song Hong', 'Saigon', \n",
    "                            'Salween', 'San Juan', 'Tarim (Yarkand)', 'Vardar', \n",
    "                            'Ganges-Brahmaputra', 'Niger', \n",
    "                            'Senegal', 'Indus', 'Tigris-Euphrates', 'Uruguay', \n",
    "                            'Parana', 'Zambezi', 'Danube', 'Colorado']"
   ]
  },
  {
   "cell_type": "markdown",
   "metadata": {},
   "source": [
    "# Calculate averages for each individual basin (full, not separated into country parts)\n",
    "## only do it for international basins"
   ]
  },
  {
   "cell_type": "code",
   "execution_count": 55,
   "metadata": {
    "collapsed": true,
    "jupyter": {
     "outputs_hidden": true
    }
   },
   "outputs": [
    {
     "name": "stdout",
     "output_type": "stream",
     "text": [
      "Woohoo! You've finished rasterizing your shapefile for CAMS.CAMS-CSM1-0\n"
     ]
    },
    {
     "data": {
      "application/vnd.jupyter.widget-view+json": {
       "model_id": "4a17198e39b94afb9b2b3096d38c9997",
       "version_major": 2,
       "version_minor": 0
      },
      "text/plain": [
       "HBox(children=(FloatProgress(value=0.0, max=254.0), HTML(value='')))"
      ]
     },
     "metadata": {},
     "output_type": "display_data"
    },
    {
     "name": "stdout",
     "output_type": "stream",
     "text": [
      "\n",
      "Excellent! You've finished the historical shapefile for CAMS.CAMS-CSM1-0\n",
      "ssp585 CCCma.CanESM5\n"
     ]
    },
    {
     "data": {
      "application/vnd.jupyter.widget-view+json": {
       "model_id": "52c4d4ed6b6747a7bdea7ec69a918d3b",
       "version_major": 2,
       "version_minor": 0
      },
      "text/plain": [
       "HBox(children=(FloatProgress(value=0.0, max=254.0), HTML(value='')))"
      ]
     },
     "metadata": {},
     "output_type": "display_data"
    },
    {
     "name": "stdout",
     "output_type": "stream",
     "text": [
      "\n",
      "Woohoo! You've finished rasterizing your shapefile for BCC.BCC-CSM2-MR\n"
     ]
    },
    {
     "data": {
      "application/vnd.jupyter.widget-view+json": {
       "model_id": "2c45001c3a2a44aa90a409a0a3828601",
       "version_major": 2,
       "version_minor": 0
      },
      "text/plain": [
       "HBox(children=(FloatProgress(value=0.0, max=254.0), HTML(value='')))"
      ]
     },
     "metadata": {},
     "output_type": "display_data"
    },
    {
     "name": "stdout",
     "output_type": "stream",
     "text": [
      "\n",
      "Excellent! You've finished the historical shapefile for BCC.BCC-CSM2-MR\n",
      "ssp585 CCCma.CanESM5\n"
     ]
    },
    {
     "data": {
      "application/vnd.jupyter.widget-view+json": {
       "model_id": "2410101d5be342b6afbd6acd2cf9daac",
       "version_major": 2,
       "version_minor": 0
      },
      "text/plain": [
       "HBox(children=(FloatProgress(value=0.0, max=254.0), HTML(value='')))"
      ]
     },
     "metadata": {},
     "output_type": "display_data"
    },
    {
     "name": "stdout",
     "output_type": "stream",
     "text": [
      "\n",
      "Woohoo! You've finished rasterizing your shapefile for CSIRO-ARCCSS.ACCESS-CM2\n"
     ]
    },
    {
     "data": {
      "application/vnd.jupyter.widget-view+json": {
       "model_id": "c17d4a36a6c64053b5afe6ea8b846ae2",
       "version_major": 2,
       "version_minor": 0
      },
      "text/plain": [
       "HBox(children=(FloatProgress(value=0.0, max=254.0), HTML(value='')))"
      ]
     },
     "metadata": {},
     "output_type": "display_data"
    },
    {
     "name": "stdout",
     "output_type": "stream",
     "text": [
      "\n",
      "Excellent! You've finished the historical shapefile for CSIRO-ARCCSS.ACCESS-CM2\n",
      "ssp585 CCCma.CanESM5\n"
     ]
    },
    {
     "data": {
      "application/vnd.jupyter.widget-view+json": {
       "model_id": "7cde0eaddb5b42a88ce91a89610c226f",
       "version_major": 2,
       "version_minor": 0
      },
      "text/plain": [
       "HBox(children=(FloatProgress(value=0.0, max=254.0), HTML(value='')))"
      ]
     },
     "metadata": {},
     "output_type": "display_data"
    },
    {
     "name": "stdout",
     "output_type": "stream",
     "text": [
      "\n",
      "Woohoo! You've finished rasterizing your shapefile for EC-Earth-Consortium.EC-Earth3-Veg\n"
     ]
    },
    {
     "data": {
      "application/vnd.jupyter.widget-view+json": {
       "model_id": "b028ab6241a74e5eb93714037a25ea78",
       "version_major": 2,
       "version_minor": 0
      },
      "text/plain": [
       "HBox(children=(FloatProgress(value=0.0, max=254.0), HTML(value='')))"
      ]
     },
     "metadata": {},
     "output_type": "display_data"
    },
    {
     "name": "stdout",
     "output_type": "stream",
     "text": [
      "\n",
      "Excellent! You've finished the historical shapefile for EC-Earth-Consortium.EC-Earth3-Veg\n",
      "ssp585 CCCma.CanESM5\n"
     ]
    },
    {
     "data": {
      "application/vnd.jupyter.widget-view+json": {
       "model_id": "4e05e5f4a546434cbe9431f8c1c5ad2b",
       "version_major": 2,
       "version_minor": 0
      },
      "text/plain": [
       "HBox(children=(FloatProgress(value=0.0, max=254.0), HTML(value='')))"
      ]
     },
     "metadata": {},
     "output_type": "display_data"
    },
    {
     "name": "stdout",
     "output_type": "stream",
     "text": [
      "\n",
      "Woohoo! You've finished rasterizing your shapefile for INM.INM-CM4-8\n"
     ]
    },
    {
     "data": {
      "application/vnd.jupyter.widget-view+json": {
       "model_id": "b1f563b4fdf54b528ab0abb9cf16ebab",
       "version_major": 2,
       "version_minor": 0
      },
      "text/plain": [
       "HBox(children=(FloatProgress(value=0.0, max=254.0), HTML(value='')))"
      ]
     },
     "metadata": {},
     "output_type": "display_data"
    },
    {
     "name": "stdout",
     "output_type": "stream",
     "text": [
      "\n",
      "Excellent! You've finished the historical shapefile for INM.INM-CM4-8\n",
      "ssp585 CCCma.CanESM5\n"
     ]
    },
    {
     "data": {
      "application/vnd.jupyter.widget-view+json": {
       "model_id": "a5ec87923828429a940368f3086f40a6",
       "version_major": 2,
       "version_minor": 0
      },
      "text/plain": [
       "HBox(children=(FloatProgress(value=0.0, max=254.0), HTML(value='')))"
      ]
     },
     "metadata": {},
     "output_type": "display_data"
    },
    {
     "name": "stdout",
     "output_type": "stream",
     "text": [
      "\n",
      "Woohoo! You've finished rasterizing your shapefile for INM.INM-CM5-0\n"
     ]
    },
    {
     "data": {
      "application/vnd.jupyter.widget-view+json": {
       "model_id": "c4e189767f3c474c87e46db86d457378",
       "version_major": 2,
       "version_minor": 0
      },
      "text/plain": [
       "HBox(children=(FloatProgress(value=0.0, max=254.0), HTML(value='')))"
      ]
     },
     "metadata": {},
     "output_type": "display_data"
    },
    {
     "name": "stdout",
     "output_type": "stream",
     "text": [
      "\n",
      "Excellent! You've finished the historical shapefile for INM.INM-CM5-0\n",
      "ssp585 CCCma.CanESM5\n"
     ]
    },
    {
     "data": {
      "application/vnd.jupyter.widget-view+json": {
       "model_id": "35a0ae380b5d43abb6e6f79c28aea2ca",
       "version_major": 2,
       "version_minor": 0
      },
      "text/plain": [
       "HBox(children=(FloatProgress(value=0.0, max=254.0), HTML(value='')))"
      ]
     },
     "metadata": {},
     "output_type": "display_data"
    },
    {
     "name": "stdout",
     "output_type": "stream",
     "text": [
      "\n",
      "Woohoo! You've finished rasterizing your shapefile for MIROC.MIROC-ES2L\n"
     ]
    },
    {
     "data": {
      "application/vnd.jupyter.widget-view+json": {
       "model_id": "7ed247ebebae4d758873467e1853b242",
       "version_major": 2,
       "version_minor": 0
      },
      "text/plain": [
       "HBox(children=(FloatProgress(value=0.0, max=254.0), HTML(value='')))"
      ]
     },
     "metadata": {},
     "output_type": "display_data"
    },
    {
     "name": "stdout",
     "output_type": "stream",
     "text": [
      "\n",
      "Excellent! You've finished the historical shapefile for MIROC.MIROC-ES2L\n",
      "ssp585 CCCma.CanESM5\n"
     ]
    },
    {
     "data": {
      "application/vnd.jupyter.widget-view+json": {
       "model_id": "63285cde310b40a19863c30ebe6db97e",
       "version_major": 2,
       "version_minor": 0
      },
      "text/plain": [
       "HBox(children=(FloatProgress(value=0.0, max=254.0), HTML(value='')))"
      ]
     },
     "metadata": {},
     "output_type": "display_data"
    },
    {
     "name": "stdout",
     "output_type": "stream",
     "text": [
      "\n",
      "Woohoo! You've finished rasterizing your shapefile for MRI.MRI-ESM2-0\n"
     ]
    },
    {
     "data": {
      "application/vnd.jupyter.widget-view+json": {
       "model_id": "0c9f6e65203e485081bf98cd7966a5e0",
       "version_major": 2,
       "version_minor": 0
      },
      "text/plain": [
       "HBox(children=(FloatProgress(value=0.0, max=254.0), HTML(value='')))"
      ]
     },
     "metadata": {},
     "output_type": "display_data"
    },
    {
     "name": "stdout",
     "output_type": "stream",
     "text": [
      "\n",
      "Excellent! You've finished the historical shapefile for MRI.MRI-ESM2-0\n",
      "ssp585 CCCma.CanESM5\n"
     ]
    },
    {
     "data": {
      "application/vnd.jupyter.widget-view+json": {
       "model_id": "02869c2b1b2d4f7cb6eb17d0415e89c1",
       "version_major": 2,
       "version_minor": 0
      },
      "text/plain": [
       "HBox(children=(FloatProgress(value=0.0, max=254.0), HTML(value='')))"
      ]
     },
     "metadata": {},
     "output_type": "display_data"
    },
    {
     "name": "stdout",
     "output_type": "stream",
     "text": [
      "\n",
      "Woohoo! You've finished rasterizing your shapefile for NIMS-KMA.KACE-1-0-G\n"
     ]
    },
    {
     "data": {
      "application/vnd.jupyter.widget-view+json": {
       "model_id": "5677f99cf6f943c49c7ac55a385d6cdf",
       "version_major": 2,
       "version_minor": 0
      },
      "text/plain": [
       "HBox(children=(FloatProgress(value=0.0, max=254.0), HTML(value='')))"
      ]
     },
     "metadata": {},
     "output_type": "display_data"
    },
    {
     "name": "stdout",
     "output_type": "stream",
     "text": [
      "\n",
      "Excellent! You've finished the historical shapefile for NIMS-KMA.KACE-1-0-G\n",
      "ssp585 CCCma.CanESM5\n"
     ]
    },
    {
     "data": {
      "application/vnd.jupyter.widget-view+json": {
       "model_id": "496a75bcadb84227885b1bba5ce793b3",
       "version_major": 2,
       "version_minor": 0
      },
      "text/plain": [
       "HBox(children=(FloatProgress(value=0.0, max=254.0), HTML(value='')))"
      ]
     },
     "metadata": {},
     "output_type": "display_data"
    },
    {
     "name": "stdout",
     "output_type": "stream",
     "text": [
      "\n",
      "Woohoo! You've finished rasterizing your shapefile for UA.MCM-UA-1-0\n"
     ]
    },
    {
     "data": {
      "application/vnd.jupyter.widget-view+json": {
       "model_id": "cd463cda3e684fca80d09b438e6a787d",
       "version_major": 2,
       "version_minor": 0
      },
      "text/plain": [
       "HBox(children=(FloatProgress(value=0.0, max=254.0), HTML(value='')))"
      ]
     },
     "metadata": {},
     "output_type": "display_data"
    },
    {
     "name": "stdout",
     "output_type": "stream",
     "text": [
      "\n",
      "Excellent! You've finished the historical shapefile for UA.MCM-UA-1-0\n",
      "ssp585 CCCma.CanESM5\n"
     ]
    },
    {
     "data": {
      "application/vnd.jupyter.widget-view+json": {
       "model_id": "9976c9cb23f447ae97415327ff9ed505",
       "version_major": 2,
       "version_minor": 0
      },
      "text/plain": [
       "HBox(children=(FloatProgress(value=0.0, max=254.0), HTML(value='')))"
      ]
     },
     "metadata": {},
     "output_type": "display_data"
    },
    {
     "name": "stdout",
     "output_type": "stream",
     "text": [
      "\n",
      "Woohoo! You've finished rasterizing your shapefile for NOAA-GFDL.GFDL-CM4\n"
     ]
    },
    {
     "data": {
      "application/vnd.jupyter.widget-view+json": {
       "model_id": "153a71f163b3439c801f928ac752b867",
       "version_major": 2,
       "version_minor": 0
      },
      "text/plain": [
       "HBox(children=(FloatProgress(value=0.0, max=254.0), HTML(value='')))"
      ]
     },
     "metadata": {},
     "output_type": "display_data"
    },
    {
     "name": "stdout",
     "output_type": "stream",
     "text": [
      "\n",
      "Excellent! You've finished the historical shapefile for NOAA-GFDL.GFDL-CM4\n",
      "ssp585 CCCma.CanESM5\n"
     ]
    },
    {
     "data": {
      "application/vnd.jupyter.widget-view+json": {
       "model_id": "f7d7ac587bf142f498036734dbf36821",
       "version_major": 2,
       "version_minor": 0
      },
      "text/plain": [
       "HBox(children=(FloatProgress(value=0.0, max=254.0), HTML(value='')))"
      ]
     },
     "metadata": {},
     "output_type": "display_data"
    },
    {
     "name": "stdout",
     "output_type": "stream",
     "text": [
      "\n",
      "Woohoo! You've finished rasterizing your shapefile for NCAR.CESM2\n"
     ]
    },
    {
     "data": {
      "application/vnd.jupyter.widget-view+json": {
       "model_id": "6696a81ef3094643a56999792c068cb4",
       "version_major": 2,
       "version_minor": 0
      },
      "text/plain": [
       "HBox(children=(FloatProgress(value=0.0, max=254.0), HTML(value='')))"
      ]
     },
     "metadata": {},
     "output_type": "display_data"
    },
    {
     "name": "stdout",
     "output_type": "stream",
     "text": [
      "\n",
      "Excellent! You've finished the historical shapefile for NCAR.CESM2\n",
      "ssp585 CCCma.CanESM5\n"
     ]
    },
    {
     "data": {
      "application/vnd.jupyter.widget-view+json": {
       "model_id": "ae86edd87fa14d7ab646fa2893f71d8e",
       "version_major": 2,
       "version_minor": 0
      },
      "text/plain": [
       "HBox(children=(FloatProgress(value=0.0, max=254.0), HTML(value='')))"
      ]
     },
     "metadata": {},
     "output_type": "display_data"
    },
    {
     "name": "stdout",
     "output_type": "stream",
     "text": [
      "\n",
      "Woohoo! You've finished rasterizing your shapefile for CSIRO.ACCESS-ESM1-5\n"
     ]
    },
    {
     "data": {
      "application/vnd.jupyter.widget-view+json": {
       "model_id": "97466638f7b24ba18a6ea56b95e9c0f4",
       "version_major": 2,
       "version_minor": 0
      },
      "text/plain": [
       "HBox(children=(FloatProgress(value=0.0, max=254.0), HTML(value='')))"
      ]
     },
     "metadata": {},
     "output_type": "display_data"
    },
    {
     "name": "stdout",
     "output_type": "stream",
     "text": [
      "\n",
      "Excellent! You've finished the historical shapefile for CSIRO.ACCESS-ESM1-5\n",
      "ssp585 CCCma.CanESM5\n"
     ]
    },
    {
     "data": {
      "application/vnd.jupyter.widget-view+json": {
       "model_id": "97baeb86f1e642b5a37fa346d61a5963",
       "version_major": 2,
       "version_minor": 0
      },
      "text/plain": [
       "HBox(children=(FloatProgress(value=0.0, max=254.0), HTML(value='')))"
      ]
     },
     "metadata": {},
     "output_type": "display_data"
    },
    {
     "name": "stdout",
     "output_type": "stream",
     "text": [
      "\n",
      "Woohoo! You've finished rasterizing your shapefile for MPI-M.MPI-ESM1-2-LR\n"
     ]
    },
    {
     "data": {
      "application/vnd.jupyter.widget-view+json": {
       "model_id": "a4d9e7d59ec1422c9a00be1614c999a7",
       "version_major": 2,
       "version_minor": 0
      },
      "text/plain": [
       "HBox(children=(FloatProgress(value=0.0, max=254.0), HTML(value='')))"
      ]
     },
     "metadata": {},
     "output_type": "display_data"
    },
    {
     "name": "stdout",
     "output_type": "stream",
     "text": [
      "\n",
      "Excellent! You've finished the historical shapefile for MPI-M.MPI-ESM1-2-LR\n",
      "ssp585 CCCma.CanESM5\n"
     ]
    },
    {
     "data": {
      "application/vnd.jupyter.widget-view+json": {
       "model_id": "1e9b4634aee742cb8cde6178a38bba6d",
       "version_major": 2,
       "version_minor": 0
      },
      "text/plain": [
       "HBox(children=(FloatProgress(value=0.0, max=254.0), HTML(value='')))"
      ]
     },
     "metadata": {},
     "output_type": "display_data"
    },
    {
     "name": "stdout",
     "output_type": "stream",
     "text": [
      "\n",
      "Woohoo! You've finished rasterizing your shapefile for MIROC.MIROC6\n"
     ]
    },
    {
     "data": {
      "application/vnd.jupyter.widget-view+json": {
       "model_id": "740f5d52478544388a8ab1fedb9b1344",
       "version_major": 2,
       "version_minor": 0
      },
      "text/plain": [
       "HBox(children=(FloatProgress(value=0.0, max=254.0), HTML(value='')))"
      ]
     },
     "metadata": {},
     "output_type": "display_data"
    },
    {
     "name": "stdout",
     "output_type": "stream",
     "text": [
      "\n",
      "Excellent! You've finished the historical shapefile for MIROC.MIROC6\n",
      "ssp585 CCCma.CanESM5\n"
     ]
    },
    {
     "data": {
      "application/vnd.jupyter.widget-view+json": {
       "model_id": "b555aa157c8842bf9cf0cfcfbbbbaff8",
       "version_major": 2,
       "version_minor": 0
      },
      "text/plain": [
       "HBox(children=(FloatProgress(value=0.0, max=254.0), HTML(value='')))"
      ]
     },
     "metadata": {},
     "output_type": "display_data"
    },
    {
     "name": "stdout",
     "output_type": "stream",
     "text": [
      "\n",
      "Woohoo! You've finished rasterizing your shapefile for FIO-QLNM.FIO-ESM-2-0\n"
     ]
    },
    {
     "data": {
      "application/vnd.jupyter.widget-view+json": {
       "model_id": "d6cc3d026bfd4bbdb06b76d21024c02c",
       "version_major": 2,
       "version_minor": 0
      },
      "text/plain": [
       "HBox(children=(FloatProgress(value=0.0, max=254.0), HTML(value='')))"
      ]
     },
     "metadata": {},
     "output_type": "display_data"
    },
    {
     "name": "stdout",
     "output_type": "stream",
     "text": [
      "\n",
      "Excellent! You've finished the historical shapefile for FIO-QLNM.FIO-ESM-2-0\n",
      "ssp585 CCCma.CanESM5\n"
     ]
    },
    {
     "data": {
      "application/vnd.jupyter.widget-view+json": {
       "model_id": "ab488c5830d143878bde4bc3afde3b40",
       "version_major": 2,
       "version_minor": 0
      },
      "text/plain": [
       "HBox(children=(FloatProgress(value=0.0, max=254.0), HTML(value='')))"
      ]
     },
     "metadata": {},
     "output_type": "display_data"
    },
    {
     "name": "stdout",
     "output_type": "stream",
     "text": [
      "\n",
      "Woohoo! You've finished rasterizing your shapefile for CCCma.CanESM5-CanOE\n"
     ]
    },
    {
     "data": {
      "application/vnd.jupyter.widget-view+json": {
       "model_id": "e7093ba7a0164243b33470d413b7f200",
       "version_major": 2,
       "version_minor": 0
      },
      "text/plain": [
       "HBox(children=(FloatProgress(value=0.0, max=254.0), HTML(value='')))"
      ]
     },
     "metadata": {},
     "output_type": "display_data"
    },
    {
     "name": "stdout",
     "output_type": "stream",
     "text": [
      "\n",
      "Excellent! You've finished the historical shapefile for CCCma.CanESM5-CanOE\n",
      "ssp585 CCCma.CanESM5\n"
     ]
    },
    {
     "data": {
      "application/vnd.jupyter.widget-view+json": {
       "model_id": "59790f13784a4c5e84c0617f323e8a41",
       "version_major": 2,
       "version_minor": 0
      },
      "text/plain": [
       "HBox(children=(FloatProgress(value=0.0, max=254.0), HTML(value='')))"
      ]
     },
     "metadata": {},
     "output_type": "display_data"
    },
    {
     "name": "stdout",
     "output_type": "stream",
     "text": [
      "\n",
      "Woohoo! You've finished rasterizing your shapefile for CNRM-CERFACS.CNRM-ESM2-1\n"
     ]
    },
    {
     "data": {
      "application/vnd.jupyter.widget-view+json": {
       "model_id": "24d7b495266442e29b8fbfc79ab17d72",
       "version_major": 2,
       "version_minor": 0
      },
      "text/plain": [
       "HBox(children=(FloatProgress(value=0.0, max=254.0), HTML(value='')))"
      ]
     },
     "metadata": {},
     "output_type": "display_data"
    },
    {
     "name": "stdout",
     "output_type": "stream",
     "text": [
      "\n",
      "Excellent! You've finished the historical shapefile for CNRM-CERFACS.CNRM-ESM2-1\n",
      "ssp585 CCCma.CanESM5\n"
     ]
    },
    {
     "data": {
      "application/vnd.jupyter.widget-view+json": {
       "model_id": "d12f1267e20643b5a593af05c39559b8",
       "version_major": 2,
       "version_minor": 0
      },
      "text/plain": [
       "HBox(children=(FloatProgress(value=0.0, max=254.0), HTML(value='')))"
      ]
     },
     "metadata": {},
     "output_type": "display_data"
    },
    {
     "name": "stdout",
     "output_type": "stream",
     "text": [
      "\n",
      "Woohoo! You've finished rasterizing your shapefile for CNRM-CERFACS.CNRM-CM6-1\n"
     ]
    },
    {
     "data": {
      "application/vnd.jupyter.widget-view+json": {
       "model_id": "1f1edf732a134279bfd88d12263e1685",
       "version_major": 2,
       "version_minor": 0
      },
      "text/plain": [
       "HBox(children=(FloatProgress(value=0.0, max=254.0), HTML(value='')))"
      ]
     },
     "metadata": {},
     "output_type": "display_data"
    },
    {
     "name": "stdout",
     "output_type": "stream",
     "text": [
      "\n",
      "Excellent! You've finished the historical shapefile for CNRM-CERFACS.CNRM-CM6-1\n",
      "ssp585 CCCma.CanESM5\n"
     ]
    },
    {
     "data": {
      "application/vnd.jupyter.widget-view+json": {
       "model_id": "e7f1eb6a6e55452ab65d1b3f6b2902bb",
       "version_major": 2,
       "version_minor": 0
      },
      "text/plain": [
       "HBox(children=(FloatProgress(value=0.0, max=254.0), HTML(value='')))"
      ]
     },
     "metadata": {},
     "output_type": "display_data"
    },
    {
     "name": "stdout",
     "output_type": "stream",
     "text": [
      "\n",
      "Woohoo! You've finished rasterizing your shapefile for MOHC.UKESM1-0-LL\n"
     ]
    },
    {
     "data": {
      "application/vnd.jupyter.widget-view+json": {
       "model_id": "2dc25770d4ce43a5995fbe9ad05fe7fe",
       "version_major": 2,
       "version_minor": 0
      },
      "text/plain": [
       "HBox(children=(FloatProgress(value=0.0, max=254.0), HTML(value='')))"
      ]
     },
     "metadata": {},
     "output_type": "display_data"
    },
    {
     "name": "stdout",
     "output_type": "stream",
     "text": [
      "\n",
      "Excellent! You've finished the historical shapefile for MOHC.UKESM1-0-LL\n",
      "ssp585 CCCma.CanESM5\n"
     ]
    },
    {
     "data": {
      "application/vnd.jupyter.widget-view+json": {
       "model_id": "55e09668f91f4008888c0fb6c02e3aca",
       "version_major": 2,
       "version_minor": 0
      },
      "text/plain": [
       "HBox(children=(FloatProgress(value=0.0, max=254.0), HTML(value='')))"
      ]
     },
     "metadata": {},
     "output_type": "display_data"
    },
    {
     "name": "stdout",
     "output_type": "stream",
     "text": [
      "\n",
      "Woohoo! You've finished rasterizing your shapefile for NCAR.CESM2-WACCM\n"
     ]
    },
    {
     "data": {
      "application/vnd.jupyter.widget-view+json": {
       "model_id": "938adb03e92c4fe49b6c150c919f4ee1",
       "version_major": 2,
       "version_minor": 0
      },
      "text/plain": [
       "HBox(children=(FloatProgress(value=0.0, max=254.0), HTML(value='')))"
      ]
     },
     "metadata": {},
     "output_type": "display_data"
    },
    {
     "name": "stdout",
     "output_type": "stream",
     "text": [
      "\n",
      "Excellent! You've finished the historical shapefile for NCAR.CESM2-WACCM\n",
      "ssp585 CCCma.CanESM5\n"
     ]
    },
    {
     "data": {
      "application/vnd.jupyter.widget-view+json": {
       "model_id": "bebbaafd69ac4b2d8248777a3b70698c",
       "version_major": 2,
       "version_minor": 0
      },
      "text/plain": [
       "HBox(children=(FloatProgress(value=0.0, max=254.0), HTML(value='')))"
      ]
     },
     "metadata": {},
     "output_type": "display_data"
    },
    {
     "name": "stdout",
     "output_type": "stream",
     "text": [
      "\n",
      "Woohoo! You've finished rasterizing your shapefile for IPSL.IPSL-CM6A-LR\n"
     ]
    },
    {
     "data": {
      "application/vnd.jupyter.widget-view+json": {
       "model_id": "638417e1ab3847e49dcf2d0af424d0bf",
       "version_major": 2,
       "version_minor": 0
      },
      "text/plain": [
       "HBox(children=(FloatProgress(value=0.0, max=254.0), HTML(value='')))"
      ]
     },
     "metadata": {},
     "output_type": "display_data"
    },
    {
     "name": "stdout",
     "output_type": "stream",
     "text": [
      "\n",
      "Excellent! You've finished the historical shapefile for IPSL.IPSL-CM6A-LR\n",
      "ssp585 CCCma.CanESM5\n"
     ]
    },
    {
     "data": {
      "application/vnd.jupyter.widget-view+json": {
       "model_id": "07c3af7639cf4fcc993722e7c9aad45a",
       "version_major": 2,
       "version_minor": 0
      },
      "text/plain": [
       "HBox(children=(FloatProgress(value=0.0, max=254.0), HTML(value='')))"
      ]
     },
     "metadata": {},
     "output_type": "display_data"
    },
    {
     "name": "stdout",
     "output_type": "stream",
     "text": [
      "\n"
     ]
    },
    {
     "ename": "KeyError",
     "evalue": "'CMIP.CCCma.CanESM5.historical.Lmon.gn'",
     "output_type": "error",
     "traceback": [
      "\u001b[0;31m---------------------------------------------------------------------------\u001b[0m",
      "\u001b[0;31mKeyError\u001b[0m                                  Traceback (most recent call last)",
      "\u001b[0;32m<ipython-input-55-98ff317bb77c>\u001b[0m in \u001b[0;36m<module>\u001b[0;34m\u001b[0m\n\u001b[1;32m     32\u001b[0m \u001b[0;34m\u001b[0m\u001b[0m\n\u001b[1;32m     33\u001b[0m         \u001b[0;31m# first make the raster-to-polygon mapping for this grid\u001b[0m\u001b[0;34m\u001b[0m\u001b[0;34m\u001b[0m\u001b[0;34m\u001b[0m\u001b[0m\n\u001b[0;32m---> 34\u001b[0;31m         \u001b[0msample_file\u001b[0m \u001b[0;34m=\u001b[0m \u001b[0mds_dict\u001b[0m\u001b[0;34m[\u001b[0m\u001b[0mhistorical_setup\u001b[0m\u001b[0;34m]\u001b[0m\u001b[0;34m.\u001b[0m\u001b[0misel\u001b[0m\u001b[0;34m(\u001b[0m\u001b[0mtime\u001b[0m\u001b[0;34m=\u001b[0m\u001b[0;36m0\u001b[0m\u001b[0;34m)\u001b[0m\u001b[0;34m.\u001b[0m\u001b[0mcompute\u001b[0m\u001b[0;34m(\u001b[0m\u001b[0;34m)\u001b[0m\u001b[0;34m\u001b[0m\u001b[0;34m\u001b[0m\u001b[0m\n\u001b[0m\u001b[1;32m     35\u001b[0m         raster_basins, basin_poly_mask = rasterize_shapefile(basins, \n\u001b[1;32m     36\u001b[0m                                                                    \u001b[0msample_file\u001b[0m\u001b[0;34m,\u001b[0m\u001b[0;34m\u001b[0m\u001b[0;34m\u001b[0m\u001b[0m\n",
      "\u001b[0;31mKeyError\u001b[0m: 'CMIP.CCCma.CanESM5.historical.Lmon.gn'"
     ]
    }
   ],
   "source": [
    "# calculate basin averages for each of the 20 GCMs\n",
    "recalculate_basin_means=True\n",
    "recalculate_historical=True\n",
    "recalculate_future=True\n",
    "if recalculate_basin_means:\n",
    "    for gcm_label in valid_setups['ssp585']:\n",
    "#         if gcm_label in [#'CAMS.CAMS-CSM1-0',\n",
    "#                         'BCC.BCC-CSM2-MR',\n",
    "#                          'CSIRO-ARCCSS.ACCESS-CM2',\n",
    "#                         'EC-Earth-Consortium.EC-Earth3-Veg',\n",
    "#                         'INM.INM-CM4-8',\n",
    "#                           'INM.INM-CM5-0',\n",
    "#                                   'MIROC.MIROC-ES2L',\n",
    "#                                   'MRI.MRI-ESM2-0',\n",
    "#                     'NIMS-KMA.KACE-1-0-G',\n",
    "#                     'UA.MCM-UA-1-0',\n",
    "#                      'NOAA-GFDL.GFDL-CM4',\n",
    "#                     'NCAR.CESM2',\n",
    "#                     'CSIRO.ACCESS-ESM1-5',\n",
    "#                                  'MPI-M.MPI-ESM1-2-LR',\n",
    "#                      'MIROC.MIROC6',\n",
    "#                      'FIO-QLNM.FIO-ESM-2-0',\n",
    "#                      'CCCma.CanESM5-CanOE',\n",
    "#                     'CNRM-CERFACS.CNRM-ESM2-1',\n",
    "#                     'CNRM-CERFACS.CNRM-CM6-1',\n",
    "#                     'MOHC.UKESM1-0-LL',\n",
    "#                     'NCAR.CESM2-WACCM',\n",
    "#                     'IPSL.IPSL-CM6A-LR']:\n",
    "#             print('Awesome news: {} was already completed!')\n",
    "#             continue\n",
    "        historical_setup = 'CMIP.{}.historical.Lmon.gn'.format(gcm_label)\n",
    "\n",
    "        # first make the raster-to-polygon mapping for this grid\n",
    "        sample_file = ds_dict[historical_setup].isel(time=0).compute()\n",
    "        raster_basins, basin_poly_mask = rasterize_shapefile(basins, \n",
    "                                                                   sample_file, \n",
    "                                                                   'NAME')\n",
    "\n",
    "        print(\"Woohoo! You've finished rasterizing your shapefile for {}\".format(gcm_label))\n",
    "        if recalculate_historical:\n",
    "            basins_historical = map_gridded_to_basins(ds_dict[historical_setup].mrro, \n",
    "                                               raster_basins, basins)\n",
    "            basins_historical.to_file('{}_polygon_historical_fullbasins.shp'.format(gcm_label))\n",
    "            print(\"Excellent! You've finished the historical shapefile for {}\".format(gcm_label))\n",
    "\n",
    "        # rasterize the subbasin differently for every \n",
    "        if recalculate_future:\n",
    "            basins_future, basins_changes = {}, {}\n",
    "            for setup in ['ssp585']: # eventually do it for all setups\n",
    "                print(setup, gcm)\n",
    "                future_setup = 'ScenarioMIP.{}.{}.Lmon.gn'.format(gcm_label, setup)\n",
    "                basins_future[setup] = map_gridded_to_basins(ds_dict[future_setup].mrro, \n",
    "                                               raster_basins, basins)\n",
    "\n",
    "\n",
    "                basins_future[setup].to_file('{}_{}_polygon_future_fullbasins.shp'.format(gcm_label, setup))\n",
    "\n",
    "                basins_changes[setup] = basins.copy(deep=True)\n",
    "                for metric in ['mean', 'h_range']:\n",
    "                    basins_changes[setup][metric] = (basins_future[setup][metric] - \n",
    "                                                        basins_historical[metric])/basins_historical[metric]\n",
    "                basins_changes[setup].to_file('{}_{}_polygon_changes_fullbasins.shp'.format(gcm_label, setup))"
   ]
  },
  {
   "cell_type": "code",
   "execution_count": null,
   "metadata": {},
   "outputs": [],
   "source": []
  },
  {
   "cell_type": "markdown",
   "metadata": {},
   "source": [
    "# Pull in ERA data to understand biases"
   ]
  },
  {
   "cell_type": "code",
   "execution_count": null,
   "metadata": {},
   "outputs": [],
   "source": [
    "reload = False\n",
    "# do the regridding_step without a kurbernetes cluster! or else will break!\n",
    "regridding_step = False\n",
    "variable = 'ro'\n",
    "if reload:\n",
    "    ds_era = xr.open_zarr(fsspec.get_mapper('gcs://pangeo-era5/reanalysis/spatial-analysis'),\n",
    "                  consolidated=True,\n",
    "                  chunks='auto')\n",
    "\n",
    "    ds_era = ds_era.rename({'latitude': 'lat', \n",
    "                            'longitude': 'lon'}).sel(time=slice('1985','2014'))[variable]\n",
    "    print('here!')\n",
    "    era_monthly = ds_era.resample(time='M').mean().load()\n",
    "    era_monthly.to_netcdf('era5_monthly_{}.nc'.format(variable))\n",
    "if regridding_step:\n",
    "    era_monthly_runoff = xr.open_dataset('era5_monthly_{}.nc'.format(variable))\n",
    "    common_grid_ds = xr.Dataset({'lat': (['lat'], \n",
    "                                         ds_dict['CMIP.NCAR.CESM2.historical.Lmon.gn'].lat.values),\n",
    "                     'lon': (['lon'], \n",
    "                             ds_dict['CMIP.NCAR.CESM2.historical.Lmon.gn'].lon.values)},)\n",
    "    regridder = xe.Regridder(era_monthly_runoff, common_grid_ds, 'bilinear', reuse_weights=True)\n",
    "    era_monthly_runoff_regridded = regridder(era_monthly_runoff)\n",
    "    era_monthly_runoff_regridded.to_netcdf('era5_monthly_{}_cesm2grid.nc'.format(variable))\n",
    "else:\n",
    "    era_monthly_runoff = xr.open_dataset('era5_monthly_runoff_cesm2grid.nc')    \n",
    "    era_min = era_monthly_runoff.groupby('time.year').min()\n",
    "    era_max = era_monthly_runoff.groupby('time.year').max()\n",
    "    era_range = era_max - era_min\n",
    "    era_range_mean = era_range.mean(dim='year')\n",
    "    era_range.to_netcdf('era_range.nc')\n",
    "    era_range_mean.to_netcdf('era_range_mean.nc')        \n",
    "    era_range_std = era_range.std(dim='year')          \n",
    "    era_range_std.to_netcdf('era_range_std.nc')\n",
    "    era_monthly_precip = xr.open_dataset('era5_monthly_tp_cesm2grid.nc')"
   ]
  },
  {
   "cell_type": "markdown",
   "metadata": {},
   "source": [
    "# Calculate average temp/precip for basin analyses"
   ]
  },
  {
   "cell_type": "code",
   "execution_count": 23,
   "metadata": {},
   "outputs": [
    {
     "name": "stdout",
     "output_type": "stream",
     "text": [
      "Reuse existing file: bilinear_721x1440_192x288.nc\n",
      "using dimensions ('lat', 'lon') from data variable t2m as the horizontal dimensions for this dataset.\n"
     ]
    }
   ],
   "source": [
    "reload = False\n",
    "# do the regridding_step without a kurbernetes cluster! or else will break!\n",
    "regridding_step = True\n",
    "variable = 't2m'\n",
    "if reload:\n",
    "    ds_era = xr.open_zarr(fsspec.get_mapper('gcs://pangeo-era5/reanalysis/spatial-analysis'),\n",
    "                  consolidated=True,\n",
    "                  chunks='auto')\n",
    "\n",
    "    ds_era = ds_era.rename({'latitude': 'lat', \n",
    "                            'longitude': 'lon'}).sel(time=slice('1985','2014'))[variable]\n",
    "    print('here!')\n",
    "    era_monthly = ds_era.mean(dim='time').load()\n",
    "    era_monthly.to_netcdf('era5_mean_{}.nc'.format(variable))\n",
    "if regridding_step:\n",
    "    era_monthly_runoff = xr.open_dataset('era5_mean_{}.nc'.format(variable))\n",
    "    common_grid_ds = xr.Dataset({'lat': (['lat'], \n",
    "                                         ds_dict['CMIP.NCAR.CESM2.historical.Lmon.gn'].lat.values),\n",
    "                     'lon': (['lon'], \n",
    "                             ds_dict['CMIP.NCAR.CESM2.historical.Lmon.gn'].lon.values)},)\n",
    "    regridder = xe.Regridder(era_monthly_runoff, common_grid_ds, 'bilinear', reuse_weights=True)\n",
    "    era_monthly_runoff_regridded = regridder(era_monthly_runoff)\n",
    "    era_monthly_runoff_regridded.to_netcdf('era5_mean_{}_cesm2grid.nc'.format(variable))"
   ]
  },
  {
   "cell_type": "markdown",
   "metadata": {},
   "source": [
    "# Calculate performance of GCMs over historical for runoff"
   ]
  },
  {
   "cell_type": "code",
   "execution_count": null,
   "metadata": {},
   "outputs": [],
   "source": [
    "reload=True\n",
    "setups_metric_dict, setups_monthly_dict, setups_range_dict = {}, {}, {}\n",
    "if reload:\n",
    "# specify the common grid based upon one of the higher resolution grids\n",
    "    for setup in ['ssp585', 'historical']:\n",
    "        common_grid_ds = xr.Dataset({'lat': (['lat'], ds_dict['CMIP.NCAR.CESM2.historical.{}.gn'.format(\n",
    "                                                                                                analysis_timestep)].lat.values),\n",
    "                             'lon': (['lon'], ds_dict['CMIP.NCAR.CESM2.historical.{}.gn'.format( \n",
    "                                                                                        analysis_timestep)].lon.values)},)\n",
    "\n",
    "        regridded_dict = {'mean': {},\n",
    "                         'stdev': {},\n",
    "                         'range': {},\n",
    "                         'lowest_10thpercentile': {},\n",
    "                         'cv': {}}\n",
    "        regridded_monthly = {}\n",
    "        regrid=True\n",
    "#         for source_id in ['CNRM-ESM2-1', 'INM-CM4-8']:\n",
    "        for source_id in set(cat.df[cat.df['experiment_id']=='ssp585']['source_id']):\n",
    "        #for source_id in set(cat.df['source_id']):\n",
    "            institution_id = list(set(cat.df['institution_id'][cat.df['source_id']==source_id].values))[0]\n",
    "            # remove the scenarios that don't have historical\n",
    "            if analysis_timestep == 'Lmon':\n",
    "                if source_id in ['GFDL-ESM4', 'KACE-1-0-G', 'IPSL-CM6A-LR',\n",
    "                                'E3SM-1-1', 'CanESM5',\n",
    "                                'HadGEM3-GC31-LL', 'FGOALS-f3-L',\n",
    "                                'EC-Earth3','CESM2-WACCM-FV2',\n",
    "                                'SAM0-UNICON','E3SM-1-0','GISS-E2-1-H',\n",
    "                                'MPI-ESM1-2-HR']: # these ones don't work for ssp585\n",
    "                    continue\n",
    "            elif analysis_timestep == 'day':\n",
    "                if institution_id in ['EC-Earth-Consortium', 'CNRM-CERFACS'] or \\\n",
    "                    source_id in ['GFDL-ESM4', 'HadGEM3-GC31-LL', 'BCC-ESM1',\n",
    "                                  'MIROC-ES2L', 'SAM0-UNICON', 'MPI-ESM1-2-HR']:\n",
    "                    continue\n",
    "            if setup=='historical':\n",
    "                experiment_id='CMIP'\n",
    "            else:\n",
    "                experiment_id='ScenarioMIP'\n",
    "            # select historical period for comparison\n",
    "            working_ds_historical = ds_dict['{}.{}.{}.{}.{}.gn'.format(experiment_id, institution_id, \n",
    "                                            source_id, setup, \n",
    "                                            analysis_timestep)][variable_of_interest].sel(\n",
    "                                            time=slices[setup]).chunk(\n",
    "                                        chunks={'lat': -1, 'lon': -1, 'time': 1000})\n",
    "            if len(working_ds_historical.time) != 360:\n",
    "                continue\n",
    "            # make the regridder for these files\n",
    "            # TODO: fix the 'lon_b' inputs to allow use of conservative remapping\n",
    "            print(source_id)\n",
    "            regridder = xe.Regridder(working_ds_historical, common_grid_ds,\n",
    "                                     'bilinear', reuse_weights=True)     \n",
    "            regridded_historical = regridder(working_ds_historical)\n",
    "            regridded_monthly[source_id] = regridded_historical.assign_coords(time=slices_ranges[setup])\n",
    "            regridded_dict['mean'][source_id] = annual_mean(regridded_historical)\n",
    "            regridded_dict['stdev'][source_id] = stdev(regridded_historical, analysis_timestep, freq='monthly')\n",
    "            regridded_dict['lowest_10thpercentile'][source_id] = lowest_10thpercentile(regridded_historical, analysis_timestep)\n",
    "            regridded_dict['range'][source_id] = monthly_intraannual_range(regridded_historical, analysis_timestep)\n",
    "            regridded_dict['cv'][source_id] = stdev(regridded_historical, analysis_timestep, freq='monthly')/annual_mean(regridded_historical)\n",
    "\n",
    "        metric_dict = {}\n",
    "        for metric in ['mean', 'stdev', 'lowest_10thpercentile', 'cv']:\n",
    "            metric_dict[metric] = xr.concat([regridded_dict[metric][key] for key in regridded_dict[metric].keys()], \n",
    "                              pd.Index(regridded_dict[metric].keys(), name='gcm')).chunk(chunks=15)\n",
    "\n",
    "#         combine all data arrays in the dictionary into a single dataset\n",
    "        setups_metric_dict[setup] = xr.concat([metric_dict[metric] for metric in metric_dict.keys()], \n",
    "                                  pd.Index(metric_dict.keys(), name='metric'))\n",
    "        setups_monthly_dict[setup] = xr.concat([regridded_monthly[gcm] for gcm in regridded_monthly.keys()], \n",
    "                                  pd.Index(regridded_monthly.keys(), name='gcm'))\n",
    "        setups_range_dict[setup] = xr.concat([regridded_dict['range'][key] for key in regridded_dict['range'].keys()],\n",
    "                            pd.Index(regridded_dict['range'].keys(), name='gcm')).chunk(chunks=15)\n",
    "    setups_metric_ds = xr.concat([setups_metric_dict[setup] \n",
    "                                  for setup in setups_metric_dict.keys()],\n",
    "                                 pd.Index(setups_metric_dict.keys(), name='experiment'))\n",
    "    setups_monthly_ds = xr.concat([setups_monthly_dict[setup] \n",
    "                                  for setup in setups_monthly_dict.keys()],\n",
    "                                 pd.Index(setups_monthly_dict.keys(), name='experiment'))\n",
    "    setups_range_ds = xr.concat([setups_range_dict[setup] \n",
    "                                  for setup in setups_range_dict.keys()],\n",
    "                                 pd.Index(setups_range_dict.keys(), name='experiment'))\n",
    "        #     historical_ds_monthly.to_netcdf('cmip6_historical_34gcms_runoff_monthly.nc')\n",
    "    #     range_ds.to_netcdf('cmip6_historical_34gcms_runoff_range_monthly.nc')\n",
    "#     historical_ds.to_netcdf('cmip6_historical_34gcms_runoff_metrics.nc')\n",
    "\n",
    "else:\n",
    "    historical_ds_monthly = xr.open_dataset('cmip6_historical_34gcms_runoff_monthly.nc').mrro\n",
    "    range_ds = xr.open_dataset('cmip6_historical_34gcms_runoff_range_monthly.nc')\n",
    "    historical_ds = xr.open_dataset('cmip6_historical_34gcms_runoff_metrics.nc')"
   ]
  },
  {
   "cell_type": "code",
   "execution_count": null,
   "metadata": {},
   "outputs": [],
   "source": [
    "setups_monthly_ds.to_netcdf('cmip6_historical_ssp585_monthly.nc')"
   ]
  },
  {
   "cell_type": "markdown",
   "metadata": {},
   "source": [
    "# Load a mask to only show land pixels"
   ]
  },
  {
   "cell_type": "code",
   "execution_count": null,
   "metadata": {},
   "outputs": [],
   "source": [
    "land_mask = ~np.isnan(historical_ds.sel(gcm='CESM2', metric='mean'))"
   ]
  },
  {
   "cell_type": "markdown",
   "metadata": {},
   "source": [
    "# Compare ERA to GCM simulations  - one plot each for each GCM\n",
    "### Goal: show how well the gcms capture state/variability of runoff\n",
    "* mean  - measure of overall water balance\n",
    "* stdev of monthly - how well does system capture variability\n",
    "* range - how well does the system capture intraannual variability\n",
    "* lowest 10th percentile of low monthly runoff\n"
   ]
  },
  {
   "cell_type": "markdown",
   "metadata": {},
   "source": [
    "# Historical ERA5 runoff (Gridded) and CMIP6 biases"
   ]
  },
  {
   "cell_type": "code",
   "execution_count": null,
   "metadata": {},
   "outputs": [],
   "source": [
    "fig, axarr = plt.subplots(ncols=2, figsize=(14,4),\n",
    "                          subplot_kw=dict(projection=ccrs.Robinson()))\n",
    "\n",
    "era_annual_mean = (era_monthly_runoff.mean(dim='time').rename({'ro':'mrro'})*24*365).mrro # might have to add \".mrro\"\n",
    "\n",
    "# plot the ERA5\n",
    "plot_nicely(axarr[0], era_annual_mean.where(~np.isnan(historical_ds.sel(metric='mean', gcm='CESM2')).mrro), # might have to add mrro\n",
    "            vmin=0, vmax=1, cmap='viridis_r',\n",
    "           cbar_label='Runoff [m/year]', title='Annual runoff ERA5 (1985-2014)')\n",
    "\n",
    "# plot the historical CMIP6 biases w.r.t. ERA5\n",
    "mme = (historical_ds.sel(metric='mean'\n",
    "                           ).where(land_mask)*86400*365/1000).mean(dim='gcm').mrro # might have to add mrro\n",
    "bias_to_plot = bias(mme, era_annual_mean, 'percent')\n",
    "plot_nicely(axarr[1], bias_to_plot, \n",
    "            vmin=-100, vmax=100, cmap='RdBu',\n",
    "           cbar_label='Bias [%]', title='Comparing annual runoff (1985-2014) from '\n",
    "            'CMIP6\\nmultimodel ensemble (n={ngcms}) mean and ERA5'.format(ngcms=len(historical_ds.gcm)))\n",
    "plt.tight_layout()\n",
    "fig.savefig('../figures/era5_runoff_and_CMIP6_bias.png', dpi=300)"
   ]
  },
  {
   "cell_type": "markdown",
   "metadata": {},
   "source": [
    "# Historical ERA5 variability in monthly runoff (gridded) and CMIP6 biases in that "
   ]
  },
  {
   "cell_type": "code",
   "execution_count": null,
   "metadata": {},
   "outputs": [],
   "source": [
    "fig, axarr = plt.subplots(ncols=2, figsize=(14,4),\n",
    "                          subplot_kw=dict(projection=ccrs.Robinson()))\n",
    "# need to fix this 30 day issue (make it actually monthly runoff)\n",
    "era_annual_stdev = (era_monthly_runoff*30*24).std(dim='time').rename({'ro':'mrro'}).mrro\n",
    "\n",
    "# plot the ERA5\n",
    "plot_nicely(axarr[0], era_annual_stdev.where(~np.isnan(historical_ds.sel(metric='stdev', gcm='CESM2'))), \n",
    "            vmin=0, vmax=0.1, cmap='viridis_r',\n",
    "           cbar_label='Std. Dev in monthly runoff [m/month]', title='Variability in monthly runoff ERA5 (1985-2014)')\n",
    "\n",
    "# plot the historical CMIP6 biases w.r.t. ERA5\n",
    "mmstdev = (historical_ds.sel(metric='stdev',\n",
    "                           ).where(land_mask)*86400*30/1000).mean(dim='gcm')\n",
    "bias_to_plot = bias(mmstdev, era_annual_stdev, 'percent')\n",
    "plot_nicely(axarr[1], bias_to_plot, \n",
    "            vmin=-200, vmax=200, cmap='RdBu',\n",
    "           cbar_label='Bias [%]', title='Comparing monthly runoff variability (1985-2014)'\n",
    "            ' from CMIP6\\nmultimodel ensemble (n={ngcms}) mean and ERA5'.format(ngcms=len(historical_ds.gcm)))\n",
    "plt.tight_layout()\n",
    "fig.savefig('../figures/era5_runoff_and_CMIP6_stdev_bias.png', dpi=300)"
   ]
  },
  {
   "cell_type": "markdown",
   "metadata": {},
   "source": [
    "# Historical hydrologic range ERA5 and CMIP6 comparison"
   ]
  },
  {
   "cell_type": "code",
   "execution_count": null,
   "metadata": {},
   "outputs": [],
   "source": [
    "hydrologic_range = (range_ds.mean(dim=['year', 'gcm'])*30)/ \\\n",
    "                    (historical_ds.sel(metric='mean').mean(dim='gcm')*365)"
   ]
  },
  {
   "cell_type": "code",
   "execution_count": null,
   "metadata": {},
   "outputs": [],
   "source": [
    "fig, axarr = plt.subplots(ncols=2, figsize=(12,5))\n",
    "two_setups = {'Northern Russia': (62, 100), \n",
    "              'Amazon': (-2,285)}\n",
    "for i, (setup, (lat, lon))  in enumerate(two_setups.items()):\n",
    "    historical_ds_monthly.sel(lat=lat, lon=lon, \n",
    "                              method='nearest').isel(time=slice(150,200)).plot.line(ax=axarr[i],\n",
    "                                                                                    x='time', \n",
    "                                                                                    alpha=0.1,\n",
    "                                                                                    color='k',\n",
    "                                                                                   add_legend=False)\n",
    "    axarr[i].text(0.1, 0.9, 'Hydrologic range: '+str(np.round(hydrologic_range.sel(lat=lat, \n",
    "                                       lon=lon, \n",
    "                                       method='nearest').values, 2)),\n",
    "                  transform=axarr[i].transAxes)\n",
    "    axarr[i].set_title(setup)\n",
    "plt.tight_layout()\n",
    "plt.savefig('intraannual_range_cartoon.png')"
   ]
  },
  {
   "cell_type": "code",
   "execution_count": null,
   "metadata": {},
   "outputs": [],
   "source": [
    "fig, axarr = plt.subplots(ncols=2, figsize=(14,4),\n",
    "                          subplot_kw=dict(projection=ccrs.Robinson()))\n",
    "\n",
    "era_hydrologic_range = ((era_range_mean*30)/(era_monthly_runoff.mean(dim='time')*365)).ro.where(\n",
    "                        ~np.isnan(historical_ds.sel(metric='stdev', gcm='CESM2')))\n",
    "\n",
    "# plot the ERA5\n",
    "plot_nicely(axarr[0], era_hydrologic_range, \n",
    "            vmin=0, vmax=1, cmap='viridis_r',\n",
    "           cbar_label='Hydrologic range ratio [-]', title='Intraannual hydrologic range of '\n",
    "                                                        'monthly runoff ERA5 (1985-2014)')\n",
    "\n",
    "# plot the historical CMIP6 biases w.r.t. ERA5\n",
    "bias_to_plot = bias(hydrologic_range, era_hydrologic_range, 'absolute')\n",
    "plot_nicely(axarr[1], bias_to_plot, \n",
    "            vmin=-0.5, vmax=0.5, cmap='RdBu',\n",
    "           cbar_label='Bias [-]', title='Comparing intraannual hydrologic range (1985-2014)'\n",
    "            '\\nfrom CMIP6 multimodel ensemble (n={ngcms}) mean and ERA5'.format(ngcms=len(historical_ds.gcm)))\n",
    "\n",
    "plt.tight_layout()\n",
    "fig.savefig('../figures/era5_runoff_and_CMIP6_hydrologic_range_bias.png', dpi=300)"
   ]
  },
  {
   "cell_type": "markdown",
   "metadata": {},
   "source": [
    "# Historical ERA5 CV in monthly runoff (gridded) and CMIP6 biases"
   ]
  },
  {
   "cell_type": "code",
   "execution_count": null,
   "metadata": {},
   "outputs": [],
   "source": [
    "fig, axarr = plt.subplots(ncols=2, figsize=(14,4),\n",
    "                          subplot_kw=dict(projection=ccrs.Robinson()))\n",
    "# need to fix this 30 day issue (make it actually monthly runoff)\n",
    "era_annual_stdev = (era_monthly_runoff*30*24).std(dim='time').rename({'ro':'mrro'}).mrro\n",
    "era_annual_cv = era_annual_stdev/(era_monthly_runoff.mean(dim='time').rename({'ro':'mrro'}).mrro*30*24)\n",
    "\n",
    "# plot the ERA5\n",
    "plot_nicely(axarr[0], era_annual_cv.where(~np.isnan(historical_ds.sel(metric='mean', gcm='CESM2').mrro)), \n",
    "            vmin=0, vmax=5, cmap='viridis_r',\n",
    "           cbar_label='C.V. in monthly runoff [m/month]', title='Variability in monthly runoff ERA5 (1985-2014)')\n",
    "\n",
    "# plot the historical CMIP6 biases w.r.t. ERA5\n",
    "mmstdev = (historical_ds.mrro.sel(metric='stdev',\n",
    "                           ).where(land_mask)*86400*30/1000).mean(dim='gcm')\n",
    "mmcv = mmstdev/(mme/365*30)\n",
    "\n",
    "bias_to_plot = bias(mmcv, era_annual_cv, 'percent').mrro\n",
    "plot_nicely(axarr[1], bias_to_plot, \n",
    "            vmin=-200, vmax=200, cmap='RdBu',\n",
    "           cbar_label='Bias [%]', title='Comparing monthly runoff variability (1985-2014)'\n",
    "            ' from CMIP6\\nmultimodel ensemble (n={}) mean and ERA5'.format(len(historical_ds.gcm)))\n",
    "plt.tight_layout()\n",
    "fig.savefig('../figures/era5_runoff_and_CMIP6_cv_bias.png', dpi=300)"
   ]
  },
  {
   "cell_type": "markdown",
   "metadata": {},
   "source": [
    "# Now plotting basin averages"
   ]
  },
  {
   "cell_type": "markdown",
   "metadata": {},
   "source": [
    "# First bias in mean basin runoff"
   ]
  },
  {
   "cell_type": "code",
   "execution_count": null,
   "metadata": {},
   "outputs": [],
   "source": [
    "fig, axarr = plt.subplots(ncols=2, figsize=(14,4), \n",
    "                          subplot_kw=dict(projection=ccrs.Robinson()))\n",
    "\n",
    "era_hydrologic_range = ((era_range_mean*30)/(era_monthly_runoff.mean(dim='time')*365)).ro.where(\n",
    "                        ~np.isnan(historical_ds.sel(metric='stdev', gcm='CESM2')))\n",
    "\n",
    "\n",
    "era_annual_mean = (era_monthly_runoff.mean(dim='time').rename({'ro':'mrro'})*24*365).mrro\n",
    "basins = map_gridded_to_basins(era_annual_mean, mask, basins)\n",
    "p = basins.plot(ax = axarr[0], column='value_to_plot', vmax=1.5, \n",
    "            zorder=40, transform=ccrs.PlateCarree(), legend=True,\n",
    "                cmap='viridis_r',\n",
    "               legend_kwds={\"label\": \"Runoff [m/year]\",\n",
    "                           \"extend\": \"max\"})\n",
    "add_cartopy_elements(axarr[0])\n",
    "p.set_title('Annual areally-averaged runoff ERA5 (1985-2014)')\n",
    "\n",
    "\n",
    "# plot the historical CMIP6 biases w.r.t. ERA5\n",
    "basins = map_gridded_to_basins(era_annual_mean, mask, basins, comparison_da=mme)\n",
    "p = basins.plot(ax = axarr[1], column='value_to_plot', vmax=100,\n",
    "                vmin=-100, cmap='RdBu',\n",
    "            zorder=40, transform=ccrs.PlateCarree(), legend=True,\n",
    "               legend_kwds={\"label\": \"Annual bias in area-averaged runoff [%]\",\n",
    "                           'extend': 'max'})\n",
    "p.set_title('Bias in CMIP6 multimodel (n={}) mean\\nareally-averaged'.format(len(historical_ds.gcm))+\\\n",
    "            ' runoff (CMIP6 - ERA5; 1985-2014)')\n",
    "\n",
    "add_cartopy_elements(axarr[1])\n",
    "plt.tight_layout()\n",
    "fig.savefig('../figures/era5_runoff_and_CMIP6_basins_bias.png', dpi=300)"
   ]
  },
  {
   "cell_type": "markdown",
   "metadata": {},
   "source": [
    "# Second, bias in mean basin hydrologic range"
   ]
  },
  {
   "cell_type": "code",
   "execution_count": null,
   "metadata": {},
   "outputs": [],
   "source": [
    "fig, axarr = plt.subplots(ncols=2, figsize=(14,4), \n",
    "                          subplot_kw=dict(projection=ccrs.Robinson()))\n",
    "\n",
    "basins = map_gridded_to_basins((era_monthly_runoff.rename({'ro':'mrro'})*24*30).mrro, \n",
    "                                mask, basins, metric='hydrologic_range')\n",
    "p = basins[basins['Sufficiently big']==True].plot(ax = axarr[0], \n",
    "                        column='value_to_plot', vmax=0.4, vmin=0,\n",
    "            zorder=40, transform=ccrs.PlateCarree(), legend=True,\n",
    "                cmap='viridis_r',\n",
    "               legend_kwds={\"label\": \"Hydrologic range [-]\",\n",
    "                           \"extend\": \"neither\"})\n",
    "add_cartopy_elements(axarr[0])\n",
    "p.set_title('Hydrologic range of global basins according to ERA5 (1985-2014)')\n",
    "\n",
    "\n",
    "# plot the historical CMIP6 biases w.r.t. ERA5\n",
    "\n",
    "\n",
    "basins = map_gridded_to_basins((era_monthly_runoff.rename({'ro':'mrro'})*24*30).mrro, \n",
    "                               mask, basins, \n",
    "                               comparison_da=historical_ds_monthly, \n",
    "                               metric='hydrologic_range')\n",
    "p = basins[basins['Sufficiently big']==True].plot(ax = axarr[1], column='value_to_plot', vmax=0.3,\n",
    "                vmin=-0.3, cmap='RdBu',\n",
    "            zorder=40, transform=ccrs.PlateCarree(), legend=True,\n",
    "               legend_kwds={\"label\": \"Bias in hydrologic range [-]\",\n",
    "                           'extend': 'max'})\n",
    "p.set_title('Bias in CMIP6 multimodel (n={}) mean\\nhydrologic range of'.format(len(historical_ds_monthly.gcm))+\\\n",
    "            ' runoff (CMIP6 - ERA5; 1985-2014)')\n",
    "\n",
    "add_cartopy_elements(axarr[1])\n",
    "plt.tight_layout()\n",
    "fig.savefig('../figures/era5_runoff_and_CMIP6_basins_hydrologic_range_bias.png', dpi=300)"
   ]
  },
  {
   "cell_type": "markdown",
   "metadata": {},
   "source": [
    "# Plot change under ssp585"
   ]
  },
  {
   "cell_type": "markdown",
   "metadata": {},
   "source": [
    "### First, change in the mean"
   ]
  },
  {
   "cell_type": "code",
   "execution_count": null,
   "metadata": {},
   "outputs": [],
   "source": [
    "fig, axarr = plt.subplots(ncols=2, figsize=(14,4),\n",
    "                          subplot_kw=dict(projection=ccrs.Robinson()))\n",
    "\n",
    "historical_mean = setups_metric_ds.sel(metric='mean', \n",
    "                        experiment='historical').mean(dim='gcm')*86400*365/1000 # might have to add \".mrro\"\n",
    "\n",
    "# plot the ERA5\n",
    "plot_nicely(axarr[0], historical_mean.where(~np.isnan(setups_metric_ds.sel(metric='mean',\n",
    "                                                                           gcm='CESM2').isel(experiment=1))), # might have to add mrro\n",
    "            vmin=0, vmax=1, cmap='viridis_r',\n",
    "           cbar_label='Runoff [m/year]', title='Historical runoff CMIP6 (1985-2014)')\n",
    "\n",
    "# plot the historical CMIP6 biases w.r.t. ERA5\n",
    "future_mean = setups_metric_ds.sel(metric='mean',\n",
    "    experiment='ssp585').mean(dim='gcm')*86400*365/1000 # might have to add \".mrro\"\n",
    "\n",
    "change_plot = bias(future_mean, historical_mean, 'percent')\n",
    "plot_nicely(axarr[1], change_plot.where(~np.isnan(setups_metric_ds.sel(metric='mean',\n",
    "                                                    gcm='CESM2').isel(experiment=1))), \n",
    "            vmin=-100, vmax=100, cmap='RdBu',\n",
    "           cbar_label='Change in annual runoff [%]', title='Change in future (SSP585) runoff (2070-2099) from '\n",
    "            'CMIP6\\nmultimodel ensemble (n={ngcms}) w.r.t. 2000s'.format(ngcms=20))\n",
    "plt.tight_layout()\n",
    "fig.savefig('../figures/cmip6_ssp585_changes.png', dpi=300)"
   ]
  },
  {
   "cell_type": "code",
   "execution_count": null,
   "metadata": {},
   "outputs": [],
   "source": [
    "# Basin average changes"
   ]
  },
  {
   "cell_type": "code",
   "execution_count": null,
   "metadata": {},
   "outputs": [],
   "source": [
    "future_mean\n"
   ]
  },
  {
   "cell_type": "code",
   "execution_count": null,
   "metadata": {},
   "outputs": [],
   "source": [
    "# future_mean = future_mean.rename({'lon': 'longitude',\n",
    "#                    'lat': 'latitude'})\n",
    "# future_mean = future_mean.assign_coords(longitude=(((future_mean.longitude + 180) % 360) \n",
    "#                                      - 180)).sortby('longitude')\n",
    "\n",
    "lat = mask.latitude.values\n",
    "lon = mask.longitude.values\n",
    "ID_REGION=2\n",
    "sel_mask = mask.where(mask == ID_REGION).values\n",
    "if (~np.isnan(sel_mask)).sum() < 10:\n",
    "    basins_gdf.at[ID_REGION, 'Sufficiently big'] = False\n",
    "print('okay')\n",
    "id_lon = lon[np.where(~np.all(np.isnan(sel_mask), axis=0))]\n",
    "id_lat = lat[np.where(~np.all(np.isnan(sel_mask), axis=1))]\n",
    "out_sel = future_mean.sel(latitude = slice(id_lat[0], id_lat[-1]), \n",
    "                longitude = slice(id_lon[0], id_lon[-1])\n",
    "               ).where(mask == ID_REGION)\n",
    "float(out_sel.mean(dim = ['latitude', 'longitude']).values)"
   ]
  },
  {
   "cell_type": "code",
   "execution_count": null,
   "metadata": {},
   "outputs": [],
   "source": [
    "fig, axarr = plt.subplots(ncols=2, figsize=(14,4), \n",
    "                          subplot_kw=dict(projection=ccrs.Robinson()))\n",
    "historical_mean = setups_metric_ds.sel(metric='mean', \n",
    "                                       experiment='historical').mean(dim='gcm')\n",
    "# historical_mean = (setups_monthly_ds.sel(\n",
    "#     experiment='historical').mean(dim=['time', 'gcm']))*86400*365/1000\n",
    "basins = map_gridded_to_basins(historical_mean, mask, basins)\n",
    "p = basins.plot(ax = axarr[0], column='value_to_plot', vmax=1.5, \n",
    "            zorder=40, transform=ccrs.PlateCarree(), legend=True,\n",
    "                cmap='viridis_r',\n",
    "               legend_kwds={\"label\": \"Runoff [m/year]\",\n",
    "                           \"extend\": \"max\"})\n",
    "add_cartopy_elements(axarr[0])\n",
    "p.set_title('Annual areally-averaged runoff historical (1985-2014)')\n",
    "\n",
    "future_mean = setups_metric_ds.sel(metric='mean', \n",
    "                                       experiment='ssp585').mean(dim='gcm')\n",
    "\n",
    "# plot the historical CMIP6 biases w.r.t. ERA5\n",
    "basins = map_gridded_to_basins(historical_mean, mask, basins, comparison_da=future_mean)\n",
    "p = basins.plot(ax = axarr[1], column='value_to_plot', vmax=100,\n",
    "                vmin=-100, cmap='RdBu',\n",
    "            zorder=40, transform=ccrs.PlateCarree(), legend=True,\n",
    "               legend_kwds={\"label\": \"Annual change in area-averaged runoff [%]\",\n",
    "                           'extend': 'max'})\n",
    "p.set_title('Change in future (SSP585) runoff (2070-2099) from '\n",
    "            'CMIP6\\nmultimodel ensemble (n={ngcms}) w.r.t. 2000s'.format(ngcms=20))\n",
    "\n",
    "add_cartopy_elements(axarr[1])\n",
    "plt.tight_layout()\n",
    "fig.savefig('../figures/cmip6_ssp585_changes_basins.png', dpi=300)"
   ]
  },
  {
   "cell_type": "markdown",
   "metadata": {},
   "source": [
    "# Plot all basins on scatter to show ensemble disagreement\n",
    "### columbia = 36\n",
    "### amazon = 175\n",
    "### yenisey = 2\n",
    "### nile = 107"
   ]
  },
  {
   "cell_type": "code",
   "execution_count": null,
   "metadata": {},
   "outputs": [],
   "source": [
    "def gridded_basin_behavior(da, masks, basins_gdf_in, dataset):\n",
    "    '''Input: gridded xarray data array of cmip6 on lat/lon coordinates\n",
    "    with multiple ensemble members (monthly timestep)\n",
    "    dataset is a string of either \"era5\" or \"cmip6\"\n",
    "    '''\n",
    "    da = da.rename({'lon': 'longitude',\n",
    "                       'lat': 'latitude'})\n",
    "    da = da.assign_coords(longitude=(((da.longitude + 180) % 360) \n",
    "                                         - 180)).sortby('longitude')\n",
    "    \n",
    "#     initialize the geopandas df with the metrics you'll calculate\n",
    "    if dataset=='cmip6':\n",
    "        metrics = ['mean', 'std', 'hydrologic_range',\n",
    "                   'upper_quartile_mean', 'lower_quartile_mean',\n",
    "                  'upper_quartile_std', 'lower_quartile_std',\n",
    "                  'upper_quartile_hydrologic_range', 'lower_quartile_hydrologic_range']\n",
    "    elif dataset=='era5':\n",
    "        metrics = ['mean', 'std']\n",
    "    basins_gdf_out = basins_gdf_in.copy(deep=True)\n",
    "    basins_gdf_out['Sufficiently big'] = 0\n",
    "    for metric in metrics:\n",
    "        basins_gdf_out[metric] = np.nan\n",
    "    lat = masks.latitude.values\n",
    "    lon = masks.longitude.values\n",
    "    for ID_REGION in range(0,254):\n",
    "        print(ID_REGION)\n",
    "        sel_mask = masks.where(masks == ID_REGION).values\n",
    "        if (~np.isnan(sel_mask)).sum() < 10:\n",
    "            print('{} is too small!'.format(ID_REGION))\n",
    "            basins_gdf_out.at[ID_REGION, 'Sufficiently big'] = 0\n",
    "            continue\n",
    "        else:\n",
    "            basins_gdf_out.at[ID_REGION, 'Sufficiently big'] = (~np.isnan(sel_mask)).sum()\n",
    "        id_lon = lon[np.where(~np.all(np.isnan(sel_mask), axis=0))]\n",
    "        id_lat = lat[np.where(~np.all(np.isnan(sel_mask), axis=1))]\n",
    "        out_sel = da.sel(latitude = slice(id_lat[0], id_lat[-1]), \n",
    "                        longitude = slice(id_lon[0], id_lon[-1])\n",
    "                       ).compute().where(masks == ID_REGION)\n",
    "        monthly_mean_basin = out_sel.mean(dim=['latitude', 'longitude'])\n",
    "        for metric in ['mean', 'std', 'hydrologic_range']:\n",
    "            if metric == 'mean':\n",
    "                try:\n",
    "                    ensemble = monthly_mean_basin.mean(dim=['time']).mrro.values\n",
    "                except:\n",
    "                    ensemble = monthly_mean_basin.mean(dim=['time'])\n",
    "            elif metric == 'std':\n",
    "                try:\n",
    "                    ensemble = monthly_mean_basin.std(dim=['time']).mrro.values\n",
    "                except:\n",
    "                    ensemble = monthly_mean_basin.std(dim=['time'])\n",
    "            elif metric =='hydrologic_range':\n",
    "                if dataset=='cmip6':\n",
    "                    ensemble = basin_average_intraannual_range(out_sel, \n",
    "                                                          multiple_ensemble_members=True,\n",
    "                                                          return_ensemble=True)\n",
    "                elif dataset == 'era5':\n",
    "                    ensemble = basin_average_intraannual_range(out_sel, \n",
    "                                                          multiple_ensemble_members=False,\n",
    "                                                          return_ensemble=False)\n",
    "            if dataset=='cmip6':  \n",
    "                basins_gdf_out.at[ID_REGION, metric] = float(ensemble.mean(dim='gcm').values)\n",
    "                basins_gdf_out.at[ID_REGION, 'upper_quartile_'+metric] = np.quantile(ensemble.values, 0.75)\n",
    "                basins_gdf_out.at[ID_REGION, 'lower_quartile_'+metric] = np.quantile(ensemble.values, 0.25)\n",
    "            elif dataset=='era5':\n",
    "                basins_gdf_out.at[ID_REGION, metric] = ensemble\n",
    "    return basins_gdf_out"
   ]
  },
  {
   "cell_type": "code",
   "execution_count": null,
   "metadata": {},
   "outputs": [],
   "source": [
    "print('here')"
   ]
  },
  {
   "cell_type": "code",
   "execution_count": null,
   "metadata": {},
   "outputs": [],
   "source": [
    "new_basins.to_file(\"basins_with_quartiles_partial.shp\")"
   ]
  },
  {
   "cell_type": "code",
   "execution_count": null,
   "metadata": {},
   "outputs": [],
   "source": [
    "historical_ds_monthly = gridded_basin_behavior(historical_ds_monthly*86400*30/1000)"
   ]
  },
  {
   "cell_type": "code",
   "execution_count": null,
   "metadata": {},
   "outputs": [],
   "source": [
    "new_basins = gridded_basin_behavior(historical_ds_monthly*86400*30/1000, \n",
    "                                    mask, basins, dataset='cmip6')"
   ]
  },
  {
   "cell_type": "code",
   "execution_count": null,
   "metadata": {},
   "outputs": [],
   "source": [
    "# new_basins.to_file(\"basins_with_hydrologic_ranges_quartiles.shp\")"
   ]
  },
  {
   "cell_type": "code",
   "execution_count": null,
   "metadata": {},
   "outputs": [],
   "source": [
    "era_basins = gridded_basin_behavior(era_monthly_runoff.rename({'ro':'mrro'})*24*30, \n",
    "                                    mask, basins, dataset='era5')"
   ]
  },
  {
   "cell_type": "code",
   "execution_count": null,
   "metadata": {},
   "outputs": [],
   "source": [
    "era_basins.to_file('basins_era_range.shp')"
   ]
  },
  {
   "cell_type": "code",
   "execution_count": null,
   "metadata": {},
   "outputs": [],
   "source": [
    "fig, axarr = plt.subplots(ncols=2, figsize=(14,4), \n",
    "                          subplot_kw=dict(projection=ccrs.Robinson()))\n",
    "\n",
    "era_annual_mean = (era_monthly_runoff.mean(dim='time').rename({'ro':'mrro'})*24*365).mrro\n",
    "basins = map_gridded_to_basins(era_annual_mean, mask, basins)\n",
    "p = basins.plot(ax = axarr[0], column='value_to_plot', vmax=1.5, \n",
    "            zorder=40, transform=ccrs.PlateCarree(), legend=True,\n",
    "                cmap='viridis_r',\n",
    "               legend_kwds={\"label\": 'Std. Dev in monthly runoff [m/month]',\n",
    "                           \"extend\": \"max\"})\n",
    "p.title('')\n",
    "add_cartopy_elements(axarr[0])\n",
    "\n",
    "\n",
    "# plot the historical CMIP6 biases w.r.t. ERA5\n",
    "basins = map_gridded_to_basins(era_annual_mean, mask, basins, comparison_da=mme)\n",
    "p = basins.plot(ax = axarr[1], column='value_to_plot', vmax=100,\n",
    "                vmin=-100, cmap='RdBu',\n",
    "            zorder=40, transform=ccrs.PlateCarree(), legend=True,\n",
    "               legend_kwds={\"label\": \"Annual bias in area-averaged runoff [%]\"})\n",
    "\n",
    "add_cartopy_elements(axarr[1])\n",
    "fig.savefig('../figures/era5_runoff_and_CMIP6_basins_bias.png', dpi=300)"
   ]
  },
  {
   "cell_type": "code",
   "execution_count": null,
   "metadata": {},
   "outputs": [],
   "source": [
    "metric = 'mean'\n",
    "plot_attributes = {'absolute': {'cbar_label': 'Bias [m/year]',\n",
    "                                'var_limits': [-1,1]},\n",
    "                  'percent': {'cbar_label': 'Bias [%]',\n",
    "                                'var_limits': [-100,100]},}\n",
    "for method in ['absolute', 'percent']:\n",
    "    cbar_label='Runoff [m/year]'\n",
    "    mme = (historical_ds.mrro.sel(metric=metric\n",
    "                           ).where(land_mask))\n",
    "    bias_to_plot = bias(mme*86400*365/1000, era_annual_mean, method)\n",
    "    p = bias_to_plot.ro.plot.contourf(col='gcm', col_wrap=3,\n",
    "                                   vmin=plot_attributes[method]['var_limits'][0],\n",
    "                                      vmax=plot_attributes[method]['var_limits'][1], \n",
    "                                    transform=ccrs.PlateCarree(),\n",
    "                                    subplot_kws={'projection': ccrs.Robinson()},# add_colorbar=False,\n",
    "                                    cmap='RdBu', levels=11, cbar_kwargs={'label': plot_attributes[method]['cbar_label']},\n",
    "                                    aspect=3, size=4)\n",
    "    p.fig.savefig('../figures/cmip6_historical_by_gcm_{}_bias_{}.png'.format(metric, method))"
   ]
  },
  {
   "cell_type": "code",
   "execution_count": null,
   "metadata": {},
   "outputs": [],
   "source": [
    "for metric in ['mean', 'stdev', 'lowest_10thpercentile', 'cv']:\n",
    "    cbar_label='Runoff [m/year]'\n",
    "    p = (historical_ds.mrro.sel(metric=metric\n",
    "                               ).where(land_mask)*86400*365/1000).plot.contourf(col='gcm', col_wrap=3,\n",
    "                                   vmax=2,vmin=0, \n",
    "                                    transform=ccrs.PlateCarree(),\n",
    "                                    subplot_kws={'projection': ccrs.Robinson()},# add_colorbar=False,\n",
    "                                    cmap='viridis_r', levels=11, cbar_kwargs={'label': cbar_label},\n",
    "                                    aspect=3, size=4)\n",
    "    for ax in p.axes.flat:\n",
    "        ax.coastlines()\n",
    "        ax.gridlines()\n",
    "        ax.add_feature(cartopy.feature.BORDERS, linestyle='-')\n",
    "        ax.add_feature(cartopy.feature.OCEAN, color='lightgrey')\n",
    "    p.fig.savefig('../figures/cmip6_historical_{}.png'.format(metric))"
   ]
  },
  {
   "cell_type": "code",
   "execution_count": null,
   "metadata": {},
   "outputs": [],
   "source": [
    "for metric in ['mean', 'stdev', 'lowest_10thpercentile']:\n",
    "    cbar_label='Runoff [m/year]'\n",
    "    p = (historical_ds.mrro.sel(metric=metric\n",
    "                               ).where(land_mask)*86400*365/1000).plot.contourf(col='gcm', col_wrap=3,\n",
    "                                   vmax=2,vmin=0, \n",
    "                                    transform=ccrs.PlateCarree(),\n",
    "                                    subplot_kws={'projection': ccrs.Robinson()},# add_colorbar=False,\n",
    "                                    cmap='viridis_r', levels=11, cbar_kwargs={'label': cbar_label},\n",
    "                                    aspect=3, size=4)\n",
    "    for ax in p.axes.flat:\n",
    "        ax.coastlines()\n",
    "        ax.gridlines()\n",
    "        ax.add_feature(cartopy.feature.BORDERS, linestyle='-')\n",
    "        ax.add_feature(cartopy.feature.OCEAN, color='lightgrey')\n",
    "    p.fig.savefig('../figures/cmip6_historical_{}.png'.format(metric))"
   ]
  },
  {
   "cell_type": "code",
   "execution_count": null,
   "metadata": {},
   "outputs": [],
   "source": [
    "fig, axarr = plt.subplots(nrows=len(historical_ds.gcm), ncols=1, figsize=(14,40),\n",
    "                          subplot_kw=dict(projection=ccrs.Robinson()))\n",
    "obs = (era_monthly_runoff.mean(dim='time').rename({'ro':'mrro'})*24*365).mrro\n",
    "\n",
    "for i, gcm in enumerate(historical_ds.gcm.values):\n",
    "    sim = (historical_ds.mrro.sel(metric='mean', gcm=gcm).where(~np.isnan(land_mask))*86400*365/1000)\n",
    "    plot_nicely(axarr[i], (( sim - obs ) / obs) *100, \n",
    "            vmin=-100, vmax=100, cmap='RdBu',\n",
    "           cbar_label='Bias [%]', title='Bias of mean annual runoff from {}'.format(gcm))\n",
    "fig.savefig('../figures/gcms_annual_runoff_bias_wrt_ERA5.png', dpi=200)"
   ]
  },
  {
   "cell_type": "code",
   "execution_count": null,
   "metadata": {},
   "outputs": [],
   "source": [
    "for source_id in set(cat.df['source_id']):\n",
    "    institution_id = list(set(cat.df['institution_id'][cat.df['source_id']==source_id].values))[0]\n",
    "    # remove the scenarios that don't have historical\n",
    "    if institution_id in ['EC-Earth-Consortium', 'CNRM-CERFACS'] or \\\n",
    "        source_id in ['GFDL-ESM4', 'HadGEM3-GC31-LL', 'BCC-ESM1',\n",
    "                      'MIROC-ES2L', 'SAM0-UNICON', 'MPI-ESM1-2-HR']:\n",
    "        continue\n",
    "    working_ds_historical = ds_dict['CMIP.{}.{}.historical.day.gn'.format(institution_id, \n",
    "                                    source_id)][variable_of_interest].sel(time=historical_slice).chunk(\n",
    "                                chunks={'lat': 100, 'lon': -1, 'time': 1000})\n",
    "    if regrid:\n",
    "        regridder = xe.Regridder(working_ds_historical, common_grid_ds,\n",
    "                                 'bilinear', reuse_weights=True)     \n",
    "\n",
    "        calculate_change(function(regridder(working_ds_historical)), \n",
    "                                                  function(regridder(working_ds_future)))"
   ]
  },
  {
   "cell_type": "code",
   "execution_count": null,
   "metadata": {},
   "outputs": [],
   "source": [
    "fig, axarr = plt.subplots(nrows=3, ncols=3, figsize=(14,6),\n",
    "                          subplot_kw=dict(projection=ccrs.Robinson()))\n",
    "for (i, source_id) in enumerate(change_dict.keys()):\n",
    "    ax = axarr[i]\n",
    "    ax.set_global()\n",
    "    ax.coastlines()\n",
    "    q = change_ds.sel(gcm=gcm).plot(ax=ax, \n",
    "                                    transform=ccrs.PlateCarree(), \n",
    "                                    vmin=-100, vmax=100, \n",
    "                                    cmap='RdBu', add_colorbar=False) # plot a colormap in transformed coordinates\n",
    "\n",
    "    ax.add_feature(cartopy.feature.COASTLINE)\n",
    "    ax.add_feature(cartopy.feature.BORDERS, linestyle='-')\n",
    "    plt.title('Patterns of global annual runnof change',fontsize=16, ha='center');\n",
    "    # plt.savefig('../figures/future_runoff_changes.png',dpi=100,bbox_inches='tight')"
   ]
  },
  {
   "cell_type": "markdown",
   "metadata": {},
   "source": [
    "# To-do list\n",
    "* seasonal cycle (daily average for an average year within historical and future periods)\n",
    "* function for each of these temporal metrics:\n",
    "1. change in centroid of timing\n",
    "1. change in lowest 30 day period magnitude\n",
    "1. total deviation from the mean\n",
    "1. duration of low flow\n",
    "* function for each of these spatiotemporal metrics:\n",
    "1. within a given basin what is the variability - to-do in this is figureing out shapefile masking for river basins"
   ]
  }
 ],
 "metadata": {
  "kernelspec": {
   "display_name": "Python 3",
   "language": "python",
   "name": "python3"
  },
  "language_info": {
   "codemirror_mode": {
    "name": "ipython",
    "version": 3
   },
   "file_extension": ".py",
   "mimetype": "text/x-python",
   "name": "python",
   "nbconvert_exporter": "python",
   "pygments_lexer": "ipython3",
   "version": "3.7.3"
  }
 },
 "nbformat": 4,
 "nbformat_minor": 4
}
