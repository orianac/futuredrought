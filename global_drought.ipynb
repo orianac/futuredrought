{
 "cells": [
  {
   "cell_type": "code",
   "execution_count": 1,
   "metadata": {},
   "outputs": [
    {
     "name": "stderr",
     "output_type": "stream",
     "text": [
      "/srv/conda/envs/notebook/lib/python3.7/site-packages/ipykernel_launcher.py:8: TqdmExperimentalWarning: Using `tqdm.autonotebook.tqdm` in notebook mode. Use `tqdm.tqdm` instead to force console mode (e.g. in jupyter console)\n",
      "  \n",
      "/srv/conda/envs/notebook/lib/python3.7/site-packages/intake/source/discovery.py:136: FutureWarning: The drivers ['geojson', 'postgis', 'shapefile', 'spatialite'] do not specify entry_points and were only discovered via a package scan. This may break in a future release of intake. The packages should be updated.\n",
      "  FutureWarning)\n"
     ]
    }
   ],
   "source": [
    "from matplotlib import pyplot as plt\n",
    "import numpy as np\n",
    "import pandas as pd\n",
    "import xarray as xr\n",
    "import xesmf as xe\n",
    "import cartopy\n",
    "import cartopy.crs as ccrs\n",
    "from tqdm.autonotebook import tqdm  # Fancy progress bars for our loops!\n",
    "import intake\n",
    "import gcsfs\n",
    "import fsspec\n",
    "import xesmf as xe\n",
    "# util.py is in the local directory\n",
    "# it contains code that is common across project notebooks\n",
    "# or routines that are too extensive and might otherwise clutter\n",
    "# the notebook design\n",
    "col_url = \"https://raw.githubusercontent.com/NCAR/intake-esm-datastore/master/catalogs/pangeo-cmip6.json\"\n",
    "col = intake.open_esm_datastore(col_url)"
   ]
  },
  {
   "cell_type": "code",
   "execution_count": 2,
   "metadata": {},
   "outputs": [],
   "source": [
    "pd.set_option('display.max_rows', 250) # so that we can see all of the different experiments available"
   ]
  },
  {
   "cell_type": "code",
   "execution_count": 3,
   "metadata": {},
   "outputs": [],
   "source": [
    " # Different variable options : \n",
    "#'mrro' - runoff\n",
    "#'snw' - SWE\n",
    " #hfls - latent heat\n",
    " # mrros - surface runoff\n",
    " # mrso - soil moisture\n",
    " # pr - precipitation\n",
    " # tas - mean daily air temperature\n",
    " # prra - rainfall rate\n",
    " # prsn - snowfall rate\n",
    "\n",
    "variable_of_interest = 'mrro'"
   ]
  },
  {
   "cell_type": "code",
   "execution_count": 4,
   "metadata": {},
   "outputs": [],
   "source": [
    "cat = col.search(experiment_id=['ssp585', 'historical', 'ssp126', 'ssp245', 'ssp370'],#, 'historical'], \n",
    "                 table_id='day',             \n",
    "                 variable_id=variable_of_interest) \n",
    "# this is a hack just to get around the different grid_label strings\n",
    "cat.df['grid_label']='gn'"
   ]
  },
  {
   "cell_type": "code",
   "execution_count": 5,
   "metadata": {},
   "outputs": [],
   "source": [
    "future_slice = slice('2070','2099')\n",
    "historical_slice = slice('1970','1999')"
   ]
  },
  {
   "cell_type": "code",
   "execution_count": 6,
   "metadata": {},
   "outputs": [
    {
     "name": "stdout",
     "output_type": "stream",
     "text": [
      "Progress: |███████████████████████████████████████████████████████████████████████████████| 100.0% \n",
      "\n",
      "--> The keys in the returned dictionary of datasets are constructed as follows:\n",
      "\t'activity_id.institution_id.source_id.experiment_id.table_id.grid_label'\n",
      "             \n",
      "--> There are 61 group(s)\n"
     ]
    },
    {
     "data": {
      "application/vnd.jupyter.widget-view+json": {
       "model_id": "ec40a7fee86244c1b2bb05dd3af15d7e",
       "version_major": 2,
       "version_minor": 0
      },
      "text/plain": [
       "HBox(children=(FloatProgress(value=0.0, max=61.0), HTML(value='')))"
      ]
     },
     "metadata": {},
     "output_type": "display_data"
    },
    {
     "name": "stderr",
     "output_type": "stream",
     "text": [
      "/srv/conda/envs/notebook/lib/python3.7/site-packages/xarray/coding/times.py:426: SerializationWarning: Unable to decode time axis into full numpy.datetime64 objects, continuing using cftime.datetime objects instead, reason: dates out of range\n",
      "  dtype = _decode_cf_datetime_dtype(data, units, calendar, self.use_cftime)\n",
      "/srv/conda/envs/notebook/lib/python3.7/site-packages/xarray/coding/times.py:426: SerializationWarning: Unable to decode time axis into full numpy.datetime64 objects, continuing using cftime.datetime objects instead, reason: dates out of range\n",
      "  dtype = _decode_cf_datetime_dtype(data, units, calendar, self.use_cftime)\n",
      "/srv/conda/envs/notebook/lib/python3.7/site-packages/numpy/core/_asarray.py:85: SerializationWarning: Unable to decode time axis into full numpy.datetime64 objects, continuing using cftime.datetime objects instead, reason: dates out of range\n",
      "  return array(a, dtype, copy=False, order=order)\n",
      "/srv/conda/envs/notebook/lib/python3.7/site-packages/xarray/coding/times.py:426: SerializationWarning: Unable to decode time axis into full numpy.datetime64 objects, continuing using cftime.datetime objects instead, reason: dates out of range\n",
      "  dtype = _decode_cf_datetime_dtype(data, units, calendar, self.use_cftime)\n",
      "/srv/conda/envs/notebook/lib/python3.7/site-packages/xarray/coding/times.py:426: SerializationWarning: Unable to decode time axis into full numpy.datetime64 objects, continuing using cftime.datetime objects instead, reason: dates out of range\n",
      "  dtype = _decode_cf_datetime_dtype(data, units, calendar, self.use_cftime)\n",
      "/srv/conda/envs/notebook/lib/python3.7/site-packages/numpy/core/_asarray.py:85: SerializationWarning: Unable to decode time axis into full numpy.datetime64 objects, continuing using cftime.datetime objects instead, reason: dates out of range\n",
      "  return array(a, dtype, copy=False, order=order)\n"
     ]
    },
    {
     "name": "stdout",
     "output_type": "stream",
     "text": [
      "\n"
     ]
    }
   ],
   "source": [
    "dset_dict = cat.to_dataset_dict(zarr_kwargs={'consolidated': True, 'decode_times': False})\n",
    "\n",
    "ds_dict = {}\n",
    "for name, ds in tqdm(dset_dict.items()):\n",
    "    # rename spatial dimensions if necessary\n",
    "    if ('longitude' in ds.dims) and ('latitude' in ds.dims):\n",
    "        ds = ds.rename({'longitude':'lon', 'latitude': 'lat'}) # some models labelled dimensions differently...\n",
    "    ds = xr.decode_cf(ds) # temporary hack, not sure why I need this but has to do with calendar-aware metadata on the time variable\n",
    "#     ds = ds.sel(time=time_slice) # subset the data for the time period of interest\n",
    "    \n",
    "    # drop redundant variables (like \"height: 2m\")\n",
    "    for coord in ds.coords:\n",
    "        if coord not in ['lat','lon','time']:\n",
    "            ds = ds.drop(coord)\n",
    "    \n",
    "    # Add dataset to dictionary, selecting first member_id for each simulation since we'll just use\n",
    "    # one ensemble member right now\n",
    "    ds_dict[name] = ds.isel(member_id=0)"
   ]
  },
  {
   "cell_type": "code",
   "execution_count": 7,
   "metadata": {},
   "outputs": [],
   "source": [
    "def calculate_change(historic, future, percentage=True):\n",
    "    if percentage:\n",
    "        return (future - historic)/(historic) * 100\n",
    "    else:\n",
    "        return future - historic"
   ]
  },
  {
   "cell_type": "code",
   "execution_count": 8,
   "metadata": {},
   "outputs": [],
   "source": [
    "def annual_mean(ts):\n",
    "    return ts.mean(dim='time')"
   ]
  },
  {
   "cell_type": "code",
   "execution_count": 9,
   "metadata": {},
   "outputs": [],
   "source": [
    "def low_runoff(ts):\n",
    "    return ts.resample(time='M').mean().groupby('time.year').min().mean(dim='year')"
   ]
  },
  {
   "cell_type": "markdown",
   "metadata": {},
   "source": [
    "# regrid to a common grid"
   ]
  },
  {
   "cell_type": "code",
   "execution_count": 10,
   "metadata": {},
   "outputs": [
    {
     "name": "stdout",
     "output_type": "stream",
     "text": [
      "Reuse existing file: bilinear_160x320_192x288.nc\n",
      "Reuse existing file: bilinear_90x144_192x288.nc\n",
      "Reuse existing file: bilinear_64x128_192x288.nc\n",
      "Reuse existing file: bilinear_160x320_192x288.nc\n",
      "Reuse existing file: bilinear_128x256_192x288.nc\n",
      "Reuse existing file: bilinear_192x288_192x288.nc\n",
      "Reuse existing file: bilinear_144x192_192x288.nc\n",
      "Reuse existing file: bilinear_143x144_192x288.nc\n",
      "Reuse existing file: bilinear_144x192_192x288.nc\n"
     ]
    }
   ],
   "source": [
    "# specify the common grid based upon one of the higher resolution grids\n",
    "common_grid_ds = xr.Dataset({'lat': (['lat'], ds_dict['CMIP.NCAR.CESM2.historical.day.gn'].lat.values),\n",
    "                     'lon': (['lon'], ds_dict['CMIP.NCAR.CESM2.historical.day.gn'].lon.values)},)\n",
    "\n",
    "change_dict = {}\n",
    "for source_id in set(cat.df['source_id']):\n",
    "    institution_id = list(set(cat.df['institution_id'][cat.df['source_id']==source_id].values))[0]\n",
    "    if institution_id == 'EC-Earth-Consortium' or source_id == 'GFDL-ESM4' \\\n",
    "            or institution_id == 'CNRM-CERFACS' or source_id == 'HadGEM3-GC31-LL' \\\n",
    "    or source_id == 'BCC-ESM1' or source_id == 'MIROC-ES2L' or source_id == 'SAM0-UNICON' \\\n",
    "    or source_id == 'MPI-ESM1-2-HR': # this one just is doing something funky with its latitudes\n",
    "        continue\n",
    "    working_ds_historical = ds_dict['CMIP.{}.{}.historical.day.gn'.format(institution_id, source_id)][variable_of_interest]\n",
    "    working_ds_future = ds_dict['ScenarioMIP.{}.{}.ssp585.day.gn'.format(institution_id, source_id)][variable_of_interest]\n",
    "    \n",
    "    # make the regridder for these files\n",
    "    regridder = xe.Regridder(working_ds_historical, common_grid_ds, 'bilinear', reuse_weights=True) \n",
    "    \n",
    "    # select future and historical periods\n",
    "    runoff_historical = working_ds_historical.sel(time=historical_slice)\n",
    "    runoff_future = working_ds_future.sel(time=future_slice)\n",
    "    \n",
    "    \n",
    "    change_dict[source_id] = calculate_change(low_runoff(regridder(runoff_historical)), \n",
    "                                              low_runoff(regridder(runoff_future)))"
   ]
  },
  {
   "cell_type": "code",
   "execution_count": 11,
   "metadata": {},
   "outputs": [],
   "source": [
    "# combine all data arrays in the dictionary into a single dataset\n",
    "change_ds = xr.concat([change_dict[key] for key in change_dict.keys()], \n",
    "                      pd.Index(change_dict.keys(), name='gcm'))"
   ]
  },
  {
   "cell_type": "code",
   "execution_count": null,
   "metadata": {},
   "outputs": [
    {
     "name": "stderr",
     "output_type": "stream",
     "text": [
      "/srv/conda/envs/notebook/lib/python3.7/site-packages/dask/array/numpy_compat.py:40: RuntimeWarning: invalid value encountered in true_divide\n",
      "  x = np.divide(x1, x2, out)\n",
      "/srv/conda/envs/notebook/lib/python3.7/site-packages/dask/utils.py:29: RuntimeWarning: All-NaN slice encountered\n",
      "  return func(*args, **kwargs)\n",
      "/srv/conda/envs/notebook/lib/python3.7/site-packages/toolz/functoolz.py:488: RuntimeWarning: All-NaN slice encountered\n",
      "  ret = f(ret)\n",
      "/srv/conda/envs/notebook/lib/python3.7/site-packages/dask/core.py:119: RuntimeWarning: divide by zero encountered in true_divide\n",
      "  return func(*args2)\n",
      "/srv/conda/envs/notebook/lib/python3.7/site-packages/dask/core.py:119: RuntimeWarning: invalid value encountered in true_divide\n",
      "  return func(*args2)\n"
     ]
    }
   ],
   "source": [
    "fig, axarr = plt.subplots(nrows=1, ncols=1, figsize=(14,6),\n",
    "                          subplot_kw=dict(projection=ccrs.Robinson()))\n",
    "ax = axarr\n",
    "ax.set_global()\n",
    "ax.coastlines()\n",
    "q = change_ds.mean(dim='gcm').plot(ax=ax, \n",
    "                                transform=ccrs.PlateCarree(), \n",
    "                                vmin=-100, vmax=100, \n",
    "                                cmap='RdBu')\n",
    "\n",
    "ax.add_feature(cartopy.feature.COASTLINE)\n",
    "ax.add_feature(cartopy.feature.BORDERS, linestyle='-')\n",
    "plt.title('Global patterns of change in low runnof',fontsize=16, ha='center');\n",
    "plt.savefig('../figures/future_runoff_changes.png',dpi=100,bbox_inches='tight')"
   ]
  },
  {
   "cell_type": "markdown",
   "metadata": {},
   "source": [
    "# Pull in ERA data to understand biases"
   ]
  },
  {
   "cell_type": "code",
   "execution_count": 97,
   "metadata": {},
   "outputs": [],
   "source": [
    "ds = xr.open_zarr(fsspec.get_mapper('gcs://pangeo-era5/reanalysis/spatial-analysis'),\n",
    "                  consolidated=True,\n",
    "                  chunks='auto')"
   ]
  },
  {
   "cell_type": "code",
   "execution_count": 206,
   "metadata": {},
   "outputs": [
    {
     "ename": "AttributeError",
     "evalue": "'numpy.ndarray' object has no attribute 'set_global'",
     "output_type": "error",
     "traceback": [
      "\u001b[0;31m---------------------------------------------------------------------------\u001b[0m",
      "\u001b[0;31mAttributeError\u001b[0m                            Traceback (most recent call last)",
      "\u001b[0;32m<ipython-input-206-f6251772e621>\u001b[0m in \u001b[0;36m<module>\u001b[0;34m\u001b[0m\n\u001b[1;32m      3\u001b[0m \u001b[0;32mfor\u001b[0m \u001b[0;34m(\u001b[0m\u001b[0mi\u001b[0m\u001b[0;34m,\u001b[0m \u001b[0msource_id\u001b[0m\u001b[0;34m)\u001b[0m \u001b[0;32min\u001b[0m \u001b[0menumerate\u001b[0m\u001b[0;34m(\u001b[0m\u001b[0mchange_dict\u001b[0m\u001b[0;34m.\u001b[0m\u001b[0mkeys\u001b[0m\u001b[0;34m(\u001b[0m\u001b[0;34m)\u001b[0m\u001b[0;34m)\u001b[0m\u001b[0;34m:\u001b[0m\u001b[0;34m\u001b[0m\u001b[0;34m\u001b[0m\u001b[0m\n\u001b[1;32m      4\u001b[0m     \u001b[0max\u001b[0m \u001b[0;34m=\u001b[0m \u001b[0maxarr\u001b[0m\u001b[0;34m[\u001b[0m\u001b[0mi\u001b[0m\u001b[0;34m]\u001b[0m\u001b[0;34m\u001b[0m\u001b[0;34m\u001b[0m\u001b[0m\n\u001b[0;32m----> 5\u001b[0;31m     \u001b[0max\u001b[0m\u001b[0;34m.\u001b[0m\u001b[0mset_global\u001b[0m\u001b[0;34m(\u001b[0m\u001b[0;34m)\u001b[0m\u001b[0;34m\u001b[0m\u001b[0;34m\u001b[0m\u001b[0m\n\u001b[0m\u001b[1;32m      6\u001b[0m     \u001b[0max\u001b[0m\u001b[0;34m.\u001b[0m\u001b[0mcoastlines\u001b[0m\u001b[0;34m(\u001b[0m\u001b[0;34m)\u001b[0m\u001b[0;34m\u001b[0m\u001b[0;34m\u001b[0m\u001b[0m\n\u001b[1;32m      7\u001b[0m     q = change_dict[source_id].plot(ax=ax, \n",
      "\u001b[0;31mAttributeError\u001b[0m: 'numpy.ndarray' object has no attribute 'set_global'"
     ]
    },
    {
     "data": {
      "image/png": "[encoded data removed]",
      "text/plain": [
       "<Figure size 1008x432 with 9 Axes>"
      ]
     },
     "metadata": {
      "needs_background": "light"
     },
     "output_type": "display_data"
    }
   ],
   "source": [
    "fig, axarr = plt.subplots(nrows=3, ncols=3, figsize=(14,6),\n",
    "                          subplot_kw=dict(projection=ccrs.Robinson()))\n",
    "for (i, source_id) in enumerate(change_dict.keys()):\n",
    "    ax = axarr[i]\n",
    "    ax.set_global()\n",
    "    ax.coastlines()\n",
    "    q = change_ds.sel(gcm=gcm).plot(ax=ax, \n",
    "                                    transform=ccrs.PlateCarree(), \n",
    "                                    vmin=-100, vmax=100, \n",
    "                                    cmap='RdBu', add_colorbar=False) # plot a colormap in transformed coordinates\n",
    "\n",
    "    ax.add_feature(cartopy.feature.COASTLINE)\n",
    "    ax.add_feature(cartopy.feature.BORDERS, linestyle='-')\n",
    "    plt.title('Patterns of global annual runnof change',fontsize=16, ha='center');\n",
    "    # plt.savefig('../figures/future_runoff_changes.png',dpi=100,bbox_inches='tight')"
   ]
  },
  {
   "cell_type": "markdown",
   "metadata": {},
   "source": [
    "#To-do list\n",
    "* seasonal cycle (daily average for an average year within historical and future periods)\n",
    "* function for each of these temporal metrics:\n",
    "1. change in centroid of timing\n",
    "1. change in lowest 30 day period magnitude\n",
    "1. total deviation from the mean\n",
    "1. duration of low flow\n",
    "* function for each of these spatiotemporal metrics:\n",
    "1. within a given basin what is the variability - to-do in this is figureing out shapefile masking for river basins"
   ]
  },
  {
   "cell_type": "code",
   "execution_count": null,
   "metadata": {},
   "outputs": [],
   "source": []
  }
 ],
 "metadata": {
  "kernelspec": {
   "display_name": "Python 3",
   "language": "python",
   "name": "python3"
  },
  "language_info": {
   "codemirror_mode": {
    "name": "ipython",
    "version": 3
   },
   "file_extension": ".py",
   "mimetype": "text/x-python",
   "name": "python",
   "nbconvert_exporter": "python",
   "pygments_lexer": "ipython3",
   "version": "3.7.6"
  }
 },
 "nbformat": 4,
 "nbformat_minor": 4
}
